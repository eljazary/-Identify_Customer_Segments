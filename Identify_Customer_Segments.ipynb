{
 "cells": [
  {
   "cell_type": "markdown",
   "metadata": {},
   "source": [
    "# Project: Identify Customer Segments\n",
    "\n",
    "In this project, you will apply unsupervised learning techniques to identify segments of the population that form the core customer base for a mail-order sales company in Germany. These segments can then be used to direct marketing campaigns towards audiences that will have the highest expected rate of returns. The data that you will use has been provided by our partners at Bertelsmann Arvato Analytics, and represents a real-life data science task.\n",
    "\n",
    "This notebook will help you complete this task by providing a framework within which you will perform your analysis steps. In each step of the project, you will see some text describing the subtask that you will perform, followed by one or more code cells for you to complete your work. **Feel free to add additional code and markdown cells as you go along so that you can explore everything in precise chunks.** The code cells provided in the base template will outline only the major tasks, and will usually not be enough to cover all of the minor tasks that comprise it.\n",
    "\n",
    "It should be noted that while there will be precise guidelines on how you should handle certain tasks in the project, there will also be places where an exact specification is not provided. **There will be times in the project where you will need to make and justify your own decisions on how to treat the data.** These are places where there may not be only one way to handle the data. In real-life tasks, there may be many valid ways to approach an analysis task. One of the most important things you can do is clearly document your approach so that other scientists can understand the decisions you've made.\n",
    "\n",
    "At the end of most sections, there will be a Markdown cell labeled **Discussion**. In these cells, you will report your findings for the completed section, as well as document the decisions that you made in your approach to each subtask. **Your project will be evaluated not just on the code used to complete the tasks outlined, but also your communication about your observations and conclusions at each stage.**"
   ]
  },
  {
   "cell_type": "code",
   "execution_count": 1,
   "metadata": {},
   "outputs": [
    {
     "data": {
      "text/plain": [
       "'\\nImport note: The classroom currently uses sklearn version 0.19.\\nIf you need to use an imputer, it is available in sklearn.preprocessing.Imputer,\\ninstead of sklearn.impute as in newer versions of sklearn.\\n'"
      ]
     },
     "execution_count": 1,
     "metadata": {},
     "output_type": "execute_result"
    }
   ],
   "source": [
    "# import libraries here; add more as necessary\n",
    "import numpy as np\n",
    "import pandas as pd\n",
    "import matplotlib.pyplot as plt\n",
    "import seaborn as sns\n",
    "from sklearn.preprocessing import Imputer\n",
    "from sklearn.preprocessing import StandardScaler\n",
    "# magic word for producing visualizations in notebook\n",
    "%matplotlib inline\n",
    "\n",
    "'''\n",
    "Import note: The classroom currently uses sklearn version 0.19.\n",
    "If you need to use an imputer, it is available in sklearn.preprocessing.Imputer,\n",
    "instead of sklearn.impute as in newer versions of sklearn.\n",
    "'''"
   ]
  },
  {
   "cell_type": "markdown",
   "metadata": {},
   "source": [
    "### Step 0: Load the Data\n",
    "\n",
    "There are four files associated with this project (not including this one):\n",
    "\n",
    "- `Udacity_AZDIAS_Subset.csv`: Demographics data for the general population of Germany; 891211 persons (rows) x 85 features (columns).\n",
    "- `Udacity_CUSTOMERS_Subset.csv`: Demographics data for customers of a mail-order company; 191652 persons (rows) x 85 features (columns).\n",
    "- `Data_Dictionary.md`: Detailed information file about the features in the provided datasets.\n",
    "- `AZDIAS_Feature_Summary.csv`: Summary of feature attributes for demographics data; 85 features (rows) x 4 columns\n",
    "\n",
    "Each row of the demographics files represents a single person, but also includes information outside of individuals, including information about their household, building, and neighborhood. You will use this information to cluster the general population into groups with similar demographic properties. Then, you will see how the people in the customers dataset fit into those created clusters. The hope here is that certain clusters are over-represented in the customers data, as compared to the general population; those over-represented clusters will be assumed to be part of the core userbase. This information can then be used for further applications, such as targeting for a marketing campaign.\n",
    "\n",
    "To start off with, load in the demographics data for the general population into a pandas DataFrame, and do the same for the feature attributes summary. Note for all of the `.csv` data files in this project: they're semicolon (`;`) delimited, so you'll need an additional argument in your [`read_csv()`](https://pandas.pydata.org/pandas-docs/stable/generated/pandas.read_csv.html) call to read in the data properly. Also, considering the size of the main dataset, it may take some time for it to load completely.\n",
    "\n",
    "Once the dataset is loaded, it's recommended that you take a little bit of time just browsing the general structure of the dataset and feature summary file. You'll be getting deep into the innards of the cleaning in the first major step of the project, so gaining some general familiarity can help you get your bearings."
   ]
  },
  {
   "cell_type": "code",
   "execution_count": 2,
   "metadata": {},
   "outputs": [],
   "source": [
    "# Load in the general demographics data.\n",
    "azdias = pd.read_csv('Udacity_AZDIAS_Subset.csv', sep=';')\n",
    "\n",
    "# Load in the feature summary file.\n",
    "feat_info = pd.read_csv('AZDIAS_Feature_Summary.csv',  sep=';')\n",
    "\n",
    "#load in customer_subset \n",
    "Customer_subset = pd.read_csv('Udacity_CUSTOMERS_Subset.csv', sep=';')"
   ]
  },
  {
   "cell_type": "code",
   "execution_count": 3,
   "metadata": {
    "scrolled": false
   },
   "outputs": [
    {
     "data": {
      "text/html": [
       "<div>\n",
       "<style scoped>\n",
       "    .dataframe tbody tr th:only-of-type {\n",
       "        vertical-align: middle;\n",
       "    }\n",
       "\n",
       "    .dataframe tbody tr th {\n",
       "        vertical-align: top;\n",
       "    }\n",
       "\n",
       "    .dataframe thead th {\n",
       "        text-align: right;\n",
       "    }\n",
       "</style>\n",
       "<table border=\"1\" class=\"dataframe\">\n",
       "  <thead>\n",
       "    <tr style=\"text-align: right;\">\n",
       "      <th></th>\n",
       "      <th>AGER_TYP</th>\n",
       "      <th>ALTERSKATEGORIE_GROB</th>\n",
       "      <th>ANREDE_KZ</th>\n",
       "      <th>CJT_GESAMTTYP</th>\n",
       "      <th>FINANZ_MINIMALIST</th>\n",
       "      <th>FINANZ_SPARER</th>\n",
       "      <th>FINANZ_VORSORGER</th>\n",
       "      <th>FINANZ_ANLEGER</th>\n",
       "      <th>FINANZ_UNAUFFAELLIGER</th>\n",
       "      <th>FINANZ_HAUSBAUER</th>\n",
       "      <th>...</th>\n",
       "      <th>PLZ8_ANTG1</th>\n",
       "      <th>PLZ8_ANTG2</th>\n",
       "      <th>PLZ8_ANTG3</th>\n",
       "      <th>PLZ8_ANTG4</th>\n",
       "      <th>PLZ8_BAUMAX</th>\n",
       "      <th>PLZ8_HHZ</th>\n",
       "      <th>PLZ8_GBZ</th>\n",
       "      <th>ARBEIT</th>\n",
       "      <th>ORTSGR_KLS9</th>\n",
       "      <th>RELAT_AB</th>\n",
       "    </tr>\n",
       "  </thead>\n",
       "  <tbody>\n",
       "    <tr>\n",
       "      <th>0</th>\n",
       "      <td>-1</td>\n",
       "      <td>2</td>\n",
       "      <td>1</td>\n",
       "      <td>2.0</td>\n",
       "      <td>3</td>\n",
       "      <td>4</td>\n",
       "      <td>3</td>\n",
       "      <td>5</td>\n",
       "      <td>5</td>\n",
       "      <td>3</td>\n",
       "      <td>...</td>\n",
       "      <td>NaN</td>\n",
       "      <td>NaN</td>\n",
       "      <td>NaN</td>\n",
       "      <td>NaN</td>\n",
       "      <td>NaN</td>\n",
       "      <td>NaN</td>\n",
       "      <td>NaN</td>\n",
       "      <td>NaN</td>\n",
       "      <td>NaN</td>\n",
       "      <td>NaN</td>\n",
       "    </tr>\n",
       "    <tr>\n",
       "      <th>1</th>\n",
       "      <td>-1</td>\n",
       "      <td>1</td>\n",
       "      <td>2</td>\n",
       "      <td>5.0</td>\n",
       "      <td>1</td>\n",
       "      <td>5</td>\n",
       "      <td>2</td>\n",
       "      <td>5</td>\n",
       "      <td>4</td>\n",
       "      <td>5</td>\n",
       "      <td>...</td>\n",
       "      <td>2.0</td>\n",
       "      <td>3.0</td>\n",
       "      <td>2.0</td>\n",
       "      <td>1.0</td>\n",
       "      <td>1.0</td>\n",
       "      <td>5.0</td>\n",
       "      <td>4.0</td>\n",
       "      <td>3.0</td>\n",
       "      <td>5.0</td>\n",
       "      <td>4.0</td>\n",
       "    </tr>\n",
       "    <tr>\n",
       "      <th>2</th>\n",
       "      <td>-1</td>\n",
       "      <td>3</td>\n",
       "      <td>2</td>\n",
       "      <td>3.0</td>\n",
       "      <td>1</td>\n",
       "      <td>4</td>\n",
       "      <td>1</td>\n",
       "      <td>2</td>\n",
       "      <td>3</td>\n",
       "      <td>5</td>\n",
       "      <td>...</td>\n",
       "      <td>3.0</td>\n",
       "      <td>3.0</td>\n",
       "      <td>1.0</td>\n",
       "      <td>0.0</td>\n",
       "      <td>1.0</td>\n",
       "      <td>4.0</td>\n",
       "      <td>4.0</td>\n",
       "      <td>3.0</td>\n",
       "      <td>5.0</td>\n",
       "      <td>2.0</td>\n",
       "    </tr>\n",
       "    <tr>\n",
       "      <th>3</th>\n",
       "      <td>2</td>\n",
       "      <td>4</td>\n",
       "      <td>2</td>\n",
       "      <td>2.0</td>\n",
       "      <td>4</td>\n",
       "      <td>2</td>\n",
       "      <td>5</td>\n",
       "      <td>2</td>\n",
       "      <td>1</td>\n",
       "      <td>2</td>\n",
       "      <td>...</td>\n",
       "      <td>2.0</td>\n",
       "      <td>2.0</td>\n",
       "      <td>2.0</td>\n",
       "      <td>0.0</td>\n",
       "      <td>1.0</td>\n",
       "      <td>3.0</td>\n",
       "      <td>4.0</td>\n",
       "      <td>2.0</td>\n",
       "      <td>3.0</td>\n",
       "      <td>3.0</td>\n",
       "    </tr>\n",
       "    <tr>\n",
       "      <th>4</th>\n",
       "      <td>-1</td>\n",
       "      <td>3</td>\n",
       "      <td>1</td>\n",
       "      <td>5.0</td>\n",
       "      <td>4</td>\n",
       "      <td>3</td>\n",
       "      <td>4</td>\n",
       "      <td>1</td>\n",
       "      <td>3</td>\n",
       "      <td>2</td>\n",
       "      <td>...</td>\n",
       "      <td>2.0</td>\n",
       "      <td>4.0</td>\n",
       "      <td>2.0</td>\n",
       "      <td>1.0</td>\n",
       "      <td>2.0</td>\n",
       "      <td>3.0</td>\n",
       "      <td>3.0</td>\n",
       "      <td>4.0</td>\n",
       "      <td>6.0</td>\n",
       "      <td>5.0</td>\n",
       "    </tr>\n",
       "  </tbody>\n",
       "</table>\n",
       "<p>5 rows × 85 columns</p>\n",
       "</div>"
      ],
      "text/plain": [
       "   AGER_TYP  ALTERSKATEGORIE_GROB  ANREDE_KZ  CJT_GESAMTTYP  \\\n",
       "0        -1                     2          1            2.0   \n",
       "1        -1                     1          2            5.0   \n",
       "2        -1                     3          2            3.0   \n",
       "3         2                     4          2            2.0   \n",
       "4        -1                     3          1            5.0   \n",
       "\n",
       "   FINANZ_MINIMALIST  FINANZ_SPARER  FINANZ_VORSORGER  FINANZ_ANLEGER  \\\n",
       "0                  3              4                 3               5   \n",
       "1                  1              5                 2               5   \n",
       "2                  1              4                 1               2   \n",
       "3                  4              2                 5               2   \n",
       "4                  4              3                 4               1   \n",
       "\n",
       "   FINANZ_UNAUFFAELLIGER  FINANZ_HAUSBAUER    ...     PLZ8_ANTG1  PLZ8_ANTG2  \\\n",
       "0                      5                 3    ...            NaN         NaN   \n",
       "1                      4                 5    ...            2.0         3.0   \n",
       "2                      3                 5    ...            3.0         3.0   \n",
       "3                      1                 2    ...            2.0         2.0   \n",
       "4                      3                 2    ...            2.0         4.0   \n",
       "\n",
       "   PLZ8_ANTG3  PLZ8_ANTG4  PLZ8_BAUMAX  PLZ8_HHZ  PLZ8_GBZ  ARBEIT  \\\n",
       "0         NaN         NaN          NaN       NaN       NaN     NaN   \n",
       "1         2.0         1.0          1.0       5.0       4.0     3.0   \n",
       "2         1.0         0.0          1.0       4.0       4.0     3.0   \n",
       "3         2.0         0.0          1.0       3.0       4.0     2.0   \n",
       "4         2.0         1.0          2.0       3.0       3.0     4.0   \n",
       "\n",
       "   ORTSGR_KLS9  RELAT_AB  \n",
       "0          NaN       NaN  \n",
       "1          5.0       4.0  \n",
       "2          5.0       2.0  \n",
       "3          3.0       3.0  \n",
       "4          6.0       5.0  \n",
       "\n",
       "[5 rows x 85 columns]"
      ]
     },
     "execution_count": 3,
     "metadata": {},
     "output_type": "execute_result"
    }
   ],
   "source": [
    "azdias.head()\n"
   ]
  },
  {
   "cell_type": "code",
   "execution_count": 4,
   "metadata": {},
   "outputs": [
    {
     "data": {
      "text/html": [
       "<div>\n",
       "<style scoped>\n",
       "    .dataframe tbody tr th:only-of-type {\n",
       "        vertical-align: middle;\n",
       "    }\n",
       "\n",
       "    .dataframe tbody tr th {\n",
       "        vertical-align: top;\n",
       "    }\n",
       "\n",
       "    .dataframe thead th {\n",
       "        text-align: right;\n",
       "    }\n",
       "</style>\n",
       "<table border=\"1\" class=\"dataframe\">\n",
       "  <thead>\n",
       "    <tr style=\"text-align: right;\">\n",
       "      <th></th>\n",
       "      <th>AGER_TYP</th>\n",
       "      <th>ALTERSKATEGORIE_GROB</th>\n",
       "      <th>ANREDE_KZ</th>\n",
       "      <th>CJT_GESAMTTYP</th>\n",
       "      <th>FINANZ_MINIMALIST</th>\n",
       "      <th>FINANZ_SPARER</th>\n",
       "      <th>FINANZ_VORSORGER</th>\n",
       "      <th>FINANZ_ANLEGER</th>\n",
       "      <th>FINANZ_UNAUFFAELLIGER</th>\n",
       "      <th>FINANZ_HAUSBAUER</th>\n",
       "      <th>...</th>\n",
       "      <th>PLZ8_ANTG1</th>\n",
       "      <th>PLZ8_ANTG2</th>\n",
       "      <th>PLZ8_ANTG3</th>\n",
       "      <th>PLZ8_ANTG4</th>\n",
       "      <th>PLZ8_BAUMAX</th>\n",
       "      <th>PLZ8_HHZ</th>\n",
       "      <th>PLZ8_GBZ</th>\n",
       "      <th>ARBEIT</th>\n",
       "      <th>ORTSGR_KLS9</th>\n",
       "      <th>RELAT_AB</th>\n",
       "    </tr>\n",
       "  </thead>\n",
       "  <tbody>\n",
       "    <tr>\n",
       "      <th>0</th>\n",
       "      <td>2</td>\n",
       "      <td>4</td>\n",
       "      <td>1</td>\n",
       "      <td>5.0</td>\n",
       "      <td>5</td>\n",
       "      <td>1</td>\n",
       "      <td>5</td>\n",
       "      <td>1</td>\n",
       "      <td>2</td>\n",
       "      <td>2</td>\n",
       "      <td>...</td>\n",
       "      <td>3.0</td>\n",
       "      <td>3.0</td>\n",
       "      <td>1.0</td>\n",
       "      <td>0.0</td>\n",
       "      <td>1.0</td>\n",
       "      <td>5.0</td>\n",
       "      <td>5.0</td>\n",
       "      <td>1.0</td>\n",
       "      <td>2.0</td>\n",
       "      <td>1.0</td>\n",
       "    </tr>\n",
       "    <tr>\n",
       "      <th>1</th>\n",
       "      <td>-1</td>\n",
       "      <td>4</td>\n",
       "      <td>1</td>\n",
       "      <td>NaN</td>\n",
       "      <td>5</td>\n",
       "      <td>1</td>\n",
       "      <td>5</td>\n",
       "      <td>1</td>\n",
       "      <td>3</td>\n",
       "      <td>2</td>\n",
       "      <td>...</td>\n",
       "      <td>NaN</td>\n",
       "      <td>NaN</td>\n",
       "      <td>NaN</td>\n",
       "      <td>NaN</td>\n",
       "      <td>NaN</td>\n",
       "      <td>NaN</td>\n",
       "      <td>NaN</td>\n",
       "      <td>NaN</td>\n",
       "      <td>NaN</td>\n",
       "      <td>NaN</td>\n",
       "    </tr>\n",
       "    <tr>\n",
       "      <th>2</th>\n",
       "      <td>-1</td>\n",
       "      <td>4</td>\n",
       "      <td>2</td>\n",
       "      <td>2.0</td>\n",
       "      <td>5</td>\n",
       "      <td>1</td>\n",
       "      <td>5</td>\n",
       "      <td>1</td>\n",
       "      <td>4</td>\n",
       "      <td>4</td>\n",
       "      <td>...</td>\n",
       "      <td>2.0</td>\n",
       "      <td>3.0</td>\n",
       "      <td>3.0</td>\n",
       "      <td>1.0</td>\n",
       "      <td>3.0</td>\n",
       "      <td>3.0</td>\n",
       "      <td>2.0</td>\n",
       "      <td>3.0</td>\n",
       "      <td>5.0</td>\n",
       "      <td>3.0</td>\n",
       "    </tr>\n",
       "    <tr>\n",
       "      <th>3</th>\n",
       "      <td>1</td>\n",
       "      <td>4</td>\n",
       "      <td>1</td>\n",
       "      <td>2.0</td>\n",
       "      <td>5</td>\n",
       "      <td>1</td>\n",
       "      <td>5</td>\n",
       "      <td>2</td>\n",
       "      <td>1</td>\n",
       "      <td>2</td>\n",
       "      <td>...</td>\n",
       "      <td>3.0</td>\n",
       "      <td>2.0</td>\n",
       "      <td>1.0</td>\n",
       "      <td>0.0</td>\n",
       "      <td>1.0</td>\n",
       "      <td>3.0</td>\n",
       "      <td>4.0</td>\n",
       "      <td>1.0</td>\n",
       "      <td>3.0</td>\n",
       "      <td>1.0</td>\n",
       "    </tr>\n",
       "    <tr>\n",
       "      <th>4</th>\n",
       "      <td>-1</td>\n",
       "      <td>3</td>\n",
       "      <td>1</td>\n",
       "      <td>6.0</td>\n",
       "      <td>3</td>\n",
       "      <td>1</td>\n",
       "      <td>4</td>\n",
       "      <td>4</td>\n",
       "      <td>5</td>\n",
       "      <td>2</td>\n",
       "      <td>...</td>\n",
       "      <td>2.0</td>\n",
       "      <td>4.0</td>\n",
       "      <td>2.0</td>\n",
       "      <td>1.0</td>\n",
       "      <td>2.0</td>\n",
       "      <td>3.0</td>\n",
       "      <td>3.0</td>\n",
       "      <td>3.0</td>\n",
       "      <td>5.0</td>\n",
       "      <td>1.0</td>\n",
       "    </tr>\n",
       "    <tr>\n",
       "      <th>5</th>\n",
       "      <td>1</td>\n",
       "      <td>3</td>\n",
       "      <td>1</td>\n",
       "      <td>4.0</td>\n",
       "      <td>5</td>\n",
       "      <td>1</td>\n",
       "      <td>5</td>\n",
       "      <td>1</td>\n",
       "      <td>2</td>\n",
       "      <td>3</td>\n",
       "      <td>...</td>\n",
       "      <td>2.0</td>\n",
       "      <td>3.0</td>\n",
       "      <td>2.0</td>\n",
       "      <td>1.0</td>\n",
       "      <td>1.0</td>\n",
       "      <td>5.0</td>\n",
       "      <td>5.0</td>\n",
       "      <td>3.0</td>\n",
       "      <td>7.0</td>\n",
       "      <td>5.0</td>\n",
       "    </tr>\n",
       "    <tr>\n",
       "      <th>6</th>\n",
       "      <td>2</td>\n",
       "      <td>4</td>\n",
       "      <td>1</td>\n",
       "      <td>2.0</td>\n",
       "      <td>5</td>\n",
       "      <td>1</td>\n",
       "      <td>5</td>\n",
       "      <td>1</td>\n",
       "      <td>1</td>\n",
       "      <td>2</td>\n",
       "      <td>...</td>\n",
       "      <td>3.0</td>\n",
       "      <td>2.0</td>\n",
       "      <td>1.0</td>\n",
       "      <td>0.0</td>\n",
       "      <td>1.0</td>\n",
       "      <td>5.0</td>\n",
       "      <td>5.0</td>\n",
       "      <td>2.0</td>\n",
       "      <td>3.0</td>\n",
       "      <td>2.0</td>\n",
       "    </tr>\n",
       "    <tr>\n",
       "      <th>7</th>\n",
       "      <td>1</td>\n",
       "      <td>4</td>\n",
       "      <td>1</td>\n",
       "      <td>2.0</td>\n",
       "      <td>5</td>\n",
       "      <td>1</td>\n",
       "      <td>5</td>\n",
       "      <td>1</td>\n",
       "      <td>2</td>\n",
       "      <td>2</td>\n",
       "      <td>...</td>\n",
       "      <td>3.0</td>\n",
       "      <td>3.0</td>\n",
       "      <td>1.0</td>\n",
       "      <td>1.0</td>\n",
       "      <td>1.0</td>\n",
       "      <td>3.0</td>\n",
       "      <td>3.0</td>\n",
       "      <td>3.0</td>\n",
       "      <td>4.0</td>\n",
       "      <td>3.0</td>\n",
       "    </tr>\n",
       "    <tr>\n",
       "      <th>8</th>\n",
       "      <td>2</td>\n",
       "      <td>4</td>\n",
       "      <td>2</td>\n",
       "      <td>1.0</td>\n",
       "      <td>2</td>\n",
       "      <td>2</td>\n",
       "      <td>5</td>\n",
       "      <td>1</td>\n",
       "      <td>1</td>\n",
       "      <td>5</td>\n",
       "      <td>...</td>\n",
       "      <td>1.0</td>\n",
       "      <td>4.0</td>\n",
       "      <td>2.0</td>\n",
       "      <td>1.0</td>\n",
       "      <td>5.0</td>\n",
       "      <td>5.0</td>\n",
       "      <td>4.0</td>\n",
       "      <td>3.0</td>\n",
       "      <td>8.0</td>\n",
       "      <td>3.0</td>\n",
       "    </tr>\n",
       "    <tr>\n",
       "      <th>9</th>\n",
       "      <td>1</td>\n",
       "      <td>3</td>\n",
       "      <td>1</td>\n",
       "      <td>3.0</td>\n",
       "      <td>5</td>\n",
       "      <td>2</td>\n",
       "      <td>4</td>\n",
       "      <td>1</td>\n",
       "      <td>3</td>\n",
       "      <td>1</td>\n",
       "      <td>...</td>\n",
       "      <td>3.0</td>\n",
       "      <td>3.0</td>\n",
       "      <td>1.0</td>\n",
       "      <td>0.0</td>\n",
       "      <td>1.0</td>\n",
       "      <td>5.0</td>\n",
       "      <td>5.0</td>\n",
       "      <td>3.0</td>\n",
       "      <td>6.0</td>\n",
       "      <td>4.0</td>\n",
       "    </tr>\n",
       "    <tr>\n",
       "      <th>10</th>\n",
       "      <td>-1</td>\n",
       "      <td>3</td>\n",
       "      <td>2</td>\n",
       "      <td>5.0</td>\n",
       "      <td>4</td>\n",
       "      <td>2</td>\n",
       "      <td>4</td>\n",
       "      <td>4</td>\n",
       "      <td>3</td>\n",
       "      <td>1</td>\n",
       "      <td>...</td>\n",
       "      <td>NaN</td>\n",
       "      <td>NaN</td>\n",
       "      <td>NaN</td>\n",
       "      <td>NaN</td>\n",
       "      <td>NaN</td>\n",
       "      <td>NaN</td>\n",
       "      <td>NaN</td>\n",
       "      <td>NaN</td>\n",
       "      <td>NaN</td>\n",
       "      <td>NaN</td>\n",
       "    </tr>\n",
       "    <tr>\n",
       "      <th>11</th>\n",
       "      <td>1</td>\n",
       "      <td>4</td>\n",
       "      <td>1</td>\n",
       "      <td>3.0</td>\n",
       "      <td>5</td>\n",
       "      <td>1</td>\n",
       "      <td>5</td>\n",
       "      <td>1</td>\n",
       "      <td>3</td>\n",
       "      <td>2</td>\n",
       "      <td>...</td>\n",
       "      <td>4.0</td>\n",
       "      <td>2.0</td>\n",
       "      <td>1.0</td>\n",
       "      <td>0.0</td>\n",
       "      <td>1.0</td>\n",
       "      <td>3.0</td>\n",
       "      <td>3.0</td>\n",
       "      <td>2.0</td>\n",
       "      <td>5.0</td>\n",
       "      <td>1.0</td>\n",
       "    </tr>\n",
       "    <tr>\n",
       "      <th>12</th>\n",
       "      <td>-1</td>\n",
       "      <td>4</td>\n",
       "      <td>1</td>\n",
       "      <td>5.0</td>\n",
       "      <td>5</td>\n",
       "      <td>2</td>\n",
       "      <td>4</td>\n",
       "      <td>3</td>\n",
       "      <td>2</td>\n",
       "      <td>1</td>\n",
       "      <td>...</td>\n",
       "      <td>3.0</td>\n",
       "      <td>1.0</td>\n",
       "      <td>0.0</td>\n",
       "      <td>0.0</td>\n",
       "      <td>1.0</td>\n",
       "      <td>4.0</td>\n",
       "      <td>5.0</td>\n",
       "      <td>1.0</td>\n",
       "      <td>1.0</td>\n",
       "      <td>1.0</td>\n",
       "    </tr>\n",
       "    <tr>\n",
       "      <th>13</th>\n",
       "      <td>-1</td>\n",
       "      <td>3</td>\n",
       "      <td>1</td>\n",
       "      <td>6.0</td>\n",
       "      <td>5</td>\n",
       "      <td>2</td>\n",
       "      <td>4</td>\n",
       "      <td>2</td>\n",
       "      <td>4</td>\n",
       "      <td>1</td>\n",
       "      <td>...</td>\n",
       "      <td>3.0</td>\n",
       "      <td>3.0</td>\n",
       "      <td>1.0</td>\n",
       "      <td>0.0</td>\n",
       "      <td>1.0</td>\n",
       "      <td>4.0</td>\n",
       "      <td>4.0</td>\n",
       "      <td>4.0</td>\n",
       "      <td>5.0</td>\n",
       "      <td>5.0</td>\n",
       "    </tr>\n",
       "    <tr>\n",
       "      <th>14</th>\n",
       "      <td>2</td>\n",
       "      <td>4</td>\n",
       "      <td>2</td>\n",
       "      <td>2.0</td>\n",
       "      <td>3</td>\n",
       "      <td>1</td>\n",
       "      <td>5</td>\n",
       "      <td>1</td>\n",
       "      <td>2</td>\n",
       "      <td>5</td>\n",
       "      <td>...</td>\n",
       "      <td>1.0</td>\n",
       "      <td>4.0</td>\n",
       "      <td>3.0</td>\n",
       "      <td>1.0</td>\n",
       "      <td>3.0</td>\n",
       "      <td>5.0</td>\n",
       "      <td>3.0</td>\n",
       "      <td>3.0</td>\n",
       "      <td>8.0</td>\n",
       "      <td>5.0</td>\n",
       "    </tr>\n",
       "  </tbody>\n",
       "</table>\n",
       "<p>15 rows × 85 columns</p>\n",
       "</div>"
      ],
      "text/plain": [
       "    AGER_TYP  ALTERSKATEGORIE_GROB  ANREDE_KZ  CJT_GESAMTTYP  \\\n",
       "0          2                     4          1            5.0   \n",
       "1         -1                     4          1            NaN   \n",
       "2         -1                     4          2            2.0   \n",
       "3          1                     4          1            2.0   \n",
       "4         -1                     3          1            6.0   \n",
       "5          1                     3          1            4.0   \n",
       "6          2                     4          1            2.0   \n",
       "7          1                     4          1            2.0   \n",
       "8          2                     4          2            1.0   \n",
       "9          1                     3          1            3.0   \n",
       "10        -1                     3          2            5.0   \n",
       "11         1                     4          1            3.0   \n",
       "12        -1                     4          1            5.0   \n",
       "13        -1                     3          1            6.0   \n",
       "14         2                     4          2            2.0   \n",
       "\n",
       "    FINANZ_MINIMALIST  FINANZ_SPARER  FINANZ_VORSORGER  FINANZ_ANLEGER  \\\n",
       "0                   5              1                 5               1   \n",
       "1                   5              1                 5               1   \n",
       "2                   5              1                 5               1   \n",
       "3                   5              1                 5               2   \n",
       "4                   3              1                 4               4   \n",
       "5                   5              1                 5               1   \n",
       "6                   5              1                 5               1   \n",
       "7                   5              1                 5               1   \n",
       "8                   2              2                 5               1   \n",
       "9                   5              2                 4               1   \n",
       "10                  4              2                 4               4   \n",
       "11                  5              1                 5               1   \n",
       "12                  5              2                 4               3   \n",
       "13                  5              2                 4               2   \n",
       "14                  3              1                 5               1   \n",
       "\n",
       "    FINANZ_UNAUFFAELLIGER  FINANZ_HAUSBAUER    ...     PLZ8_ANTG1  PLZ8_ANTG2  \\\n",
       "0                       2                 2    ...            3.0         3.0   \n",
       "1                       3                 2    ...            NaN         NaN   \n",
       "2                       4                 4    ...            2.0         3.0   \n",
       "3                       1                 2    ...            3.0         2.0   \n",
       "4                       5                 2    ...            2.0         4.0   \n",
       "5                       2                 3    ...            2.0         3.0   \n",
       "6                       1                 2    ...            3.0         2.0   \n",
       "7                       2                 2    ...            3.0         3.0   \n",
       "8                       1                 5    ...            1.0         4.0   \n",
       "9                       3                 1    ...            3.0         3.0   \n",
       "10                      3                 1    ...            NaN         NaN   \n",
       "11                      3                 2    ...            4.0         2.0   \n",
       "12                      2                 1    ...            3.0         1.0   \n",
       "13                      4                 1    ...            3.0         3.0   \n",
       "14                      2                 5    ...            1.0         4.0   \n",
       "\n",
       "    PLZ8_ANTG3  PLZ8_ANTG4  PLZ8_BAUMAX  PLZ8_HHZ  PLZ8_GBZ  ARBEIT  \\\n",
       "0          1.0         0.0          1.0       5.0       5.0     1.0   \n",
       "1          NaN         NaN          NaN       NaN       NaN     NaN   \n",
       "2          3.0         1.0          3.0       3.0       2.0     3.0   \n",
       "3          1.0         0.0          1.0       3.0       4.0     1.0   \n",
       "4          2.0         1.0          2.0       3.0       3.0     3.0   \n",
       "5          2.0         1.0          1.0       5.0       5.0     3.0   \n",
       "6          1.0         0.0          1.0       5.0       5.0     2.0   \n",
       "7          1.0         1.0          1.0       3.0       3.0     3.0   \n",
       "8          2.0         1.0          5.0       5.0       4.0     3.0   \n",
       "9          1.0         0.0          1.0       5.0       5.0     3.0   \n",
       "10         NaN         NaN          NaN       NaN       NaN     NaN   \n",
       "11         1.0         0.0          1.0       3.0       3.0     2.0   \n",
       "12         0.0         0.0          1.0       4.0       5.0     1.0   \n",
       "13         1.0         0.0          1.0       4.0       4.0     4.0   \n",
       "14         3.0         1.0          3.0       5.0       3.0     3.0   \n",
       "\n",
       "    ORTSGR_KLS9  RELAT_AB  \n",
       "0           2.0       1.0  \n",
       "1           NaN       NaN  \n",
       "2           5.0       3.0  \n",
       "3           3.0       1.0  \n",
       "4           5.0       1.0  \n",
       "5           7.0       5.0  \n",
       "6           3.0       2.0  \n",
       "7           4.0       3.0  \n",
       "8           8.0       3.0  \n",
       "9           6.0       4.0  \n",
       "10          NaN       NaN  \n",
       "11          5.0       1.0  \n",
       "12          1.0       1.0  \n",
       "13          5.0       5.0  \n",
       "14          8.0       5.0  \n",
       "\n",
       "[15 rows x 85 columns]"
      ]
     },
     "execution_count": 4,
     "metadata": {},
     "output_type": "execute_result"
    }
   ],
   "source": [
    "Customer_subset.head(n=15)"
   ]
  },
  {
   "cell_type": "code",
   "execution_count": 5,
   "metadata": {
    "scrolled": true
   },
   "outputs": [
    {
     "data": {
      "text/html": [
       "<div>\n",
       "<style scoped>\n",
       "    .dataframe tbody tr th:only-of-type {\n",
       "        vertical-align: middle;\n",
       "    }\n",
       "\n",
       "    .dataframe tbody tr th {\n",
       "        vertical-align: top;\n",
       "    }\n",
       "\n",
       "    .dataframe thead th {\n",
       "        text-align: right;\n",
       "    }\n",
       "</style>\n",
       "<table border=\"1\" class=\"dataframe\">\n",
       "  <thead>\n",
       "    <tr style=\"text-align: right;\">\n",
       "      <th></th>\n",
       "      <th>AGER_TYP</th>\n",
       "      <th>ALTERSKATEGORIE_GROB</th>\n",
       "      <th>ANREDE_KZ</th>\n",
       "      <th>CJT_GESAMTTYP</th>\n",
       "      <th>FINANZ_MINIMALIST</th>\n",
       "      <th>FINANZ_SPARER</th>\n",
       "      <th>FINANZ_VORSORGER</th>\n",
       "      <th>FINANZ_ANLEGER</th>\n",
       "      <th>FINANZ_UNAUFFAELLIGER</th>\n",
       "      <th>FINANZ_HAUSBAUER</th>\n",
       "      <th>...</th>\n",
       "      <th>PLZ8_ANTG1</th>\n",
       "      <th>PLZ8_ANTG2</th>\n",
       "      <th>PLZ8_ANTG3</th>\n",
       "      <th>PLZ8_ANTG4</th>\n",
       "      <th>PLZ8_BAUMAX</th>\n",
       "      <th>PLZ8_HHZ</th>\n",
       "      <th>PLZ8_GBZ</th>\n",
       "      <th>ARBEIT</th>\n",
       "      <th>ORTSGR_KLS9</th>\n",
       "      <th>RELAT_AB</th>\n",
       "    </tr>\n",
       "  </thead>\n",
       "  <tbody>\n",
       "    <tr>\n",
       "      <th>0</th>\n",
       "      <td>-1</td>\n",
       "      <td>2</td>\n",
       "      <td>1</td>\n",
       "      <td>2.0</td>\n",
       "      <td>3</td>\n",
       "      <td>4</td>\n",
       "      <td>3</td>\n",
       "      <td>5</td>\n",
       "      <td>5</td>\n",
       "      <td>3</td>\n",
       "      <td>...</td>\n",
       "      <td>NaN</td>\n",
       "      <td>NaN</td>\n",
       "      <td>NaN</td>\n",
       "      <td>NaN</td>\n",
       "      <td>NaN</td>\n",
       "      <td>NaN</td>\n",
       "      <td>NaN</td>\n",
       "      <td>NaN</td>\n",
       "      <td>NaN</td>\n",
       "      <td>NaN</td>\n",
       "    </tr>\n",
       "    <tr>\n",
       "      <th>1</th>\n",
       "      <td>-1</td>\n",
       "      <td>1</td>\n",
       "      <td>2</td>\n",
       "      <td>5.0</td>\n",
       "      <td>1</td>\n",
       "      <td>5</td>\n",
       "      <td>2</td>\n",
       "      <td>5</td>\n",
       "      <td>4</td>\n",
       "      <td>5</td>\n",
       "      <td>...</td>\n",
       "      <td>2.0</td>\n",
       "      <td>3.0</td>\n",
       "      <td>2.0</td>\n",
       "      <td>1.0</td>\n",
       "      <td>1.0</td>\n",
       "      <td>5.0</td>\n",
       "      <td>4.0</td>\n",
       "      <td>3.0</td>\n",
       "      <td>5.0</td>\n",
       "      <td>4.0</td>\n",
       "    </tr>\n",
       "    <tr>\n",
       "      <th>2</th>\n",
       "      <td>-1</td>\n",
       "      <td>3</td>\n",
       "      <td>2</td>\n",
       "      <td>3.0</td>\n",
       "      <td>1</td>\n",
       "      <td>4</td>\n",
       "      <td>1</td>\n",
       "      <td>2</td>\n",
       "      <td>3</td>\n",
       "      <td>5</td>\n",
       "      <td>...</td>\n",
       "      <td>3.0</td>\n",
       "      <td>3.0</td>\n",
       "      <td>1.0</td>\n",
       "      <td>0.0</td>\n",
       "      <td>1.0</td>\n",
       "      <td>4.0</td>\n",
       "      <td>4.0</td>\n",
       "      <td>3.0</td>\n",
       "      <td>5.0</td>\n",
       "      <td>2.0</td>\n",
       "    </tr>\n",
       "    <tr>\n",
       "      <th>3</th>\n",
       "      <td>2</td>\n",
       "      <td>4</td>\n",
       "      <td>2</td>\n",
       "      <td>2.0</td>\n",
       "      <td>4</td>\n",
       "      <td>2</td>\n",
       "      <td>5</td>\n",
       "      <td>2</td>\n",
       "      <td>1</td>\n",
       "      <td>2</td>\n",
       "      <td>...</td>\n",
       "      <td>2.0</td>\n",
       "      <td>2.0</td>\n",
       "      <td>2.0</td>\n",
       "      <td>0.0</td>\n",
       "      <td>1.0</td>\n",
       "      <td>3.0</td>\n",
       "      <td>4.0</td>\n",
       "      <td>2.0</td>\n",
       "      <td>3.0</td>\n",
       "      <td>3.0</td>\n",
       "    </tr>\n",
       "    <tr>\n",
       "      <th>4</th>\n",
       "      <td>-1</td>\n",
       "      <td>3</td>\n",
       "      <td>1</td>\n",
       "      <td>5.0</td>\n",
       "      <td>4</td>\n",
       "      <td>3</td>\n",
       "      <td>4</td>\n",
       "      <td>1</td>\n",
       "      <td>3</td>\n",
       "      <td>2</td>\n",
       "      <td>...</td>\n",
       "      <td>2.0</td>\n",
       "      <td>4.0</td>\n",
       "      <td>2.0</td>\n",
       "      <td>1.0</td>\n",
       "      <td>2.0</td>\n",
       "      <td>3.0</td>\n",
       "      <td>3.0</td>\n",
       "      <td>4.0</td>\n",
       "      <td>6.0</td>\n",
       "      <td>5.0</td>\n",
       "    </tr>\n",
       "  </tbody>\n",
       "</table>\n",
       "<p>5 rows × 85 columns</p>\n",
       "</div>"
      ],
      "text/plain": [
       "   AGER_TYP  ALTERSKATEGORIE_GROB  ANREDE_KZ  CJT_GESAMTTYP  \\\n",
       "0        -1                     2          1            2.0   \n",
       "1        -1                     1          2            5.0   \n",
       "2        -1                     3          2            3.0   \n",
       "3         2                     4          2            2.0   \n",
       "4        -1                     3          1            5.0   \n",
       "\n",
       "   FINANZ_MINIMALIST  FINANZ_SPARER  FINANZ_VORSORGER  FINANZ_ANLEGER  \\\n",
       "0                  3              4                 3               5   \n",
       "1                  1              5                 2               5   \n",
       "2                  1              4                 1               2   \n",
       "3                  4              2                 5               2   \n",
       "4                  4              3                 4               1   \n",
       "\n",
       "   FINANZ_UNAUFFAELLIGER  FINANZ_HAUSBAUER    ...     PLZ8_ANTG1  PLZ8_ANTG2  \\\n",
       "0                      5                 3    ...            NaN         NaN   \n",
       "1                      4                 5    ...            2.0         3.0   \n",
       "2                      3                 5    ...            3.0         3.0   \n",
       "3                      1                 2    ...            2.0         2.0   \n",
       "4                      3                 2    ...            2.0         4.0   \n",
       "\n",
       "   PLZ8_ANTG3  PLZ8_ANTG4  PLZ8_BAUMAX  PLZ8_HHZ  PLZ8_GBZ  ARBEIT  \\\n",
       "0         NaN         NaN          NaN       NaN       NaN     NaN   \n",
       "1         2.0         1.0          1.0       5.0       4.0     3.0   \n",
       "2         1.0         0.0          1.0       4.0       4.0     3.0   \n",
       "3         2.0         0.0          1.0       3.0       4.0     2.0   \n",
       "4         2.0         1.0          2.0       3.0       3.0     4.0   \n",
       "\n",
       "   ORTSGR_KLS9  RELAT_AB  \n",
       "0          NaN       NaN  \n",
       "1          5.0       4.0  \n",
       "2          5.0       2.0  \n",
       "3          3.0       3.0  \n",
       "4          6.0       5.0  \n",
       "\n",
       "[5 rows x 85 columns]"
      ]
     },
     "execution_count": 5,
     "metadata": {},
     "output_type": "execute_result"
    }
   ],
   "source": [
    "azdias.head()"
   ]
  },
  {
   "cell_type": "code",
   "execution_count": 6,
   "metadata": {
    "scrolled": true
   },
   "outputs": [
    {
     "data": {
      "text/html": [
       "<div>\n",
       "<style scoped>\n",
       "    .dataframe tbody tr th:only-of-type {\n",
       "        vertical-align: middle;\n",
       "    }\n",
       "\n",
       "    .dataframe tbody tr th {\n",
       "        vertical-align: top;\n",
       "    }\n",
       "\n",
       "    .dataframe thead th {\n",
       "        text-align: right;\n",
       "    }\n",
       "</style>\n",
       "<table border=\"1\" class=\"dataframe\">\n",
       "  <thead>\n",
       "    <tr style=\"text-align: right;\">\n",
       "      <th></th>\n",
       "      <th>attribute</th>\n",
       "      <th>information_level</th>\n",
       "      <th>type</th>\n",
       "      <th>missing_or_unknown</th>\n",
       "    </tr>\n",
       "  </thead>\n",
       "  <tbody>\n",
       "    <tr>\n",
       "      <th>65</th>\n",
       "      <td>KBA05_GBZ</td>\n",
       "      <td>microcell_rr3</td>\n",
       "      <td>ordinal</td>\n",
       "      <td>[-1,0]</td>\n",
       "    </tr>\n",
       "    <tr>\n",
       "      <th>66</th>\n",
       "      <td>BALLRAUM</td>\n",
       "      <td>postcode</td>\n",
       "      <td>ordinal</td>\n",
       "      <td>[-1]</td>\n",
       "    </tr>\n",
       "    <tr>\n",
       "      <th>67</th>\n",
       "      <td>EWDICHTE</td>\n",
       "      <td>postcode</td>\n",
       "      <td>ordinal</td>\n",
       "      <td>[-1]</td>\n",
       "    </tr>\n",
       "    <tr>\n",
       "      <th>68</th>\n",
       "      <td>INNENSTADT</td>\n",
       "      <td>postcode</td>\n",
       "      <td>ordinal</td>\n",
       "      <td>[-1]</td>\n",
       "    </tr>\n",
       "    <tr>\n",
       "      <th>69</th>\n",
       "      <td>GEBAEUDETYP_RASTER</td>\n",
       "      <td>region_rr1</td>\n",
       "      <td>ordinal</td>\n",
       "      <td>[]</td>\n",
       "    </tr>\n",
       "    <tr>\n",
       "      <th>70</th>\n",
       "      <td>KKK</td>\n",
       "      <td>region_rr1</td>\n",
       "      <td>ordinal</td>\n",
       "      <td>[-1,0]</td>\n",
       "    </tr>\n",
       "    <tr>\n",
       "      <th>71</th>\n",
       "      <td>MOBI_REGIO</td>\n",
       "      <td>region_rr1</td>\n",
       "      <td>ordinal</td>\n",
       "      <td>[]</td>\n",
       "    </tr>\n",
       "    <tr>\n",
       "      <th>72</th>\n",
       "      <td>ONLINE_AFFINITAET</td>\n",
       "      <td>region_rr1</td>\n",
       "      <td>ordinal</td>\n",
       "      <td>[]</td>\n",
       "    </tr>\n",
       "    <tr>\n",
       "      <th>73</th>\n",
       "      <td>REGIOTYP</td>\n",
       "      <td>region_rr1</td>\n",
       "      <td>ordinal</td>\n",
       "      <td>[-1,0]</td>\n",
       "    </tr>\n",
       "    <tr>\n",
       "      <th>74</th>\n",
       "      <td>KBA13_ANZAHL_PKW</td>\n",
       "      <td>macrocell_plz8</td>\n",
       "      <td>numeric</td>\n",
       "      <td>[]</td>\n",
       "    </tr>\n",
       "    <tr>\n",
       "      <th>75</th>\n",
       "      <td>PLZ8_ANTG1</td>\n",
       "      <td>macrocell_plz8</td>\n",
       "      <td>ordinal</td>\n",
       "      <td>[-1]</td>\n",
       "    </tr>\n",
       "    <tr>\n",
       "      <th>76</th>\n",
       "      <td>PLZ8_ANTG2</td>\n",
       "      <td>macrocell_plz8</td>\n",
       "      <td>ordinal</td>\n",
       "      <td>[-1]</td>\n",
       "    </tr>\n",
       "    <tr>\n",
       "      <th>77</th>\n",
       "      <td>PLZ8_ANTG3</td>\n",
       "      <td>macrocell_plz8</td>\n",
       "      <td>ordinal</td>\n",
       "      <td>[-1]</td>\n",
       "    </tr>\n",
       "    <tr>\n",
       "      <th>78</th>\n",
       "      <td>PLZ8_ANTG4</td>\n",
       "      <td>macrocell_plz8</td>\n",
       "      <td>ordinal</td>\n",
       "      <td>[-1]</td>\n",
       "    </tr>\n",
       "    <tr>\n",
       "      <th>79</th>\n",
       "      <td>PLZ8_BAUMAX</td>\n",
       "      <td>macrocell_plz8</td>\n",
       "      <td>mixed</td>\n",
       "      <td>[-1,0]</td>\n",
       "    </tr>\n",
       "    <tr>\n",
       "      <th>80</th>\n",
       "      <td>PLZ8_HHZ</td>\n",
       "      <td>macrocell_plz8</td>\n",
       "      <td>ordinal</td>\n",
       "      <td>[-1]</td>\n",
       "    </tr>\n",
       "    <tr>\n",
       "      <th>81</th>\n",
       "      <td>PLZ8_GBZ</td>\n",
       "      <td>macrocell_plz8</td>\n",
       "      <td>ordinal</td>\n",
       "      <td>[-1]</td>\n",
       "    </tr>\n",
       "    <tr>\n",
       "      <th>82</th>\n",
       "      <td>ARBEIT</td>\n",
       "      <td>community</td>\n",
       "      <td>ordinal</td>\n",
       "      <td>[-1,9]</td>\n",
       "    </tr>\n",
       "    <tr>\n",
       "      <th>83</th>\n",
       "      <td>ORTSGR_KLS9</td>\n",
       "      <td>community</td>\n",
       "      <td>ordinal</td>\n",
       "      <td>[-1,0]</td>\n",
       "    </tr>\n",
       "    <tr>\n",
       "      <th>84</th>\n",
       "      <td>RELAT_AB</td>\n",
       "      <td>community</td>\n",
       "      <td>ordinal</td>\n",
       "      <td>[-1,9]</td>\n",
       "    </tr>\n",
       "  </tbody>\n",
       "</table>\n",
       "</div>"
      ],
      "text/plain": [
       "             attribute information_level     type missing_or_unknown\n",
       "65           KBA05_GBZ     microcell_rr3  ordinal             [-1,0]\n",
       "66            BALLRAUM          postcode  ordinal               [-1]\n",
       "67            EWDICHTE          postcode  ordinal               [-1]\n",
       "68          INNENSTADT          postcode  ordinal               [-1]\n",
       "69  GEBAEUDETYP_RASTER        region_rr1  ordinal                 []\n",
       "70                 KKK        region_rr1  ordinal             [-1,0]\n",
       "71          MOBI_REGIO        region_rr1  ordinal                 []\n",
       "72   ONLINE_AFFINITAET        region_rr1  ordinal                 []\n",
       "73            REGIOTYP        region_rr1  ordinal             [-1,0]\n",
       "74    KBA13_ANZAHL_PKW    macrocell_plz8  numeric                 []\n",
       "75          PLZ8_ANTG1    macrocell_plz8  ordinal               [-1]\n",
       "76          PLZ8_ANTG2    macrocell_plz8  ordinal               [-1]\n",
       "77          PLZ8_ANTG3    macrocell_plz8  ordinal               [-1]\n",
       "78          PLZ8_ANTG4    macrocell_plz8  ordinal               [-1]\n",
       "79         PLZ8_BAUMAX    macrocell_plz8    mixed             [-1,0]\n",
       "80            PLZ8_HHZ    macrocell_plz8  ordinal               [-1]\n",
       "81            PLZ8_GBZ    macrocell_plz8  ordinal               [-1]\n",
       "82              ARBEIT         community  ordinal             [-1,9]\n",
       "83         ORTSGR_KLS9         community  ordinal             [-1,0]\n",
       "84            RELAT_AB         community  ordinal             [-1,9]"
      ]
     },
     "execution_count": 6,
     "metadata": {},
     "output_type": "execute_result"
    }
   ],
   "source": [
    "# Check the structure of the data after it's loaded (e.g. print the number of\n",
    "# rows and columns, print the first few rows).\n",
    "feat_info.tail(n=20)"
   ]
  },
  {
   "cell_type": "code",
   "execution_count": 7,
   "metadata": {},
   "outputs": [
    {
     "name": "stdout",
     "output_type": "stream",
     "text": [
      "<class 'pandas.core.frame.DataFrame'>\n",
      "RangeIndex: 85 entries, 0 to 84\n",
      "Data columns (total 4 columns):\n",
      "attribute             85 non-null object\n",
      "information_level     85 non-null object\n",
      "type                  85 non-null object\n",
      "missing_or_unknown    85 non-null object\n",
      "dtypes: object(4)\n",
      "memory usage: 2.7+ KB\n"
     ]
    }
   ],
   "source": [
    "feat_info.info()"
   ]
  },
  {
   "cell_type": "code",
   "execution_count": null,
   "metadata": {},
   "outputs": [],
   "source": []
  },
  {
   "cell_type": "markdown",
   "metadata": {},
   "source": [
    "> **Tip**: Add additional cells to keep everything in reasonably-sized chunks! Keyboard shortcut `esc --> a` (press escape to enter command mode, then press the 'A' key) adds a new cell before the active cell, and `esc --> b` adds a new cell after the active cell. If you need to convert an active cell to a markdown cell, use `esc --> m` and to convert to a code cell, use `esc --> y`. \n",
    "\n",
    "## Step 1: Preprocessing\n",
    "\n",
    "### Step 1.1: Assess Missing Data\n",
    "\n",
    "The feature summary file contains a summary of properties for each demographics data column. You will use this file to help you make cleaning decisions during this stage of the project. First of all, you should assess the demographics data in terms of missing data. Pay attention to the following points as you perform your analysis, and take notes on what you observe. Make sure that you fill in the **Discussion** cell with your findings and decisions at the end of each step that has one!\n",
    "\n",
    "#### Step 1.1.1: Convert Missing Value Codes to NaNs\n",
    "The fourth column of the feature attributes summary (loaded in above as `feat_info`) documents the codes from the data dictionary that indicate missing or unknown data. While the file encodes this as a list (e.g. `[-1,0]`), this will get read in as a string object. You'll need to do a little bit of parsing to make use of it to identify and clean the data. Convert data that matches a 'missing' or 'unknown' value code into a numpy NaN value. You might want to see how much data takes on a 'missing' or 'unknown' code, and how much data is naturally missing, as a point of interest.\n",
    "\n",
    "**As one more reminder, you are encouraged to add additional cells to break up your analysis into manageable chunks.**"
   ]
  },
  {
   "cell_type": "code",
   "execution_count": 8,
   "metadata": {
    "scrolled": true
   },
   "outputs": [
    {
     "data": {
      "text/plain": [
       "AGER_TYP                      0\n",
       "ALTERSKATEGORIE_GROB          0\n",
       "ANREDE_KZ                     0\n",
       "CJT_GESAMTTYP              4854\n",
       "FINANZ_MINIMALIST             0\n",
       "FINANZ_SPARER                 0\n",
       "FINANZ_VORSORGER              0\n",
       "FINANZ_ANLEGER                0\n",
       "FINANZ_UNAUFFAELLIGER         0\n",
       "FINANZ_HAUSBAUER              0\n",
       "FINANZTYP                     0\n",
       "GEBURTSJAHR                   0\n",
       "GFK_URLAUBERTYP            4854\n",
       "GREEN_AVANTGARDE              0\n",
       "HEALTH_TYP                    0\n",
       "LP_LEBENSPHASE_FEIN        4854\n",
       "LP_LEBENSPHASE_GROB        4854\n",
       "LP_FAMILIE_FEIN            4854\n",
       "LP_FAMILIE_GROB            4854\n",
       "LP_STATUS_FEIN             4854\n",
       "LP_STATUS_GROB             4854\n",
       "NATIONALITAET_KZ              0\n",
       "PRAEGENDE_JUGENDJAHRE         0\n",
       "RETOURTYP_BK_S             4854\n",
       "SEMIO_SOZ                     0\n",
       "SEMIO_FAM                     0\n",
       "SEMIO_REL                     0\n",
       "SEMIO_MAT                     0\n",
       "SEMIO_VERT                    0\n",
       "SEMIO_LUST                    0\n",
       "                          ...  \n",
       "OST_WEST_KZ               93148\n",
       "WOHNLAGE                  93148\n",
       "CAMEO_DEUG_2015           98979\n",
       "CAMEO_DEU_2015            98979\n",
       "CAMEO_INTL_2015           98979\n",
       "KBA05_ANTG1              133324\n",
       "KBA05_ANTG2              133324\n",
       "KBA05_ANTG3              133324\n",
       "KBA05_ANTG4              133324\n",
       "KBA05_BAUMAX             133324\n",
       "KBA05_GBZ                133324\n",
       "BALLRAUM                  93740\n",
       "EWDICHTE                  93740\n",
       "INNENSTADT                93740\n",
       "GEBAEUDETYP_RASTER        93155\n",
       "KKK                      121196\n",
       "MOBI_REGIO               133324\n",
       "ONLINE_AFFINITAET          4854\n",
       "REGIOTYP                 121196\n",
       "KBA13_ANZAHL_PKW         105800\n",
       "PLZ8_ANTG1               116515\n",
       "PLZ8_ANTG2               116515\n",
       "PLZ8_ANTG3               116515\n",
       "PLZ8_ANTG4               116515\n",
       "PLZ8_BAUMAX              116515\n",
       "PLZ8_HHZ                 116515\n",
       "PLZ8_GBZ                 116515\n",
       "ARBEIT                    97216\n",
       "ORTSGR_KLS9               97216\n",
       "RELAT_AB                  97216\n",
       "Length: 85, dtype: int64"
      ]
     },
     "execution_count": 8,
     "metadata": {},
     "output_type": "execute_result"
    }
   ],
   "source": [
    "# Identify missing or unknown data values and convert them to NaNs.\n",
    "missingazdias = azdias.isnull().sum()\n",
    "missingazdias"
   ]
  },
  {
   "cell_type": "code",
   "execution_count": 9,
   "metadata": {},
   "outputs": [
    {
     "name": "stdout",
     "output_type": "stream",
     "text": [
      "the sum of missing values before processing  4896838:\n"
     ]
    }
   ],
   "source": [
    "missingazdias = azdias.isnull().sum().sum()\n",
    "print ('the sum of missing values before processing  {}:'.format(missingazdias))"
   ]
  },
  {
   "cell_type": "code",
   "execution_count": 10,
   "metadata": {},
   "outputs": [
    {
     "data": {
      "text/plain": [
       "85"
      ]
     },
     "execution_count": 10,
     "metadata": {},
     "output_type": "execute_result"
    }
   ],
   "source": [
    "azdias.shape[1]"
   ]
  },
  {
   "cell_type": "code",
   "execution_count": 88,
   "metadata": {},
   "outputs": [],
   "source": [
    "# Identify missing or unknown data values and convert them to NaNs.\n",
    "for column in range(feat_info.shape[1]):\n",
    "    missing_or_unknown = feat_info.iloc[column]['missing_or_unknown'].strip('[]').split(',')\n",
    "    missing_or_unknown = [float(value) if (value!='X' and value!='XX' and value!='') else value for value in missing_or_unknown]\n",
    "    if missing_or_unknown != ['']:\n",
    "        azdias = azdias.replace({feat_info.iloc[column]['attribute']: missing_or_unknown}, np.nan)\n",
    "        azdias=azdias.replace({col:['XX','X']},np.nan)"
   ]
  },
  {
   "cell_type": "code",
   "execution_count": 89,
   "metadata": {},
   "outputs": [
    {
     "name": "stdout",
     "output_type": "stream",
     "text": [
      "<class 'pandas.core.frame.DataFrame'>\n",
      "RangeIndex: 891221 entries, 0 to 891220\n",
      "Data columns (total 83 columns):\n",
      "ALTERSKATEGORIE_GROB     888340 non-null float64\n",
      "ANREDE_KZ                891221 non-null int64\n",
      "CJT_GESAMTTYP            886367 non-null float64\n",
      "FINANZ_MINIMALIST        891221 non-null int64\n",
      "FINANZ_SPARER            891221 non-null int64\n",
      "FINANZ_VORSORGER         891221 non-null int64\n",
      "FINANZ_ANLEGER           891221 non-null int64\n",
      "FINANZ_UNAUFFAELLIGER    891221 non-null int64\n",
      "FINANZ_HAUSBAUER         891221 non-null int64\n",
      "FINANZTYP                891221 non-null int64\n",
      "GEBURTSJAHR              891221 non-null int64\n",
      "GFK_URLAUBERTYP          886367 non-null float64\n",
      "GREEN_AVANTGARDE         891221 non-null int64\n",
      "HEALTH_TYP               891221 non-null int64\n",
      "LP_LEBENSPHASE_FEIN      886367 non-null float64\n",
      "LP_LEBENSPHASE_GROB      886367 non-null float64\n",
      "LP_FAMILIE_FEIN          886367 non-null float64\n",
      "LP_FAMILIE_GROB          886367 non-null float64\n",
      "LP_STATUS_FEIN           886367 non-null float64\n",
      "LP_STATUS_GROB           886367 non-null float64\n",
      "NATIONALITAET_KZ         891221 non-null int64\n",
      "PRAEGENDE_JUGENDJAHRE    891221 non-null int64\n",
      "RETOURTYP_BK_S           886367 non-null float64\n",
      "SEMIO_SOZ                891221 non-null int64\n",
      "SEMIO_FAM                891221 non-null int64\n",
      "SEMIO_REL                891221 non-null int64\n",
      "SEMIO_MAT                891221 non-null int64\n",
      "SEMIO_VERT               891221 non-null int64\n",
      "SEMIO_LUST               891221 non-null int64\n",
      "SEMIO_ERL                891221 non-null int64\n",
      "SEMIO_KULT               891221 non-null int64\n",
      "SEMIO_RAT                891221 non-null int64\n",
      "SEMIO_KRIT               891221 non-null int64\n",
      "SEMIO_DOM                891221 non-null int64\n",
      "SEMIO_KAEM               891221 non-null int64\n",
      "SEMIO_PFLICHT            891221 non-null int64\n",
      "SEMIO_TRADV              891221 non-null int64\n",
      "SHOPPER_TYP              891221 non-null int64\n",
      "SOHO_KZ                  817722 non-null float64\n",
      "TITEL_KZ                 817722 non-null float64\n",
      "VERS_TYP                 891221 non-null int64\n",
      "ZABEOTYP                 891221 non-null int64\n",
      "ALTER_HH                 817722 non-null float64\n",
      "ANZ_PERSONEN             817722 non-null float64\n",
      "ANZ_TITEL                817722 non-null float64\n",
      "HH_EINKOMMEN_SCORE       872873 non-null float64\n",
      "W_KEIT_KIND_HH           783619 non-null float64\n",
      "WOHNDAUER_2008           817722 non-null float64\n",
      "ANZ_HAUSHALTE_AKTIV      798073 non-null float64\n",
      "ANZ_HH_TITEL             794213 non-null float64\n",
      "GEBAEUDETYP              798073 non-null float64\n",
      "KONSUMNAEHE              817252 non-null float64\n",
      "MIN_GEBAEUDEJAHR         798073 non-null float64\n",
      "OST_WEST_KZ              798073 non-null object\n",
      "WOHNLAGE                 798073 non-null float64\n",
      "CAMEO_DEUG_2015          792242 non-null object\n",
      "CAMEO_DEU_2015           792242 non-null object\n",
      "CAMEO_INTL_2015          792242 non-null object\n",
      "KBA05_ANTG1              757897 non-null float64\n",
      "KBA05_ANTG2              757897 non-null float64\n",
      "KBA05_ANTG3              757897 non-null float64\n",
      "KBA05_ANTG4              757897 non-null float64\n",
      "KBA05_BAUMAX             757897 non-null float64\n",
      "KBA05_GBZ                757897 non-null float64\n",
      "BALLRAUM                 797481 non-null float64\n",
      "EWDICHTE                 797481 non-null float64\n",
      "INNENSTADT               797481 non-null float64\n",
      "GEBAEUDETYP_RASTER       798066 non-null float64\n",
      "KKK                      770025 non-null float64\n",
      "MOBI_REGIO               757897 non-null float64\n",
      "ONLINE_AFFINITAET        886367 non-null float64\n",
      "REGIOTYP                 770025 non-null float64\n",
      "KBA13_ANZAHL_PKW         785421 non-null float64\n",
      "PLZ8_ANTG1               774706 non-null float64\n",
      "PLZ8_ANTG2               774706 non-null float64\n",
      "PLZ8_ANTG3               774706 non-null float64\n",
      "PLZ8_ANTG4               774706 non-null float64\n",
      "PLZ8_BAUMAX              774706 non-null float64\n",
      "PLZ8_HHZ                 774706 non-null float64\n",
      "PLZ8_GBZ                 774706 non-null float64\n",
      "ARBEIT                   794005 non-null float64\n",
      "ORTSGR_KLS9              794005 non-null float64\n",
      "RELAT_AB                 794005 non-null float64\n",
      "dtypes: float64(49), int64(30), object(4)\n",
      "memory usage: 564.4+ MB\n"
     ]
    }
   ],
   "source": [
    "azdias.info()"
   ]
  },
  {
   "cell_type": "code",
   "execution_count": 13,
   "metadata": {},
   "outputs": [
    {
     "name": "stdout",
     "output_type": "stream",
     "text": [
      "the total values of missing after processing 5585562\n"
     ]
    }
   ],
   "source": [
    "print ('the total values of missing after processing {}'.format(azdias.isnull().sum().sum()))"
   ]
  },
  {
   "cell_type": "markdown",
   "metadata": {},
   "source": [
    "#### Step 1.1.2: Assess Missing Data in Each Column\n",
    "\n",
    "How much missing data is present in each column? There are a few columns that are outliers in terms of the proportion of values that are missing. You will want to use matplotlib's [`hist()`](https://matplotlib.org/api/_as_gen/matplotlib.pyplot.hist.html) function to visualize the distribution of missing value counts to find these columns. Identify and document these columns. While some of these columns might have justifications for keeping or re-encoding the data, for this project you should just remove them from the dataframe. (Feel free to make remarks about these outlier columns in the discussion, however!)\n",
    "\n",
    "For the remaining features, are there any patterns in which columns have, or share, missing data?"
   ]
  },
  {
   "cell_type": "code",
   "execution_count": 14,
   "metadata": {
    "scrolled": true
   },
   "outputs": [
    {
     "data": {
      "text/plain": [
       "AGER_TYP                 685843\n",
       "ALTERSKATEGORIE_GROB       2881\n",
       "ANREDE_KZ                     0\n",
       "CJT_GESAMTTYP              4854\n",
       "FINANZ_MINIMALIST             0\n",
       "FINANZ_SPARER                 0\n",
       "FINANZ_VORSORGER              0\n",
       "FINANZ_ANLEGER                0\n",
       "FINANZ_UNAUFFAELLIGER         0\n",
       "FINANZ_HAUSBAUER              0\n",
       "FINANZTYP                     0\n",
       "GEBURTSJAHR                   0\n",
       "GFK_URLAUBERTYP            4854\n",
       "GREEN_AVANTGARDE              0\n",
       "HEALTH_TYP                    0\n",
       "LP_LEBENSPHASE_FEIN        4854\n",
       "LP_LEBENSPHASE_GROB        4854\n",
       "LP_FAMILIE_FEIN            4854\n",
       "LP_FAMILIE_GROB            4854\n",
       "LP_STATUS_FEIN             4854\n",
       "LP_STATUS_GROB             4854\n",
       "NATIONALITAET_KZ              0\n",
       "PRAEGENDE_JUGENDJAHRE         0\n",
       "RETOURTYP_BK_S             4854\n",
       "SEMIO_SOZ                     0\n",
       "SEMIO_FAM                     0\n",
       "SEMIO_REL                     0\n",
       "SEMIO_MAT                     0\n",
       "SEMIO_VERT                    0\n",
       "SEMIO_LUST                    0\n",
       "                          ...  \n",
       "OST_WEST_KZ               93148\n",
       "WOHNLAGE                  93148\n",
       "CAMEO_DEUG_2015           98979\n",
       "CAMEO_DEU_2015            98979\n",
       "CAMEO_INTL_2015           98979\n",
       "KBA05_ANTG1              133324\n",
       "KBA05_ANTG2              133324\n",
       "KBA05_ANTG3              133324\n",
       "KBA05_ANTG4              133324\n",
       "KBA05_BAUMAX             133324\n",
       "KBA05_GBZ                133324\n",
       "BALLRAUM                  93740\n",
       "EWDICHTE                  93740\n",
       "INNENSTADT                93740\n",
       "GEBAEUDETYP_RASTER        93155\n",
       "KKK                      121196\n",
       "MOBI_REGIO               133324\n",
       "ONLINE_AFFINITAET          4854\n",
       "REGIOTYP                 121196\n",
       "KBA13_ANZAHL_PKW         105800\n",
       "PLZ8_ANTG1               116515\n",
       "PLZ8_ANTG2               116515\n",
       "PLZ8_ANTG3               116515\n",
       "PLZ8_ANTG4               116515\n",
       "PLZ8_BAUMAX              116515\n",
       "PLZ8_HHZ                 116515\n",
       "PLZ8_GBZ                 116515\n",
       "ARBEIT                    97216\n",
       "ORTSGR_KLS9               97216\n",
       "RELAT_AB                  97216\n",
       "Length: 85, dtype: int64"
      ]
     },
     "execution_count": 14,
     "metadata": {},
     "output_type": "execute_result"
    }
   ],
   "source": [
    "# Perform an assessment of how much missing data there is in each column of the\n",
    "# dataset.\n",
    "missed = azdias.isnull().sum()\n",
    "missed"
   ]
  },
  {
   "cell_type": "code",
   "execution_count": 15,
   "metadata": {
    "scrolled": true
   },
   "outputs": [
    {
     "data": {
      "image/png": "[encoded data removed]",
      "text/plain": [
       "<matplotlib.figure.Figure at 0x7f9643212668>"
      ]
     },
     "metadata": {
      "needs_background": "light"
     },
     "output_type": "display_data"
    }
   ],
   "source": [
    "sns.set_palette('Blues')\n",
    "plt.hist(missed, bins=25 )\n",
    "plt.title('disrtibustion of Null values')\n",
    "plt.show()"
   ]
  },
  {
   "cell_type": "code",
   "execution_count": 16,
   "metadata": {},
   "outputs": [
    {
     "data": {
      "text/plain": [
       "(array([ 42.,  41.,   0.,   0.,   0.,   0.,   0.,   0.,   1.,   1.]),\n",
       " array([      0. ,   68584.3,  137168.6,  205752.9,  274337.2,  342921.5,\n",
       "         411505.8,  480090.1,  548674.4,  617258.7,  685843. ]),\n",
       " <a list of 10 Patch objects>)"
      ]
     },
     "execution_count": 16,
     "metadata": {},
     "output_type": "execute_result"
    },
    {
     "data": {
      "image/png": "[encoded data removed]",
      "text/plain": [
       "<matplotlib.figure.Figure at 0x7f9643212ef0>"
      ]
     },
     "metadata": {
      "needs_background": "light"
     },
     "output_type": "display_data"
    }
   ],
   "source": [
    "# Investigate patterns in the amount of missing data in each column.\n",
    "#anathor method for represniting histogram \n",
    "plt.hist(missed)"
   ]
  },
  {
   "cell_type": "code",
   "execution_count": 17,
   "metadata": {},
   "outputs": [
    {
     "name": "stdout",
     "output_type": "stream",
     "text": [
      "number of than 200k is 2\n"
     ]
    }
   ],
   "source": [
    "# Remove the outlier columns from the dataset. (You'll perform other data\n",
    "# engineering tasks such as re-encoding and imputation later.)\n",
    "\n",
    "#dropped whatis value more than  200 K, so we can count values more than 30 and values less than 30 \n",
    "missed_less_200k = missed[missed <= 200000 ]\n",
    "missed_more_200k  =  missed[missed >= 200000 ]\n",
    "print ('number of than 200k is {}'.format(missed_more_200k.shape[0]))"
   ]
  },
  {
   "cell_type": "code",
   "execution_count": 18,
   "metadata": {},
   "outputs": [
    {
     "data": {
      "text/plain": [
       "(891221, 83)"
      ]
     },
     "execution_count": 18,
     "metadata": {},
     "output_type": "execute_result"
    }
   ],
   "source": [
    "#remove data with more than 200000 missing values \n",
    "azdias.drop(missed_more_200k.index, axis=1, inplace=True)\n",
    "azdias.shape"
   ]
  },
  {
   "cell_type": "code",
   "execution_count": 19,
   "metadata": {},
   "outputs": [
    {
     "data": {
      "text/plain": [
       "ALTERSKATEGORIE_GROB       2881\n",
       "ANREDE_KZ                     0\n",
       "CJT_GESAMTTYP              4854\n",
       "FINANZ_MINIMALIST             0\n",
       "FINANZ_SPARER                 0\n",
       "FINANZ_VORSORGER              0\n",
       "FINANZ_ANLEGER                0\n",
       "FINANZ_UNAUFFAELLIGER         0\n",
       "FINANZ_HAUSBAUER              0\n",
       "FINANZTYP                     0\n",
       "GEBURTSJAHR                   0\n",
       "GFK_URLAUBERTYP            4854\n",
       "GREEN_AVANTGARDE              0\n",
       "HEALTH_TYP                    0\n",
       "LP_LEBENSPHASE_FEIN        4854\n",
       "LP_LEBENSPHASE_GROB        4854\n",
       "LP_FAMILIE_FEIN            4854\n",
       "LP_FAMILIE_GROB            4854\n",
       "LP_STATUS_FEIN             4854\n",
       "LP_STATUS_GROB             4854\n",
       "NATIONALITAET_KZ              0\n",
       "PRAEGENDE_JUGENDJAHRE         0\n",
       "RETOURTYP_BK_S             4854\n",
       "SEMIO_SOZ                     0\n",
       "SEMIO_FAM                     0\n",
       "SEMIO_REL                     0\n",
       "SEMIO_MAT                     0\n",
       "SEMIO_VERT                    0\n",
       "SEMIO_LUST                    0\n",
       "SEMIO_ERL                     0\n",
       "                          ...  \n",
       "OST_WEST_KZ               93148\n",
       "WOHNLAGE                  93148\n",
       "CAMEO_DEUG_2015           98979\n",
       "CAMEO_DEU_2015            98979\n",
       "CAMEO_INTL_2015           98979\n",
       "KBA05_ANTG1              133324\n",
       "KBA05_ANTG2              133324\n",
       "KBA05_ANTG3              133324\n",
       "KBA05_ANTG4              133324\n",
       "KBA05_BAUMAX             133324\n",
       "KBA05_GBZ                133324\n",
       "BALLRAUM                  93740\n",
       "EWDICHTE                  93740\n",
       "INNENSTADT                93740\n",
       "GEBAEUDETYP_RASTER        93155\n",
       "KKK                      121196\n",
       "MOBI_REGIO               133324\n",
       "ONLINE_AFFINITAET          4854\n",
       "REGIOTYP                 121196\n",
       "KBA13_ANZAHL_PKW         105800\n",
       "PLZ8_ANTG1               116515\n",
       "PLZ8_ANTG2               116515\n",
       "PLZ8_ANTG3               116515\n",
       "PLZ8_ANTG4               116515\n",
       "PLZ8_BAUMAX              116515\n",
       "PLZ8_HHZ                 116515\n",
       "PLZ8_GBZ                 116515\n",
       "ARBEIT                    97216\n",
       "ORTSGR_KLS9               97216\n",
       "RELAT_AB                  97216\n",
       "Length: 83, dtype: int64"
      ]
     },
     "execution_count": 19,
     "metadata": {},
     "output_type": "execute_result"
    }
   ],
   "source": [
    "missed_less_200k"
   ]
  },
  {
   "cell_type": "code",
   "execution_count": 20,
   "metadata": {},
   "outputs": [
    {
     "data": {
      "text/plain": [
       "AGER_TYP        685843\n",
       "KK_KUNDENTYP    584612\n",
       "dtype: int64"
      ]
     },
     "execution_count": 20,
     "metadata": {},
     "output_type": "execute_result"
    }
   ],
   "source": [
    "missed_more_200k"
   ]
  },
  {
   "cell_type": "markdown",
   "metadata": {},
   "source": [
    "#### Discussion 1.1.2: Assess Missing Data in Each Column\n",
    "\n",
    "(removing outlier after presenting data and shown that more 200K is consider as outlier and we dropped it from the main data set as this outlier will affect on data  )"
   ]
  },
  {
   "cell_type": "markdown",
   "metadata": {},
   "source": [
    "#### Step 1.1.3: Assess Missing Data in Each Row\n",
    "\n",
    "Now, you'll perform a similar assessment for the rows of the dataset. How much data is missing in each row? As with the columns, you should see some groups of points that have a very different numbers of missing values. Divide the data into two subsets: one for data points that are above some threshold for missing values, and a second subset for points below that threshold.\n",
    "\n",
    "In order to know what to do with the outlier rows, we should see if the distribution of data values on columns that are not missing data (or are missing very little data) are similar or different between the two groups. Select at least five of these columns and compare the distribution of values.\n",
    "- You can use seaborn's [`countplot()`](https://seaborn.pydata.org/generated/seaborn.countplot.html) function to create a bar chart of code frequencies and matplotlib's [`subplot()`](https://matplotlib.org/api/_as_gen/matplotlib.pyplot.subplot.html) function to put bar charts for the two subplots side by side.\n",
    "- To reduce repeated code, you might want to write a function that can perform this comparison, taking as one of its arguments a column to be compared.\n",
    "\n",
    "Depending on what you observe in your comparison, this will have implications on how you approach your conclusions later in the analysis. If the distributions of non-missing features look similar between the data with many missing values and the data with few or no missing values, then we could argue that simply dropping those points from the analysis won't present a major issue. On the other hand, if the data with many missing values looks very different from the data with few or no missing values, then we should make a note on those data as special. We'll revisit these data later on. **Either way, you should continue your analysis for now using just the subset of the data with few or no missing values.**"
   ]
  },
  {
   "cell_type": "code",
   "execution_count": 21,
   "metadata": {
    "scrolled": false
   },
   "outputs": [
    {
     "data": {
      "text/plain": [
       "0         41\n",
       "1          0\n",
       "2          0\n",
       "3          1\n",
       "4          0\n",
       "5          0\n",
       "6          0\n",
       "7          0\n",
       "8          0\n",
       "9          0\n",
       "10         0\n",
       "11        41\n",
       "12         7\n",
       "13         9\n",
       "14        41\n",
       "15         8\n",
       "16         1\n",
       "17        41\n",
       "18         0\n",
       "19         0\n",
       "20        10\n",
       "21         0\n",
       "22         0\n",
       "23         8\n",
       "24        41\n",
       "25         1\n",
       "26        20\n",
       "27         0\n",
       "28         0\n",
       "29         0\n",
       "          ..\n",
       "891191     0\n",
       "891192     0\n",
       "891193     0\n",
       "891194     0\n",
       "891195     0\n",
       "891196     0\n",
       "891197     0\n",
       "891198     0\n",
       "891199     0\n",
       "891200     0\n",
       "891201     0\n",
       "891202     0\n",
       "891203    10\n",
       "891204     0\n",
       "891205     0\n",
       "891206     0\n",
       "891207     0\n",
       "891208     0\n",
       "891209     0\n",
       "891210     0\n",
       "891211     0\n",
       "891212     0\n",
       "891213     0\n",
       "891214     0\n",
       "891215     0\n",
       "891216     3\n",
       "891217     0\n",
       "891218     1\n",
       "891219     0\n",
       "891220     0\n",
       "Length: 891221, dtype: int64"
      ]
     },
     "execution_count": 21,
     "metadata": {},
     "output_type": "execute_result"
    }
   ],
   "source": [
    "# How much data is missing in each row of the dataset?\n",
    "missed_1 = azdias.isnull().sum(axis =1)\n",
    "missed_1"
   ]
  },
  {
   "cell_type": "code",
   "execution_count": 22,
   "metadata": {},
   "outputs": [
    {
     "data": {
      "text/plain": [
       "(array([  7.43818000e+05,   2.19530000e+04,   1.81470000e+04,\n",
       "          1.20040000e+04,   2.03900000e+03,   7.80000000e+01,\n",
       "          3.40000000e+01,   1.95490000e+04,   0.00000000e+00,\n",
       "          7.35990000e+04]),\n",
       " array([  0. ,   4.5,   9. ,  13.5,  18. ,  22.5,  27. ,  31.5,  36. ,\n",
       "         40.5,  45. ]),\n",
       " <a list of 10 Patch objects>)"
      ]
     },
     "execution_count": 22,
     "metadata": {},
     "output_type": "execute_result"
    },
    {
     "data": {
      "image/png": "[encoded data removed]",
      "text/plain": [
       "<matplotlib.figure.Figure at 0x7f9639a19080>"
      ]
     },
     "metadata": {
      "needs_background": "light"
     },
     "output_type": "display_data"
    }
   ],
   "source": [
    "plt.title('histogram of Azdias after removing outlier')\n",
    "plt.hist(missed_1)"
   ]
  },
  {
   "cell_type": "code",
   "execution_count": 23,
   "metadata": {},
   "outputs": [
    {
     "name": "stdout",
     "output_type": "stream",
     "text": [
      "number of than 20 is 94493\n"
     ]
    }
   ],
   "source": [
    "# Write code to divide the data into two subsets based on the number of missing\n",
    "# values in each row.\n",
    "\n",
    "missed_less_20 = azdias [missed_1 < 20 ]\n",
    "missed_more_20  =  azdias [missed_1 >= 20 ]\n",
    "print ('number of than 20 is {}'.format(missed_more_20.shape[0]))"
   ]
  },
  {
   "cell_type": "code",
   "execution_count": 24,
   "metadata": {
    "scrolled": true
   },
   "outputs": [
    {
     "data": {
      "text/plain": [
       "Int64Index([     1,      2,      4,      5,      6,      7,      8,      9,\n",
       "                10,     18,\n",
       "            ...\n",
       "            891209, 891210, 891211, 891212, 891213, 891214, 891215, 891217,\n",
       "            891219, 891220],\n",
       "           dtype='int64', length=695414)"
      ]
     },
     "execution_count": 24,
     "metadata": {},
     "output_type": "execute_result"
    }
   ],
   "source": [
    "# Compare the distribution of values for at least five columns where there are\n",
    "# no or few missing values, between the two subsets.\n",
    "column_with_no_missed_data = missed_1[missed_1==0] \n",
    "column_with_no_missed_data = column_with_no_missed_data.index\n",
    "column_with_no_missed_data"
   ]
  },
  {
   "cell_type": "code",
   "execution_count": 25,
   "metadata": {},
   "outputs": [
    {
     "data": {
      "image/png": "[encoded data removed]",
      "text/plain": [
       "<matplotlib.figure.Figure at 0x7f9639a19c18>"
      ]
     },
     "metadata": {
      "needs_background": "light"
     },
     "output_type": "display_data"
    },
    {
     "data": {
      "image/png": "[encoded data removed]",
      "text/plain": [
       "<matplotlib.figure.Figure at 0x7f96472c37f0>"
      ]
     },
     "metadata": {
      "needs_background": "light"
     },
     "output_type": "display_data"
    },
    {
     "data": {
      "image/png": "[encoded data removed]",
      "text/plain": [
       "<matplotlib.figure.Figure at 0x7f962e29e5f8>"
      ]
     },
     "metadata": {
      "needs_background": "light"
     },
     "output_type": "display_data"
    },
    {
     "data": {
      "image/png": "[encoded data removed]",
      "text/plain": [
       "<matplotlib.figure.Figure at 0x7f962e1f3898>"
      ]
     },
     "metadata": {
      "needs_background": "light"
     },
     "output_type": "display_data"
    },
    {
     "data": {
      "image/png": "[encoded data removed]",
      "text/plain": [
       "<matplotlib.figure.Figure at 0x7f962e0fb710>"
      ]
     },
     "metadata": {
      "needs_background": "light"
     },
     "output_type": "display_data"
    }
   ],
   "source": [
    "for col in azdias.columns[0:5]:\n",
    "    fig, axes = plt.subplots(1,2, figsize=(14, 6), sharey=True)\n",
    "    sns.countplot(missed_less_20.loc[:,col], ax=axes[0],  palette=\"Greens\")\n",
    "    sns.countplot(missed_more_20.loc[:,col], ax=axes[1], palette=\"Blues\")"
   ]
  },
  {
   "cell_type": "code",
   "execution_count": 26,
   "metadata": {
    "scrolled": true
   },
   "outputs": [
    {
     "data": {
      "image/png": "[encoded data removed]",
      "text/plain": [
       "<matplotlib.figure.Figure at 0x7f962df76208>"
      ]
     },
     "metadata": {
      "needs_background": "light"
     },
     "output_type": "display_data"
    }
   ],
   "source": [
    "#anathor method fot plotting \n",
    "\n",
    "fig, axes = plt.subplots(nrows=5, ncols=2, figsize=(10,30))\n",
    "n=0\n",
    "sns.set_palette(\"hls\", 8)\n",
    "for column in azdias.columns[0:5]:\n",
    "    sns.countplot(missed_less_20.loc[:, column], ax=axes[n,0])\n",
    "    axes[n,0].set_title('Low Missing Per Row')\n",
    "    sns.countplot(missed_more_20.loc[:, column], ax=axes[n,1])\n",
    "    axes[n,1].set_title('High Missing Per Row')\n",
    "    n+=1"
   ]
  },
  {
   "cell_type": "code",
   "execution_count": null,
   "metadata": {},
   "outputs": [],
   "source": []
  },
  {
   "cell_type": "markdown",
   "metadata": {},
   "source": [
    "#### Discussion 1.1.3: Assess Missing Data in Each Row\n",
    "\n",
    "(Double-click this cell and replace this text with your own text, reporting your observations regarding missing data in rows. Are the data with lots of missing values are qualitatively different from data with few or no missing values?)"
   ]
  },
  {
   "cell_type": "markdown",
   "metadata": {},
   "source": [
    "### Step 1.2: Select and Re-Encode Features\n",
    "\n",
    "Checking for missing data isn't the only way in which you can prepare a dataset for analysis. Since the unsupervised learning techniques to be used will only work on data that is encoded numerically, you need to make a few encoding changes or additional assumptions to be able to make progress. In addition, while almost all of the values in the dataset are encoded using numbers, not all of them represent numeric values. Check the third column of the feature summary (`feat_info`) for a summary of types of measurement.\n",
    "- For numeric and interval data, these features can be kept without changes.\n",
    "- Most of the variables in the dataset are ordinal in nature. While ordinal values may technically be non-linear in spacing, make the simplifying assumption that the ordinal variables can be treated as being interval in nature (that is, kept without any changes).\n",
    "- Special handling may be necessary for the remaining two variable types: categorical, and 'mixed'.\n",
    "\n",
    "In the first two parts of this sub-step, you will perform an investigation of the categorical and mixed-type features and make a decision on each of them, whether you will keep, drop, or re-encode each. Then, in the last part, you will create a new data frame with only the selected and engineered columns.\n",
    "\n",
    "Data wrangling is often the trickiest part of the data analysis process, and there's a lot of it to be done here. But stick with it: once you're done with this step, you'll be ready to get to the machine learning parts of the project!"
   ]
  },
  {
   "cell_type": "code",
   "execution_count": 27,
   "metadata": {
    "scrolled": true
   },
   "outputs": [
    {
     "data": {
      "text/plain": [
       "ordinal        49\n",
       "categorical    21\n",
       "mixed           7\n",
       "numeric         7\n",
       "interval        1\n",
       "Name: type, dtype: int64"
      ]
     },
     "execution_count": 27,
     "metadata": {},
     "output_type": "execute_result"
    }
   ],
   "source": [
    "# How many features are there of each data type?\n",
    "feat_type =  feat_info.type.value_counts()\n",
    "feat_type"
   ]
  },
  {
   "cell_type": "code",
   "execution_count": 28,
   "metadata": {
    "scrolled": true
   },
   "outputs": [
    {
     "data": {
      "text/html": [
       "<div>\n",
       "<style scoped>\n",
       "    .dataframe tbody tr th:only-of-type {\n",
       "        vertical-align: middle;\n",
       "    }\n",
       "\n",
       "    .dataframe tbody tr th {\n",
       "        vertical-align: top;\n",
       "    }\n",
       "\n",
       "    .dataframe thead th {\n",
       "        text-align: right;\n",
       "    }\n",
       "</style>\n",
       "<table border=\"1\" class=\"dataframe\">\n",
       "  <thead>\n",
       "    <tr style=\"text-align: right;\">\n",
       "      <th></th>\n",
       "      <th>attribute</th>\n",
       "      <th>information_level</th>\n",
       "      <th>type</th>\n",
       "      <th>missing_or_unknown</th>\n",
       "    </tr>\n",
       "  </thead>\n",
       "  <tbody>\n",
       "    <tr>\n",
       "      <th>0</th>\n",
       "      <td>AGER_TYP</td>\n",
       "      <td>person</td>\n",
       "      <td>categorical</td>\n",
       "      <td>[-1,0]</td>\n",
       "    </tr>\n",
       "    <tr>\n",
       "      <th>2</th>\n",
       "      <td>ANREDE_KZ</td>\n",
       "      <td>person</td>\n",
       "      <td>categorical</td>\n",
       "      <td>[-1,0]</td>\n",
       "    </tr>\n",
       "    <tr>\n",
       "      <th>3</th>\n",
       "      <td>CJT_GESAMTTYP</td>\n",
       "      <td>person</td>\n",
       "      <td>categorical</td>\n",
       "      <td>[0]</td>\n",
       "    </tr>\n",
       "    <tr>\n",
       "      <th>10</th>\n",
       "      <td>FINANZTYP</td>\n",
       "      <td>person</td>\n",
       "      <td>categorical</td>\n",
       "      <td>[-1]</td>\n",
       "    </tr>\n",
       "    <tr>\n",
       "      <th>12</th>\n",
       "      <td>GFK_URLAUBERTYP</td>\n",
       "      <td>person</td>\n",
       "      <td>categorical</td>\n",
       "      <td>[]</td>\n",
       "    </tr>\n",
       "    <tr>\n",
       "      <th>13</th>\n",
       "      <td>GREEN_AVANTGARDE</td>\n",
       "      <td>person</td>\n",
       "      <td>categorical</td>\n",
       "      <td>[]</td>\n",
       "    </tr>\n",
       "    <tr>\n",
       "      <th>17</th>\n",
       "      <td>LP_FAMILIE_FEIN</td>\n",
       "      <td>person</td>\n",
       "      <td>categorical</td>\n",
       "      <td>[0]</td>\n",
       "    </tr>\n",
       "    <tr>\n",
       "      <th>18</th>\n",
       "      <td>LP_FAMILIE_GROB</td>\n",
       "      <td>person</td>\n",
       "      <td>categorical</td>\n",
       "      <td>[0]</td>\n",
       "    </tr>\n",
       "    <tr>\n",
       "      <th>19</th>\n",
       "      <td>LP_STATUS_FEIN</td>\n",
       "      <td>person</td>\n",
       "      <td>categorical</td>\n",
       "      <td>[0]</td>\n",
       "    </tr>\n",
       "    <tr>\n",
       "      <th>20</th>\n",
       "      <td>LP_STATUS_GROB</td>\n",
       "      <td>person</td>\n",
       "      <td>categorical</td>\n",
       "      <td>[0]</td>\n",
       "    </tr>\n",
       "    <tr>\n",
       "      <th>21</th>\n",
       "      <td>NATIONALITAET_KZ</td>\n",
       "      <td>person</td>\n",
       "      <td>categorical</td>\n",
       "      <td>[-1,0]</td>\n",
       "    </tr>\n",
       "    <tr>\n",
       "      <th>38</th>\n",
       "      <td>SHOPPER_TYP</td>\n",
       "      <td>person</td>\n",
       "      <td>categorical</td>\n",
       "      <td>[-1]</td>\n",
       "    </tr>\n",
       "    <tr>\n",
       "      <th>39</th>\n",
       "      <td>SOHO_KZ</td>\n",
       "      <td>person</td>\n",
       "      <td>categorical</td>\n",
       "      <td>[-1]</td>\n",
       "    </tr>\n",
       "    <tr>\n",
       "      <th>40</th>\n",
       "      <td>TITEL_KZ</td>\n",
       "      <td>person</td>\n",
       "      <td>categorical</td>\n",
       "      <td>[-1,0]</td>\n",
       "    </tr>\n",
       "    <tr>\n",
       "      <th>41</th>\n",
       "      <td>VERS_TYP</td>\n",
       "      <td>person</td>\n",
       "      <td>categorical</td>\n",
       "      <td>[-1]</td>\n",
       "    </tr>\n",
       "    <tr>\n",
       "      <th>42</th>\n",
       "      <td>ZABEOTYP</td>\n",
       "      <td>person</td>\n",
       "      <td>categorical</td>\n",
       "      <td>[-1,9]</td>\n",
       "    </tr>\n",
       "    <tr>\n",
       "      <th>47</th>\n",
       "      <td>KK_KUNDENTYP</td>\n",
       "      <td>household</td>\n",
       "      <td>categorical</td>\n",
       "      <td>[-1]</td>\n",
       "    </tr>\n",
       "    <tr>\n",
       "      <th>52</th>\n",
       "      <td>GEBAEUDETYP</td>\n",
       "      <td>building</td>\n",
       "      <td>categorical</td>\n",
       "      <td>[-1,0]</td>\n",
       "    </tr>\n",
       "    <tr>\n",
       "      <th>55</th>\n",
       "      <td>OST_WEST_KZ</td>\n",
       "      <td>building</td>\n",
       "      <td>categorical</td>\n",
       "      <td>[-1]</td>\n",
       "    </tr>\n",
       "    <tr>\n",
       "      <th>57</th>\n",
       "      <td>CAMEO_DEUG_2015</td>\n",
       "      <td>microcell_rr4</td>\n",
       "      <td>categorical</td>\n",
       "      <td>[-1,X]</td>\n",
       "    </tr>\n",
       "    <tr>\n",
       "      <th>58</th>\n",
       "      <td>CAMEO_DEU_2015</td>\n",
       "      <td>microcell_rr4</td>\n",
       "      <td>categorical</td>\n",
       "      <td>[XX]</td>\n",
       "    </tr>\n",
       "  </tbody>\n",
       "</table>\n",
       "</div>"
      ],
      "text/plain": [
       "           attribute information_level         type missing_or_unknown\n",
       "0           AGER_TYP            person  categorical             [-1,0]\n",
       "2          ANREDE_KZ            person  categorical             [-1,0]\n",
       "3      CJT_GESAMTTYP            person  categorical                [0]\n",
       "10         FINANZTYP            person  categorical               [-1]\n",
       "12   GFK_URLAUBERTYP            person  categorical                 []\n",
       "13  GREEN_AVANTGARDE            person  categorical                 []\n",
       "17   LP_FAMILIE_FEIN            person  categorical                [0]\n",
       "18   LP_FAMILIE_GROB            person  categorical                [0]\n",
       "19    LP_STATUS_FEIN            person  categorical                [0]\n",
       "20    LP_STATUS_GROB            person  categorical                [0]\n",
       "21  NATIONALITAET_KZ            person  categorical             [-1,0]\n",
       "38       SHOPPER_TYP            person  categorical               [-1]\n",
       "39           SOHO_KZ            person  categorical               [-1]\n",
       "40          TITEL_KZ            person  categorical             [-1,0]\n",
       "41          VERS_TYP            person  categorical               [-1]\n",
       "42          ZABEOTYP            person  categorical             [-1,9]\n",
       "47      KK_KUNDENTYP         household  categorical               [-1]\n",
       "52       GEBAEUDETYP          building  categorical             [-1,0]\n",
       "55       OST_WEST_KZ          building  categorical               [-1]\n",
       "57   CAMEO_DEUG_2015     microcell_rr4  categorical             [-1,X]\n",
       "58    CAMEO_DEU_2015     microcell_rr4  categorical               [XX]"
      ]
     },
     "execution_count": 28,
     "metadata": {},
     "output_type": "execute_result"
    }
   ],
   "source": [
    "new_feat_info = feat_info[feat_info['type'] == 'categorical']\n",
    "new_feat_info"
   ]
  },
  {
   "cell_type": "code",
   "execution_count": 29,
   "metadata": {},
   "outputs": [
    {
     "data": {
      "text/plain": [
       "['ANREDE_KZ',\n",
       " 'CJT_GESAMTTYP',\n",
       " 'FINANZTYP',\n",
       " 'GFK_URLAUBERTYP',\n",
       " 'GREEN_AVANTGARDE',\n",
       " 'LP_FAMILIE_FEIN',\n",
       " 'LP_FAMILIE_GROB',\n",
       " 'LP_STATUS_FEIN',\n",
       " 'LP_STATUS_GROB',\n",
       " 'NATIONALITAET_KZ',\n",
       " 'SHOPPER_TYP',\n",
       " 'SOHO_KZ',\n",
       " 'TITEL_KZ',\n",
       " 'VERS_TYP',\n",
       " 'ZABEOTYP',\n",
       " 'GEBAEUDETYP',\n",
       " 'OST_WEST_KZ',\n",
       " 'CAMEO_DEUG_2015',\n",
       " 'CAMEO_DEU_2015']"
      ]
     },
     "execution_count": 29,
     "metadata": {},
     "output_type": "execute_result"
    }
   ],
   "source": [
    "categorical_attrib =  feat_info[feat_info['type'] == 'categorical']['attribute'].values\n",
    "categorical_attrib  = [x for x in categorical_attrib  if x in missed_less_20.columns] \n",
    "categorical_attrib"
   ]
  },
  {
   "cell_type": "markdown",
   "metadata": {},
   "source": [
    "#### Step 1.2.1: Re-Encode Categorical Features\n",
    "\n",
    "For categorical data, you would ordinarily need to encode the levels as dummy variables. Depending on the number of categories, perform one of the following:\n",
    "- For binary (two-level) categoricals that take numeric values, you can keep them without needing to do anything.\n",
    "- There is one binary variable that takes on non-numeric values. For this one, you need to re-encode the values as numbers or create a dummy variable.\n",
    "- For multi-level categoricals (three or more values), you can choose to encode the values using multiple dummy variables (e.g. via [OneHotEncoder](http://scikit-learn.org/stable/modules/generated/sklearn.preprocessing.OneHotEncoder.html)), or (to keep things straightforward) just drop them from the analysis. As always, document your choices in the Discussion section."
   ]
  },
  {
   "cell_type": "code",
   "execution_count": 30,
   "metadata": {
    "scrolled": true
   },
   "outputs": [
    {
     "name": "stdout",
     "output_type": "stream",
     "text": [
      "mulit feature ['CJT_GESAMTTYP', 'FINANZTYP', 'GFK_URLAUBERTYP', 'LP_FAMILIE_FEIN', 'LP_FAMILIE_GROB', 'LP_STATUS_FEIN', 'LP_STATUS_GROB', 'NATIONALITAET_KZ', 'SHOPPER_TYP', 'TITEL_KZ', 'VERS_TYP', 'ZABEOTYP', 'GEBAEUDETYP', 'CAMEO_DEUG_2015', 'CAMEO_DEU_2015']\n"
     ]
    }
   ],
   "source": [
    "# Assess categorical variables: which are binary, which are multi-level, and\n",
    "# which one needs to be re-encoded?\n",
    "multi_feature=[]\n",
    "single_feature = []\n",
    "binary_feature =[]\n",
    "for x in categorical_attrib :\n",
    "    if (len(missed_less_20[x].unique())>2):\n",
    "        multi_feature.append(x)\n",
    "    elif (len(missed_less_20[x].unique())==2):\n",
    "        binary_feature.append(x)\n",
    "print ('mulit feature {}'.format(multi_feature))"
   ]
  },
  {
   "cell_type": "code",
   "execution_count": 31,
   "metadata": {},
   "outputs": [
    {
     "name": "stdout",
     "output_type": "stream",
     "text": [
      "binary_feature['ANREDE_KZ', 'GREEN_AVANTGARDE', 'SOHO_KZ', 'OST_WEST_KZ']\n"
     ]
    }
   ],
   "source": [
    "print ('binary_feature{}'.format(binary_feature))  "
   ]
  },
  {
   "cell_type": "code",
   "execution_count": 32,
   "metadata": {},
   "outputs": [
    {
     "name": "stdout",
     "output_type": "stream",
     "text": [
      "categorical is ['ANREDE_KZ', 'CJT_GESAMTTYP', 'FINANZTYP', 'GFK_URLAUBERTYP', 'GREEN_AVANTGARDE', 'LP_FAMILIE_FEIN', 'LP_FAMILIE_GROB', 'LP_STATUS_FEIN', 'LP_STATUS_GROB', 'NATIONALITAET_KZ', 'SHOPPER_TYP', 'SOHO_KZ', 'TITEL_KZ', 'VERS_TYP', 'ZABEOTYP', 'GEBAEUDETYP', 'OST_WEST_KZ', 'CAMEO_DEUG_2015', 'CAMEO_DEU_2015']\n"
     ]
    }
   ],
   "source": [
    "print ('categorical is {}'.format(categorical_attrib))"
   ]
  },
  {
   "cell_type": "code",
   "execution_count": 33,
   "metadata": {
    "scrolled": false
   },
   "outputs": [
    {
     "data": {
      "text/plain": [
       "CJT_GESAMTTYP        6\n",
       "FINANZTYP            6\n",
       "GFK_URLAUBERTYP     12\n",
       "LP_FAMILIE_FEIN     12\n",
       "LP_FAMILIE_GROB      6\n",
       "LP_STATUS_FEIN      10\n",
       "LP_STATUS_GROB       5\n",
       "NATIONALITAET_KZ     4\n",
       "SHOPPER_TYP          5\n",
       "TITEL_KZ             6\n",
       "VERS_TYP             3\n",
       "ZABEOTYP             6\n",
       "GEBAEUDETYP          7\n",
       "CAMEO_DEUG_2015     10\n",
       "CAMEO_DEU_2015      45\n",
       "dtype: int64"
      ]
     },
     "execution_count": 33,
     "metadata": {},
     "output_type": "execute_result"
    }
   ],
   "source": [
    "azdias[multi_feature].nunique()"
   ]
  },
  {
   "cell_type": "code",
   "execution_count": 34,
   "metadata": {},
   "outputs": [
    {
     "data": {
      "text/plain": [
       "<matplotlib.axes._subplots.AxesSubplot at 0x7f962e200fd0>"
      ]
     },
     "execution_count": 34,
     "metadata": {},
     "output_type": "execute_result"
    },
    {
     "data": {
      "image/png": "[encoded data removed]",
      "text/plain": [
       "<matplotlib.figure.Figure at 0x7f962e17d208>"
      ]
     },
     "metadata": {
      "needs_background": "light"
     },
     "output_type": "display_data"
    }
   ],
   "source": [
    "fig, axes = plt.subplots(1,2, figsize=(14, 6), sharey=True)\n",
    "sns.countplot(azdias[multi_feature].nunique(), ax=axes[0],  palette=\"Reds\")\n",
    "sns.countplot(azdias[categorical_attrib].nunique(), ax=axes[1], palette=\"Greens\")"
   ]
  },
  {
   "cell_type": "code",
   "execution_count": 35,
   "metadata": {
    "scrolled": true
   },
   "outputs": [
    {
     "data": {
      "text/plain": [
       "CJT_GESAMTTYP        6\n",
       "FINANZTYP            6\n",
       "GFK_URLAUBERTYP     12\n",
       "LP_FAMILIE_FEIN     12\n",
       "LP_FAMILIE_GROB      6\n",
       "LP_STATUS_FEIN      10\n",
       "LP_STATUS_GROB       5\n",
       "NATIONALITAET_KZ     4\n",
       "SHOPPER_TYP          5\n",
       "TITEL_KZ             6\n",
       "VERS_TYP             3\n",
       "ZABEOTYP             6\n",
       "GEBAEUDETYP          7\n",
       "CAMEO_DEUG_2015     10\n",
       "CAMEO_DEU_2015      45\n",
       "dtype: int64"
      ]
     },
     "execution_count": 35,
     "metadata": {},
     "output_type": "execute_result"
    }
   ],
   "source": [
    "azdias[multi_feature].nunique()"
   ]
  },
  {
   "cell_type": "code",
   "execution_count": 36,
   "metadata": {},
   "outputs": [
    {
     "data": {
      "text/plain": [
       "(15, 4)"
      ]
     },
     "execution_count": 36,
     "metadata": {},
     "output_type": "execute_result"
    }
   ],
   "source": [
    "len(multi_feature) , len(binary_feature)"
   ]
  },
  {
   "cell_type": "code",
   "execution_count": 37,
   "metadata": {},
   "outputs": [
    {
     "name": "stdout",
     "output_type": "stream",
     "text": [
      "Unique values for ANREDE_KZ are [2 1]\n",
      "Unique values for GREEN_AVANTGARDE are [0 1]\n",
      "Unique values for SOHO_KZ are [ 1.  0.]\n",
      "Unique values for OST_WEST_KZ are ['W' 'O']\n"
     ]
    }
   ],
   "source": [
    "for feature in binary_feature:\n",
    "    print('Unique values for {} are {}'.format(feature, missed_less_20[feature].unique()))"
   ]
  },
  {
   "cell_type": "code",
   "execution_count": 38,
   "metadata": {
    "scrolled": true
   },
   "outputs": [],
   "source": [
    "# Re-encode categorical variable(s) to be kept in the analysis.\n",
    "encoded_azdias = missed_less_20.replace({'OST_WEST_KZ':{'W':0,'O':1}})"
   ]
  },
  {
   "cell_type": "code",
   "execution_count": 39,
   "metadata": {
    "scrolled": true
   },
   "outputs": [
    {
     "name": "stdout",
     "output_type": "stream",
     "text": [
      "values ANREDE_KZ with unique are [2 1]\n",
      "values GREEN_AVANTGARDE with unique are [0 1]\n",
      "values SOHO_KZ with unique are [ 1.  0.]\n",
      "values OST_WEST_KZ with unique are [0 1]\n"
     ]
    }
   ],
   "source": [
    "for feature in binary_feature:\n",
    "    print('values {} with unique are {}'.format(feature, encoded_azdias[feature].unique()))"
   ]
  },
  {
   "cell_type": "code",
   "execution_count": 40,
   "metadata": {},
   "outputs": [],
   "source": [
    "for feature in multi_feature:\n",
    "    encoded_azdias.drop(feature , axis=1 )"
   ]
  },
  {
   "cell_type": "markdown",
   "metadata": {},
   "source": [
    "#### Discussion 1.2.1: Re-Encode Categorical Features\n",
    "\n",
    "(we have dropping multilevel feature [CAMEO_DEU_2015 ] which include 44 &&&\n",
    "  2-also encoded W and O in binary feature to 0 $ 1 \n",
    "  third we "
   ]
  },
  {
   "cell_type": "markdown",
   "metadata": {},
   "source": [
    "#### Step 1.2.2: Engineer Mixed-Type Features\n",
    "\n",
    "There are a handful of features that are marked as \"mixed\" in the feature summary that require special treatment in order to be included in the analysis. There are two in particular that deserve attention; the handling of the rest are up to your own choices:\n",
    "- \"PRAEGENDE_JUGENDJAHRE\" combines information on three dimensions: generation by decade, movement (mainstream vs. avantgarde), and nation (east vs. west). While there aren't enough levels to disentangle east from west, you should create two new variables to capture the other two dimensions: an interval-type variable for decade, and a binary variable for movement.\n",
    "- \"CAMEO_INTL_2015\" combines information on two axes: wealth and life stage. Break up the two-digit codes by their 'tens'-place and 'ones'-place digits into two new ordinal variables (which, for the purposes of this project, is equivalent to just treating them as their raw numeric values).\n",
    "- If you decide to keep or engineer new features around the other mixed-type features, make sure you note your steps in the Discussion section.\n",
    "\n",
    "Be sure to check `Data_Dictionary.md` for the details needed to finish these tasks."
   ]
  },
  {
   "cell_type": "code",
   "execution_count": 41,
   "metadata": {},
   "outputs": [
    {
     "data": {
      "text/html": [
       "<div>\n",
       "<style scoped>\n",
       "    .dataframe tbody tr th:only-of-type {\n",
       "        vertical-align: middle;\n",
       "    }\n",
       "\n",
       "    .dataframe tbody tr th {\n",
       "        vertical-align: top;\n",
       "    }\n",
       "\n",
       "    .dataframe thead th {\n",
       "        text-align: right;\n",
       "    }\n",
       "</style>\n",
       "<table border=\"1\" class=\"dataframe\">\n",
       "  <thead>\n",
       "    <tr style=\"text-align: right;\">\n",
       "      <th></th>\n",
       "      <th>ALTERSKATEGORIE_GROB</th>\n",
       "      <th>ANREDE_KZ</th>\n",
       "      <th>CJT_GESAMTTYP</th>\n",
       "      <th>FINANZ_MINIMALIST</th>\n",
       "      <th>FINANZ_SPARER</th>\n",
       "      <th>FINANZ_VORSORGER</th>\n",
       "      <th>FINANZ_ANLEGER</th>\n",
       "      <th>FINANZ_UNAUFFAELLIGER</th>\n",
       "      <th>FINANZ_HAUSBAUER</th>\n",
       "      <th>FINANZTYP</th>\n",
       "      <th>...</th>\n",
       "      <th>PLZ8_ANTG1</th>\n",
       "      <th>PLZ8_ANTG2</th>\n",
       "      <th>PLZ8_ANTG3</th>\n",
       "      <th>PLZ8_ANTG4</th>\n",
       "      <th>PLZ8_BAUMAX</th>\n",
       "      <th>PLZ8_HHZ</th>\n",
       "      <th>PLZ8_GBZ</th>\n",
       "      <th>ARBEIT</th>\n",
       "      <th>ORTSGR_KLS9</th>\n",
       "      <th>RELAT_AB</th>\n",
       "    </tr>\n",
       "  </thead>\n",
       "  <tbody>\n",
       "    <tr>\n",
       "      <th>1</th>\n",
       "      <td>1.0</td>\n",
       "      <td>2</td>\n",
       "      <td>5.0</td>\n",
       "      <td>1</td>\n",
       "      <td>5</td>\n",
       "      <td>2</td>\n",
       "      <td>5</td>\n",
       "      <td>4</td>\n",
       "      <td>5</td>\n",
       "      <td>1</td>\n",
       "      <td>...</td>\n",
       "      <td>2.0</td>\n",
       "      <td>3.0</td>\n",
       "      <td>2.0</td>\n",
       "      <td>1.0</td>\n",
       "      <td>1.0</td>\n",
       "      <td>5.0</td>\n",
       "      <td>4.0</td>\n",
       "      <td>3.0</td>\n",
       "      <td>5.0</td>\n",
       "      <td>4.0</td>\n",
       "    </tr>\n",
       "    <tr>\n",
       "      <th>2</th>\n",
       "      <td>3.0</td>\n",
       "      <td>2</td>\n",
       "      <td>3.0</td>\n",
       "      <td>1</td>\n",
       "      <td>4</td>\n",
       "      <td>1</td>\n",
       "      <td>2</td>\n",
       "      <td>3</td>\n",
       "      <td>5</td>\n",
       "      <td>1</td>\n",
       "      <td>...</td>\n",
       "      <td>3.0</td>\n",
       "      <td>3.0</td>\n",
       "      <td>1.0</td>\n",
       "      <td>0.0</td>\n",
       "      <td>1.0</td>\n",
       "      <td>4.0</td>\n",
       "      <td>4.0</td>\n",
       "      <td>3.0</td>\n",
       "      <td>5.0</td>\n",
       "      <td>2.0</td>\n",
       "    </tr>\n",
       "    <tr>\n",
       "      <th>3</th>\n",
       "      <td>4.0</td>\n",
       "      <td>2</td>\n",
       "      <td>2.0</td>\n",
       "      <td>4</td>\n",
       "      <td>2</td>\n",
       "      <td>5</td>\n",
       "      <td>2</td>\n",
       "      <td>1</td>\n",
       "      <td>2</td>\n",
       "      <td>6</td>\n",
       "      <td>...</td>\n",
       "      <td>2.0</td>\n",
       "      <td>2.0</td>\n",
       "      <td>2.0</td>\n",
       "      <td>0.0</td>\n",
       "      <td>1.0</td>\n",
       "      <td>3.0</td>\n",
       "      <td>4.0</td>\n",
       "      <td>2.0</td>\n",
       "      <td>3.0</td>\n",
       "      <td>3.0</td>\n",
       "    </tr>\n",
       "    <tr>\n",
       "      <th>4</th>\n",
       "      <td>3.0</td>\n",
       "      <td>1</td>\n",
       "      <td>5.0</td>\n",
       "      <td>4</td>\n",
       "      <td>3</td>\n",
       "      <td>4</td>\n",
       "      <td>1</td>\n",
       "      <td>3</td>\n",
       "      <td>2</td>\n",
       "      <td>5</td>\n",
       "      <td>...</td>\n",
       "      <td>2.0</td>\n",
       "      <td>4.0</td>\n",
       "      <td>2.0</td>\n",
       "      <td>1.0</td>\n",
       "      <td>2.0</td>\n",
       "      <td>3.0</td>\n",
       "      <td>3.0</td>\n",
       "      <td>4.0</td>\n",
       "      <td>6.0</td>\n",
       "      <td>5.0</td>\n",
       "    </tr>\n",
       "    <tr>\n",
       "      <th>5</th>\n",
       "      <td>1.0</td>\n",
       "      <td>2</td>\n",
       "      <td>2.0</td>\n",
       "      <td>3</td>\n",
       "      <td>1</td>\n",
       "      <td>5</td>\n",
       "      <td>2</td>\n",
       "      <td>2</td>\n",
       "      <td>5</td>\n",
       "      <td>2</td>\n",
       "      <td>...</td>\n",
       "      <td>2.0</td>\n",
       "      <td>3.0</td>\n",
       "      <td>1.0</td>\n",
       "      <td>1.0</td>\n",
       "      <td>1.0</td>\n",
       "      <td>5.0</td>\n",
       "      <td>5.0</td>\n",
       "      <td>2.0</td>\n",
       "      <td>3.0</td>\n",
       "      <td>3.0</td>\n",
       "    </tr>\n",
       "  </tbody>\n",
       "</table>\n",
       "<p>5 rows × 83 columns</p>\n",
       "</div>"
      ],
      "text/plain": [
       "   ALTERSKATEGORIE_GROB  ANREDE_KZ  CJT_GESAMTTYP  FINANZ_MINIMALIST  \\\n",
       "1                   1.0          2            5.0                  1   \n",
       "2                   3.0          2            3.0                  1   \n",
       "3                   4.0          2            2.0                  4   \n",
       "4                   3.0          1            5.0                  4   \n",
       "5                   1.0          2            2.0                  3   \n",
       "\n",
       "   FINANZ_SPARER  FINANZ_VORSORGER  FINANZ_ANLEGER  FINANZ_UNAUFFAELLIGER  \\\n",
       "1              5                 2               5                      4   \n",
       "2              4                 1               2                      3   \n",
       "3              2                 5               2                      1   \n",
       "4              3                 4               1                      3   \n",
       "5              1                 5               2                      2   \n",
       "\n",
       "   FINANZ_HAUSBAUER  FINANZTYP    ...     PLZ8_ANTG1  PLZ8_ANTG2  PLZ8_ANTG3  \\\n",
       "1                 5          1    ...            2.0         3.0         2.0   \n",
       "2                 5          1    ...            3.0         3.0         1.0   \n",
       "3                 2          6    ...            2.0         2.0         2.0   \n",
       "4                 2          5    ...            2.0         4.0         2.0   \n",
       "5                 5          2    ...            2.0         3.0         1.0   \n",
       "\n",
       "   PLZ8_ANTG4  PLZ8_BAUMAX  PLZ8_HHZ  PLZ8_GBZ  ARBEIT  ORTSGR_KLS9  RELAT_AB  \n",
       "1         1.0          1.0       5.0       4.0     3.0          5.0       4.0  \n",
       "2         0.0          1.0       4.0       4.0     3.0          5.0       2.0  \n",
       "3         0.0          1.0       3.0       4.0     2.0          3.0       3.0  \n",
       "4         1.0          2.0       3.0       3.0     4.0          6.0       5.0  \n",
       "5         1.0          1.0       5.0       5.0     2.0          3.0       3.0  \n",
       "\n",
       "[5 rows x 83 columns]"
      ]
     },
     "execution_count": 41,
     "metadata": {},
     "output_type": "execute_result"
    }
   ],
   "source": [
    "encoded_azdias.head()"
   ]
  },
  {
   "cell_type": "code",
   "execution_count": 42,
   "metadata": {},
   "outputs": [
    {
     "data": {
      "text/plain": [
       "LP_LEBENSPHASE_FEIN      41\n",
       "LP_LEBENSPHASE_GROB      13\n",
       "PRAEGENDE_JUGENDJAHRE    16\n",
       "WOHNLAGE                  8\n",
       "CAMEO_INTL_2015          22\n",
       "KBA05_BAUMAX              6\n",
       "PLZ8_BAUMAX               5\n",
       "dtype: int64"
      ]
     },
     "execution_count": 42,
     "metadata": {},
     "output_type": "execute_result"
    }
   ],
   "source": [
    "mixed_feat_info = feat_info[feat_info['type'] == 'mixed']['attribute'].values\n",
    "mixed_feat_info = [x for x in mixed_feat_info if x in missed_less_20.columns] \n",
    "azdias[mixed_feat_info].nunique()"
   ]
  },
  {
   "cell_type": "code",
   "execution_count": 43,
   "metadata": {},
   "outputs": [
    {
     "data": {
      "image/png": "[encoded data removed]",
      "text/plain": [
       "<matplotlib.figure.Figure at 0x7f962dfa1438>"
      ]
     },
     "metadata": {
      "needs_background": "light"
     },
     "output_type": "display_data"
    }
   ],
   "source": [
    "fig, ax1 = plt.subplots(figsize=(14,8))\n",
    "sns.barplot( azdias[mixed_feat_info].nunique().index   , azdias[mixed_feat_info].nunique() , palette=\"Reds\")\n",
    "plt.xticks(rotation = 45)\n",
    "plt.show()"
   ]
  },
  {
   "cell_type": "code",
   "execution_count": 44,
   "metadata": {
    "scrolled": false
   },
   "outputs": [
    {
     "data": {
      "text/html": [
       "<div>\n",
       "<style scoped>\n",
       "    .dataframe tbody tr th:only-of-type {\n",
       "        vertical-align: middle;\n",
       "    }\n",
       "\n",
       "    .dataframe tbody tr th {\n",
       "        vertical-align: top;\n",
       "    }\n",
       "\n",
       "    .dataframe thead th {\n",
       "        text-align: right;\n",
       "    }\n",
       "</style>\n",
       "<table border=\"1\" class=\"dataframe\">\n",
       "  <thead>\n",
       "    <tr style=\"text-align: right;\">\n",
       "      <th></th>\n",
       "      <th>attribute</th>\n",
       "      <th>information_level</th>\n",
       "      <th>type</th>\n",
       "      <th>missing_or_unknown</th>\n",
       "    </tr>\n",
       "  </thead>\n",
       "  <tbody>\n",
       "    <tr>\n",
       "      <th>15</th>\n",
       "      <td>LP_LEBENSPHASE_FEIN</td>\n",
       "      <td>person</td>\n",
       "      <td>mixed</td>\n",
       "      <td>[0]</td>\n",
       "    </tr>\n",
       "    <tr>\n",
       "      <th>16</th>\n",
       "      <td>LP_LEBENSPHASE_GROB</td>\n",
       "      <td>person</td>\n",
       "      <td>mixed</td>\n",
       "      <td>[0]</td>\n",
       "    </tr>\n",
       "    <tr>\n",
       "      <th>22</th>\n",
       "      <td>PRAEGENDE_JUGENDJAHRE</td>\n",
       "      <td>person</td>\n",
       "      <td>mixed</td>\n",
       "      <td>[-1,0]</td>\n",
       "    </tr>\n",
       "    <tr>\n",
       "      <th>56</th>\n",
       "      <td>WOHNLAGE</td>\n",
       "      <td>building</td>\n",
       "      <td>mixed</td>\n",
       "      <td>[-1]</td>\n",
       "    </tr>\n",
       "    <tr>\n",
       "      <th>59</th>\n",
       "      <td>CAMEO_INTL_2015</td>\n",
       "      <td>microcell_rr4</td>\n",
       "      <td>mixed</td>\n",
       "      <td>[-1,XX]</td>\n",
       "    </tr>\n",
       "    <tr>\n",
       "      <th>64</th>\n",
       "      <td>KBA05_BAUMAX</td>\n",
       "      <td>microcell_rr3</td>\n",
       "      <td>mixed</td>\n",
       "      <td>[-1,0]</td>\n",
       "    </tr>\n",
       "    <tr>\n",
       "      <th>79</th>\n",
       "      <td>PLZ8_BAUMAX</td>\n",
       "      <td>macrocell_plz8</td>\n",
       "      <td>mixed</td>\n",
       "      <td>[-1,0]</td>\n",
       "    </tr>\n",
       "  </tbody>\n",
       "</table>\n",
       "</div>"
      ],
      "text/plain": [
       "                attribute information_level   type missing_or_unknown\n",
       "15    LP_LEBENSPHASE_FEIN            person  mixed                [0]\n",
       "16    LP_LEBENSPHASE_GROB            person  mixed                [0]\n",
       "22  PRAEGENDE_JUGENDJAHRE            person  mixed             [-1,0]\n",
       "56               WOHNLAGE          building  mixed               [-1]\n",
       "59        CAMEO_INTL_2015     microcell_rr4  mixed            [-1,XX]\n",
       "64           KBA05_BAUMAX     microcell_rr3  mixed             [-1,0]\n",
       "79            PLZ8_BAUMAX    macrocell_plz8  mixed             [-1,0]"
      ]
     },
     "execution_count": 44,
     "metadata": {},
     "output_type": "execute_result"
    }
   ],
   "source": [
    "new_feat_info = feat_info[feat_info['type'] == 'mixed']\n",
    "new_feat_info"
   ]
  },
  {
   "cell_type": "code",
   "execution_count": 45,
   "metadata": {
    "scrolled": false
   },
   "outputs": [
    {
     "data": {
      "text/plain": [
       "14    182598\n",
       "8     141390\n",
       "10     85682\n",
       "5      84617\n",
       "3      53784\n",
       "15     42409\n",
       "11     35671\n",
       "9      33556\n",
       "0      28607\n",
       "6      25650\n",
       "12     24432\n",
       "1      20648\n",
       "4      20446\n",
       "2       7478\n",
       "13      5751\n",
       "7       4009\n",
       "Name: PRAEGENDE_JUGENDJAHRE, dtype: int64"
      ]
     },
     "execution_count": 45,
     "metadata": {},
     "output_type": "execute_result"
    }
   ],
   "source": [
    "encoded_azdias['PRAEGENDE_JUGENDJAHRE'].value_counts()"
   ]
  },
  {
   "cell_type": "markdown",
   "metadata": {},
   "source": [
    "### below code is from udacity knowledge "
   ]
  },
  {
   "cell_type": "code",
   "execution_count": 46,
   "metadata": {},
   "outputs": [],
   "source": [
    "# Investigate \"PRAEGENDE_JUGENDJAHRE\" and engineer two new variables.\n",
    "encoded_azdias['DECADE'] = encoded_azdias['PRAEGENDE_JUGENDJAHRE']\n",
    "encoded_azdias['MOVEMENT'] = encoded_azdias['PRAEGENDE_JUGENDJAHRE']"
   ]
  },
  {
   "cell_type": "code",
   "execution_count": 47,
   "metadata": {},
   "outputs": [],
   "source": [
    "decade_dict = {1:1, 2:1, 3:2, 4:2, 5:3, 6:3, 7:3, 8:4, 9:4, 10:5, 11:5, 12:5, 13:5, 14:6, 15:6}\n",
    "movement_dict = {1:1, 2:0, 3:1, 4:0, 5:1, 6:0, 7:0, 8:1, 9:0, 10:1, 11:0, 12:1, 13:0, 14:1, 15:0}"
   ]
  },
  {
   "cell_type": "code",
   "execution_count": 48,
   "metadata": {},
   "outputs": [],
   "source": [
    "wealth_dict = {'11':1, '12':1, '13':1, '14':1, '15':1, '21':2, '22':2, '23':2, '24':2, '25':2, '31':3, '32':3, '33':3,\n",
    "               '34':3, '35':3, '41':4, '42':4, '43':4, '44':4, '45':4, '51':5, '52':5, '53':5, '54':5, '55':5}\n",
    "\n",
    "life_stage_dict = {'11':1, '12':2, '13':3, '14':4, '15':5, '21':1, '22':2, '23':3, '24':4, '25':5, '31':1, '32':2, '33':3, '34':4, '35':5, '41':1, '42':2, '43':3,\n",
    "                   '44':4, '45':5, '51':1, '52':2, '53':3, '54':4, '55':5}"
   ]
  },
  {
   "cell_type": "code",
   "execution_count": 104,
   "metadata": {},
   "outputs": [
    {
     "ename": "KeyError",
     "evalue": "'CAMEO_INTL_2015'",
     "output_type": "error",
     "traceback": [
      "\u001b[0;31m---------------------------------------------------------------------------\u001b[0m",
      "\u001b[0;31mKeyError\u001b[0m                                  Traceback (most recent call last)",
      "\u001b[0;32m/opt/conda/lib/python3.6/site-packages/pandas/core/indexes/base.py\u001b[0m in \u001b[0;36mget_loc\u001b[0;34m(self, key, method, tolerance)\u001b[0m\n\u001b[1;32m   3077\u001b[0m             \u001b[0;32mtry\u001b[0m\u001b[0;34m:\u001b[0m\u001b[0;34m\u001b[0m\u001b[0m\n\u001b[0;32m-> 3078\u001b[0;31m                 \u001b[0;32mreturn\u001b[0m \u001b[0mself\u001b[0m\u001b[0;34m.\u001b[0m\u001b[0m_engine\u001b[0m\u001b[0;34m.\u001b[0m\u001b[0mget_loc\u001b[0m\u001b[0;34m(\u001b[0m\u001b[0mkey\u001b[0m\u001b[0;34m)\u001b[0m\u001b[0;34m\u001b[0m\u001b[0m\n\u001b[0m\u001b[1;32m   3079\u001b[0m             \u001b[0;32mexcept\u001b[0m \u001b[0mKeyError\u001b[0m\u001b[0;34m:\u001b[0m\u001b[0;34m\u001b[0m\u001b[0m\n",
      "\u001b[0;32mpandas/_libs/index.pyx\u001b[0m in \u001b[0;36mpandas._libs.index.IndexEngine.get_loc\u001b[0;34m()\u001b[0m\n",
      "\u001b[0;32mpandas/_libs/index.pyx\u001b[0m in \u001b[0;36mpandas._libs.index.IndexEngine.get_loc\u001b[0;34m()\u001b[0m\n",
      "\u001b[0;32mpandas/_libs/hashtable_class_helper.pxi\u001b[0m in \u001b[0;36mpandas._libs.hashtable.PyObjectHashTable.get_item\u001b[0;34m()\u001b[0m\n",
      "\u001b[0;32mpandas/_libs/hashtable_class_helper.pxi\u001b[0m in \u001b[0;36mpandas._libs.hashtable.PyObjectHashTable.get_item\u001b[0;34m()\u001b[0m\n",
      "\u001b[0;31mKeyError\u001b[0m: 'CAMEO_INTL_2015'",
      "\nDuring handling of the above exception, another exception occurred:\n",
      "\u001b[0;31mKeyError\u001b[0m                                  Traceback (most recent call last)",
      "\u001b[0;32m<ipython-input-104-46403be09e60>\u001b[0m in \u001b[0;36m<module>\u001b[0;34m()\u001b[0m\n\u001b[1;32m      1\u001b[0m \u001b[0;31m# Investigate \"CAMEO_INTL_2015\" and engineer two new variables.\u001b[0m\u001b[0;34m\u001b[0m\u001b[0;34m\u001b[0m\u001b[0m\n\u001b[0;32m----> 2\u001b[0;31m \u001b[0mencoded_azdias\u001b[0m\u001b[0;34m[\u001b[0m\u001b[0;34m'WEALTH'\u001b[0m\u001b[0;34m]\u001b[0m \u001b[0;34m=\u001b[0m \u001b[0mencoded_azdias\u001b[0m\u001b[0;34m[\u001b[0m\u001b[0;34m'CAMEO_INTL_2015'\u001b[0m\u001b[0;34m]\u001b[0m\u001b[0;34m\u001b[0m\u001b[0m\n\u001b[0m\u001b[1;32m      3\u001b[0m \u001b[0mencoded_azdias\u001b[0m\u001b[0;34m[\u001b[0m\u001b[0;34m'LIFE_STAGE'\u001b[0m\u001b[0;34m]\u001b[0m \u001b[0;34m=\u001b[0m \u001b[0mencoded_azdias\u001b[0m\u001b[0;34m[\u001b[0m\u001b[0;34m'CAMEO_INTL_2015'\u001b[0m\u001b[0;34m]\u001b[0m\u001b[0;34m\u001b[0m\u001b[0m\n",
      "\u001b[0;32m/opt/conda/lib/python3.6/site-packages/pandas/core/frame.py\u001b[0m in \u001b[0;36m__getitem__\u001b[0;34m(self, key)\u001b[0m\n\u001b[1;32m   2686\u001b[0m             \u001b[0;32mreturn\u001b[0m \u001b[0mself\u001b[0m\u001b[0;34m.\u001b[0m\u001b[0m_getitem_multilevel\u001b[0m\u001b[0;34m(\u001b[0m\u001b[0mkey\u001b[0m\u001b[0;34m)\u001b[0m\u001b[0;34m\u001b[0m\u001b[0m\n\u001b[1;32m   2687\u001b[0m         \u001b[0;32melse\u001b[0m\u001b[0;34m:\u001b[0m\u001b[0;34m\u001b[0m\u001b[0m\n\u001b[0;32m-> 2688\u001b[0;31m             \u001b[0;32mreturn\u001b[0m \u001b[0mself\u001b[0m\u001b[0;34m.\u001b[0m\u001b[0m_getitem_column\u001b[0m\u001b[0;34m(\u001b[0m\u001b[0mkey\u001b[0m\u001b[0;34m)\u001b[0m\u001b[0;34m\u001b[0m\u001b[0m\n\u001b[0m\u001b[1;32m   2689\u001b[0m \u001b[0;34m\u001b[0m\u001b[0m\n\u001b[1;32m   2690\u001b[0m     \u001b[0;32mdef\u001b[0m \u001b[0m_getitem_column\u001b[0m\u001b[0;34m(\u001b[0m\u001b[0mself\u001b[0m\u001b[0;34m,\u001b[0m \u001b[0mkey\u001b[0m\u001b[0;34m)\u001b[0m\u001b[0;34m:\u001b[0m\u001b[0;34m\u001b[0m\u001b[0m\n",
      "\u001b[0;32m/opt/conda/lib/python3.6/site-packages/pandas/core/frame.py\u001b[0m in \u001b[0;36m_getitem_column\u001b[0;34m(self, key)\u001b[0m\n\u001b[1;32m   2693\u001b[0m         \u001b[0;31m# get column\u001b[0m\u001b[0;34m\u001b[0m\u001b[0;34m\u001b[0m\u001b[0m\n\u001b[1;32m   2694\u001b[0m         \u001b[0;32mif\u001b[0m \u001b[0mself\u001b[0m\u001b[0;34m.\u001b[0m\u001b[0mcolumns\u001b[0m\u001b[0;34m.\u001b[0m\u001b[0mis_unique\u001b[0m\u001b[0;34m:\u001b[0m\u001b[0;34m\u001b[0m\u001b[0m\n\u001b[0;32m-> 2695\u001b[0;31m             \u001b[0;32mreturn\u001b[0m \u001b[0mself\u001b[0m\u001b[0;34m.\u001b[0m\u001b[0m_get_item_cache\u001b[0m\u001b[0;34m(\u001b[0m\u001b[0mkey\u001b[0m\u001b[0;34m)\u001b[0m\u001b[0;34m\u001b[0m\u001b[0m\n\u001b[0m\u001b[1;32m   2696\u001b[0m \u001b[0;34m\u001b[0m\u001b[0m\n\u001b[1;32m   2697\u001b[0m         \u001b[0;31m# duplicate columns & possible reduce dimensionality\u001b[0m\u001b[0;34m\u001b[0m\u001b[0;34m\u001b[0m\u001b[0m\n",
      "\u001b[0;32m/opt/conda/lib/python3.6/site-packages/pandas/core/generic.py\u001b[0m in \u001b[0;36m_get_item_cache\u001b[0;34m(self, item)\u001b[0m\n\u001b[1;32m   2487\u001b[0m         \u001b[0mres\u001b[0m \u001b[0;34m=\u001b[0m \u001b[0mcache\u001b[0m\u001b[0;34m.\u001b[0m\u001b[0mget\u001b[0m\u001b[0;34m(\u001b[0m\u001b[0mitem\u001b[0m\u001b[0;34m)\u001b[0m\u001b[0;34m\u001b[0m\u001b[0m\n\u001b[1;32m   2488\u001b[0m         \u001b[0;32mif\u001b[0m \u001b[0mres\u001b[0m \u001b[0;32mis\u001b[0m \u001b[0;32mNone\u001b[0m\u001b[0;34m:\u001b[0m\u001b[0;34m\u001b[0m\u001b[0m\n\u001b[0;32m-> 2489\u001b[0;31m             \u001b[0mvalues\u001b[0m \u001b[0;34m=\u001b[0m \u001b[0mself\u001b[0m\u001b[0;34m.\u001b[0m\u001b[0m_data\u001b[0m\u001b[0;34m.\u001b[0m\u001b[0mget\u001b[0m\u001b[0;34m(\u001b[0m\u001b[0mitem\u001b[0m\u001b[0;34m)\u001b[0m\u001b[0;34m\u001b[0m\u001b[0m\n\u001b[0m\u001b[1;32m   2490\u001b[0m             \u001b[0mres\u001b[0m \u001b[0;34m=\u001b[0m \u001b[0mself\u001b[0m\u001b[0;34m.\u001b[0m\u001b[0m_box_item_values\u001b[0m\u001b[0;34m(\u001b[0m\u001b[0mitem\u001b[0m\u001b[0;34m,\u001b[0m \u001b[0mvalues\u001b[0m\u001b[0;34m)\u001b[0m\u001b[0;34m\u001b[0m\u001b[0m\n\u001b[1;32m   2491\u001b[0m             \u001b[0mcache\u001b[0m\u001b[0;34m[\u001b[0m\u001b[0mitem\u001b[0m\u001b[0;34m]\u001b[0m \u001b[0;34m=\u001b[0m \u001b[0mres\u001b[0m\u001b[0;34m\u001b[0m\u001b[0m\n",
      "\u001b[0;32m/opt/conda/lib/python3.6/site-packages/pandas/core/internals.py\u001b[0m in \u001b[0;36mget\u001b[0;34m(self, item, fastpath)\u001b[0m\n\u001b[1;32m   4113\u001b[0m \u001b[0;34m\u001b[0m\u001b[0m\n\u001b[1;32m   4114\u001b[0m             \u001b[0;32mif\u001b[0m \u001b[0;32mnot\u001b[0m \u001b[0misna\u001b[0m\u001b[0;34m(\u001b[0m\u001b[0mitem\u001b[0m\u001b[0;34m)\u001b[0m\u001b[0;34m:\u001b[0m\u001b[0;34m\u001b[0m\u001b[0m\n\u001b[0;32m-> 4115\u001b[0;31m                 \u001b[0mloc\u001b[0m \u001b[0;34m=\u001b[0m \u001b[0mself\u001b[0m\u001b[0;34m.\u001b[0m\u001b[0mitems\u001b[0m\u001b[0;34m.\u001b[0m\u001b[0mget_loc\u001b[0m\u001b[0;34m(\u001b[0m\u001b[0mitem\u001b[0m\u001b[0;34m)\u001b[0m\u001b[0;34m\u001b[0m\u001b[0m\n\u001b[0m\u001b[1;32m   4116\u001b[0m             \u001b[0;32melse\u001b[0m\u001b[0;34m:\u001b[0m\u001b[0;34m\u001b[0m\u001b[0m\n\u001b[1;32m   4117\u001b[0m                 \u001b[0mindexer\u001b[0m \u001b[0;34m=\u001b[0m \u001b[0mnp\u001b[0m\u001b[0;34m.\u001b[0m\u001b[0marange\u001b[0m\u001b[0;34m(\u001b[0m\u001b[0mlen\u001b[0m\u001b[0;34m(\u001b[0m\u001b[0mself\u001b[0m\u001b[0;34m.\u001b[0m\u001b[0mitems\u001b[0m\u001b[0;34m)\u001b[0m\u001b[0;34m)\u001b[0m\u001b[0;34m[\u001b[0m\u001b[0misna\u001b[0m\u001b[0;34m(\u001b[0m\u001b[0mself\u001b[0m\u001b[0;34m.\u001b[0m\u001b[0mitems\u001b[0m\u001b[0;34m)\u001b[0m\u001b[0;34m]\u001b[0m\u001b[0;34m\u001b[0m\u001b[0m\n",
      "\u001b[0;32m/opt/conda/lib/python3.6/site-packages/pandas/core/indexes/base.py\u001b[0m in \u001b[0;36mget_loc\u001b[0;34m(self, key, method, tolerance)\u001b[0m\n\u001b[1;32m   3078\u001b[0m                 \u001b[0;32mreturn\u001b[0m \u001b[0mself\u001b[0m\u001b[0;34m.\u001b[0m\u001b[0m_engine\u001b[0m\u001b[0;34m.\u001b[0m\u001b[0mget_loc\u001b[0m\u001b[0;34m(\u001b[0m\u001b[0mkey\u001b[0m\u001b[0;34m)\u001b[0m\u001b[0;34m\u001b[0m\u001b[0m\n\u001b[1;32m   3079\u001b[0m             \u001b[0;32mexcept\u001b[0m \u001b[0mKeyError\u001b[0m\u001b[0;34m:\u001b[0m\u001b[0;34m\u001b[0m\u001b[0m\n\u001b[0;32m-> 3080\u001b[0;31m                 \u001b[0;32mreturn\u001b[0m \u001b[0mself\u001b[0m\u001b[0;34m.\u001b[0m\u001b[0m_engine\u001b[0m\u001b[0;34m.\u001b[0m\u001b[0mget_loc\u001b[0m\u001b[0;34m(\u001b[0m\u001b[0mself\u001b[0m\u001b[0;34m.\u001b[0m\u001b[0m_maybe_cast_indexer\u001b[0m\u001b[0;34m(\u001b[0m\u001b[0mkey\u001b[0m\u001b[0;34m)\u001b[0m\u001b[0;34m)\u001b[0m\u001b[0;34m\u001b[0m\u001b[0m\n\u001b[0m\u001b[1;32m   3081\u001b[0m \u001b[0;34m\u001b[0m\u001b[0m\n\u001b[1;32m   3082\u001b[0m         \u001b[0mindexer\u001b[0m \u001b[0;34m=\u001b[0m \u001b[0mself\u001b[0m\u001b[0;34m.\u001b[0m\u001b[0mget_indexer\u001b[0m\u001b[0;34m(\u001b[0m\u001b[0;34m[\u001b[0m\u001b[0mkey\u001b[0m\u001b[0;34m]\u001b[0m\u001b[0;34m,\u001b[0m \u001b[0mmethod\u001b[0m\u001b[0;34m=\u001b[0m\u001b[0mmethod\u001b[0m\u001b[0;34m,\u001b[0m \u001b[0mtolerance\u001b[0m\u001b[0;34m=\u001b[0m\u001b[0mtolerance\u001b[0m\u001b[0;34m)\u001b[0m\u001b[0;34m\u001b[0m\u001b[0m\n",
      "\u001b[0;32mpandas/_libs/index.pyx\u001b[0m in \u001b[0;36mpandas._libs.index.IndexEngine.get_loc\u001b[0;34m()\u001b[0m\n",
      "\u001b[0;32mpandas/_libs/index.pyx\u001b[0m in \u001b[0;36mpandas._libs.index.IndexEngine.get_loc\u001b[0;34m()\u001b[0m\n",
      "\u001b[0;32mpandas/_libs/hashtable_class_helper.pxi\u001b[0m in \u001b[0;36mpandas._libs.hashtable.PyObjectHashTable.get_item\u001b[0;34m()\u001b[0m\n",
      "\u001b[0;32mpandas/_libs/hashtable_class_helper.pxi\u001b[0m in \u001b[0;36mpandas._libs.hashtable.PyObjectHashTable.get_item\u001b[0;34m()\u001b[0m\n",
      "\u001b[0;31mKeyError\u001b[0m: 'CAMEO_INTL_2015'"
     ]
    }
   ],
   "source": [
    "# Investigate \"CAMEO_INTL_2015\" and engineer two new variables.\n",
    "encoded_azdias['WEALTH'] = encoded_azdias['CAMEO_INTL_2015']\n",
    "encoded_azdias['LIFE_STAGE'] = encoded_azdias['CAMEO_INTL_2015']"
   ]
  },
  {
   "cell_type": "code",
   "execution_count": 105,
   "metadata": {},
   "outputs": [],
   "source": [
    "encoded_azdias['WEALTH'].replace(wealth_dict, inplace=True) \n",
    "encoded_azdias['LIFE_STAGE'].replace(life_stage_dict, inplace=True)\n"
   ]
  },
  {
   "cell_type": "code",
   "execution_count": 106,
   "metadata": {},
   "outputs": [],
   "source": [
    "for column in encoded_azdias.columns: \n",
    "    encoded_azdias=encoded_azdias.replace({col:['XX','X']},np.nan)"
   ]
  },
  {
   "cell_type": "code",
   "execution_count": 107,
   "metadata": {},
   "outputs": [
    {
     "name": "stdout",
     "output_type": "stream",
     "text": [
      "<class 'pandas.core.frame.DataFrame'>\n",
      "Int64Index: 796728 entries, 1 to 891220\n",
      "Data columns (total 80 columns):\n",
      "ALTERSKATEGORIE_GROB     793930 non-null float64\n",
      "ANREDE_KZ                796728 non-null int64\n",
      "CJT_GESAMTTYP            792087 non-null float64\n",
      "FINANZ_MINIMALIST        796728 non-null int64\n",
      "FINANZ_SPARER            796728 non-null int64\n",
      "FINANZ_VORSORGER         796728 non-null int64\n",
      "FINANZ_ANLEGER           796728 non-null int64\n",
      "FINANZ_UNAUFFAELLIGER    796728 non-null int64\n",
      "FINANZ_HAUSBAUER         796728 non-null int64\n",
      "FINANZTYP                796728 non-null int64\n",
      "GEBURTSJAHR              796728 non-null int64\n",
      "GFK_URLAUBERTYP          792087 non-null float64\n",
      "GREEN_AVANTGARDE         796728 non-null int64\n",
      "HEALTH_TYP               796728 non-null int64\n",
      "LP_FAMILIE_FEIN          792087 non-null float64\n",
      "LP_FAMILIE_GROB          792087 non-null float64\n",
      "LP_STATUS_FEIN           792087 non-null float64\n",
      "LP_STATUS_GROB           792087 non-null float64\n",
      "NATIONALITAET_KZ         796728 non-null int64\n",
      "RETOURTYP_BK_S           792087 non-null float64\n",
      "SEMIO_SOZ                796728 non-null int64\n",
      "SEMIO_FAM                796728 non-null int64\n",
      "SEMIO_REL                796728 non-null int64\n",
      "SEMIO_MAT                796728 non-null int64\n",
      "SEMIO_VERT               796728 non-null int64\n",
      "SEMIO_LUST               796728 non-null int64\n",
      "SEMIO_ERL                796728 non-null int64\n",
      "SEMIO_KULT               796728 non-null int64\n",
      "SEMIO_RAT                796728 non-null int64\n",
      "SEMIO_KRIT               796728 non-null int64\n",
      "SEMIO_DOM                796728 non-null int64\n",
      "SEMIO_KAEM               796728 non-null int64\n",
      "SEMIO_PFLICHT            796728 non-null int64\n",
      "SEMIO_TRADV              796728 non-null int64\n",
      "SHOPPER_TYP              796728 non-null int64\n",
      "SOHO_KZ                  796728 non-null float64\n",
      "TITEL_KZ                 796728 non-null float64\n",
      "VERS_TYP                 796728 non-null int64\n",
      "ZABEOTYP                 796728 non-null int64\n",
      "ALTER_HH                 796728 non-null float64\n",
      "ANZ_PERSONEN             796728 non-null float64\n",
      "ANZ_TITEL                796728 non-null float64\n",
      "HH_EINKOMMEN_SCORE       796728 non-null float64\n",
      "W_KEIT_KIND_HH           763526 non-null float64\n",
      "WOHNDAUER_2008           796728 non-null float64\n",
      "ANZ_HAUSHALTE_AKTIV      796728 non-null float64\n",
      "ANZ_HH_TITEL             792921 non-null float64\n",
      "GEBAEUDETYP              796728 non-null float64\n",
      "KONSUMNAEHE              796668 non-null float64\n",
      "MIN_GEBAEUDEJAHR         796728 non-null float64\n",
      "OST_WEST_KZ              796728 non-null int64\n",
      "CAMEO_DEUG_2015          792133 non-null object\n",
      "CAMEO_DEU_2015           792133 non-null object\n",
      "KBA05_ANTG1              757894 non-null float64\n",
      "KBA05_ANTG2              757894 non-null float64\n",
      "KBA05_ANTG3              757894 non-null float64\n",
      "KBA05_ANTG4              757894 non-null float64\n",
      "KBA05_GBZ                757894 non-null float64\n",
      "BALLRAUM                 796145 non-null float64\n",
      "EWDICHTE                 796145 non-null float64\n",
      "INNENSTADT               796145 non-null float64\n",
      "GEBAEUDETYP_RASTER       796723 non-null float64\n",
      "KKK                      769966 non-null float64\n",
      "MOBI_REGIO               757894 non-null float64\n",
      "ONLINE_AFFINITAET        792087 non-null float64\n",
      "REGIOTYP                 769966 non-null float64\n",
      "KBA13_ANZAHL_PKW         785346 non-null float64\n",
      "PLZ8_ANTG1               774704 non-null float64\n",
      "PLZ8_ANTG2               774704 non-null float64\n",
      "PLZ8_ANTG3               774704 non-null float64\n",
      "PLZ8_ANTG4               774704 non-null float64\n",
      "PLZ8_HHZ                 774704 non-null float64\n",
      "PLZ8_GBZ                 774704 non-null float64\n",
      "ARBEIT                   792672 non-null float64\n",
      "ORTSGR_KLS9              792672 non-null float64\n",
      "RELAT_AB                 792672 non-null float64\n",
      "DECADE                   796728 non-null int64\n",
      "MOVEMENT                 796728 non-null int64\n",
      "WEALTH                   792133 non-null object\n",
      "LIFE_STAGE               792133 non-null object\n",
      "dtypes: float64(44), int64(32), object(4)\n",
      "memory usage: 492.4+ MB\n"
     ]
    }
   ],
   "source": [
    "encoded_azdias.info()"
   ]
  },
  {
   "cell_type": "markdown",
   "metadata": {},
   "source": [
    "#### Discussion 1.2.2: Engineer Mixed-Type Features\n",
    "\n",
    "(Double-click this cell and replace this text with your own text, reporting your findings and decisions regarding mixed-value features. Which ones did you keep, which did you drop, and what engineering steps did you perform?)"
   ]
  },
  {
   "cell_type": "markdown",
   "metadata": {},
   "source": [
    "#### Step 1.2.3: Complete Feature Selection\n",
    "\n",
    "In order to finish this step up, you need to make sure that your data frame now only has the columns that you want to keep. To summarize, the dataframe should consist of the following:\n",
    "- All numeric, interval, and ordinal type columns from the original dataset.\n",
    "- Binary categorical features (all numerically-encoded).\n",
    "- Engineered features from other multi-level categorical features and mixed features.\n",
    "\n",
    "Make sure that for any new columns that you have engineered, that you've excluded the original columns from the final dataset. Otherwise, their values will interfere with the analysis later on the project. For example, you should not keep \"PRAEGENDE_JUGENDJAHRE\", since its values won't be useful for the algorithm: only the values derived from it in the engineered features you created should be retained. As a reminder, your data should only be from **the subset with few or no missing values**."
   ]
  },
  {
   "cell_type": "code",
   "execution_count": 108,
   "metadata": {},
   "outputs": [
    {
     "ename": "KeyError",
     "evalue": "\"['LP_LEBENSPHASE_FEIN'] not found in axis\"",
     "output_type": "error",
     "traceback": [
      "\u001b[0;31m---------------------------------------------------------------------------\u001b[0m",
      "\u001b[0;31mKeyError\u001b[0m                                  Traceback (most recent call last)",
      "\u001b[0;32m<ipython-input-108-7c3de01552ac>\u001b[0m in \u001b[0;36m<module>\u001b[0;34m()\u001b[0m\n\u001b[1;32m      2\u001b[0m \u001b[0;31m# take care of them here. (Dealing with missing data will come in step 2.1.)\u001b[0m\u001b[0;34m\u001b[0m\u001b[0;34m\u001b[0m\u001b[0m\n\u001b[1;32m      3\u001b[0m \u001b[0;32mfor\u001b[0m \u001b[0mfeature\u001b[0m \u001b[0;32min\u001b[0m \u001b[0mmixed_feat_info\u001b[0m\u001b[0;34m:\u001b[0m\u001b[0;34m\u001b[0m\u001b[0m\n\u001b[0;32m----> 4\u001b[0;31m     \u001b[0mencoded_azdias\u001b[0m\u001b[0;34m.\u001b[0m\u001b[0mdrop\u001b[0m\u001b[0;34m(\u001b[0m\u001b[0mfeature\u001b[0m\u001b[0;34m,\u001b[0m \u001b[0maxis\u001b[0m \u001b[0;34m=\u001b[0m\u001b[0;36m1\u001b[0m \u001b[0;34m,\u001b[0m \u001b[0minplace\u001b[0m \u001b[0;34m=\u001b[0m \u001b[0;32mTrue\u001b[0m \u001b[0;34m)\u001b[0m\u001b[0;34m\u001b[0m\u001b[0m\n\u001b[0m",
      "\u001b[0;32m/opt/conda/lib/python3.6/site-packages/pandas/core/frame.py\u001b[0m in \u001b[0;36mdrop\u001b[0;34m(self, labels, axis, index, columns, level, inplace, errors)\u001b[0m\n\u001b[1;32m   3695\u001b[0m                                            \u001b[0mindex\u001b[0m\u001b[0;34m=\u001b[0m\u001b[0mindex\u001b[0m\u001b[0;34m,\u001b[0m \u001b[0mcolumns\u001b[0m\u001b[0;34m=\u001b[0m\u001b[0mcolumns\u001b[0m\u001b[0;34m,\u001b[0m\u001b[0;34m\u001b[0m\u001b[0m\n\u001b[1;32m   3696\u001b[0m                                            \u001b[0mlevel\u001b[0m\u001b[0;34m=\u001b[0m\u001b[0mlevel\u001b[0m\u001b[0;34m,\u001b[0m \u001b[0minplace\u001b[0m\u001b[0;34m=\u001b[0m\u001b[0minplace\u001b[0m\u001b[0;34m,\u001b[0m\u001b[0;34m\u001b[0m\u001b[0m\n\u001b[0;32m-> 3697\u001b[0;31m                                            errors=errors)\n\u001b[0m\u001b[1;32m   3698\u001b[0m \u001b[0;34m\u001b[0m\u001b[0m\n\u001b[1;32m   3699\u001b[0m     @rewrite_axis_style_signature('mapper', [('copy', True),\n",
      "\u001b[0;32m/opt/conda/lib/python3.6/site-packages/pandas/core/generic.py\u001b[0m in \u001b[0;36mdrop\u001b[0;34m(self, labels, axis, index, columns, level, inplace, errors)\u001b[0m\n\u001b[1;32m   3109\u001b[0m         \u001b[0;32mfor\u001b[0m \u001b[0maxis\u001b[0m\u001b[0;34m,\u001b[0m \u001b[0mlabels\u001b[0m \u001b[0;32min\u001b[0m \u001b[0maxes\u001b[0m\u001b[0;34m.\u001b[0m\u001b[0mitems\u001b[0m\u001b[0;34m(\u001b[0m\u001b[0;34m)\u001b[0m\u001b[0;34m:\u001b[0m\u001b[0;34m\u001b[0m\u001b[0m\n\u001b[1;32m   3110\u001b[0m             \u001b[0;32mif\u001b[0m \u001b[0mlabels\u001b[0m \u001b[0;32mis\u001b[0m \u001b[0;32mnot\u001b[0m \u001b[0;32mNone\u001b[0m\u001b[0;34m:\u001b[0m\u001b[0;34m\u001b[0m\u001b[0m\n\u001b[0;32m-> 3111\u001b[0;31m                 \u001b[0mobj\u001b[0m \u001b[0;34m=\u001b[0m \u001b[0mobj\u001b[0m\u001b[0;34m.\u001b[0m\u001b[0m_drop_axis\u001b[0m\u001b[0;34m(\u001b[0m\u001b[0mlabels\u001b[0m\u001b[0;34m,\u001b[0m \u001b[0maxis\u001b[0m\u001b[0;34m,\u001b[0m \u001b[0mlevel\u001b[0m\u001b[0;34m=\u001b[0m\u001b[0mlevel\u001b[0m\u001b[0;34m,\u001b[0m \u001b[0merrors\u001b[0m\u001b[0;34m=\u001b[0m\u001b[0merrors\u001b[0m\u001b[0;34m)\u001b[0m\u001b[0;34m\u001b[0m\u001b[0m\n\u001b[0m\u001b[1;32m   3112\u001b[0m \u001b[0;34m\u001b[0m\u001b[0m\n\u001b[1;32m   3113\u001b[0m         \u001b[0;32mif\u001b[0m \u001b[0minplace\u001b[0m\u001b[0;34m:\u001b[0m\u001b[0;34m\u001b[0m\u001b[0m\n",
      "\u001b[0;32m/opt/conda/lib/python3.6/site-packages/pandas/core/generic.py\u001b[0m in \u001b[0;36m_drop_axis\u001b[0;34m(self, labels, axis, level, errors)\u001b[0m\n\u001b[1;32m   3141\u001b[0m                 \u001b[0mnew_axis\u001b[0m \u001b[0;34m=\u001b[0m \u001b[0maxis\u001b[0m\u001b[0;34m.\u001b[0m\u001b[0mdrop\u001b[0m\u001b[0;34m(\u001b[0m\u001b[0mlabels\u001b[0m\u001b[0;34m,\u001b[0m \u001b[0mlevel\u001b[0m\u001b[0;34m=\u001b[0m\u001b[0mlevel\u001b[0m\u001b[0;34m,\u001b[0m \u001b[0merrors\u001b[0m\u001b[0;34m=\u001b[0m\u001b[0merrors\u001b[0m\u001b[0;34m)\u001b[0m\u001b[0;34m\u001b[0m\u001b[0m\n\u001b[1;32m   3142\u001b[0m             \u001b[0;32melse\u001b[0m\u001b[0;34m:\u001b[0m\u001b[0;34m\u001b[0m\u001b[0m\n\u001b[0;32m-> 3143\u001b[0;31m                 \u001b[0mnew_axis\u001b[0m \u001b[0;34m=\u001b[0m \u001b[0maxis\u001b[0m\u001b[0;34m.\u001b[0m\u001b[0mdrop\u001b[0m\u001b[0;34m(\u001b[0m\u001b[0mlabels\u001b[0m\u001b[0;34m,\u001b[0m \u001b[0merrors\u001b[0m\u001b[0;34m=\u001b[0m\u001b[0merrors\u001b[0m\u001b[0;34m)\u001b[0m\u001b[0;34m\u001b[0m\u001b[0m\n\u001b[0m\u001b[1;32m   3144\u001b[0m             \u001b[0mresult\u001b[0m \u001b[0;34m=\u001b[0m \u001b[0mself\u001b[0m\u001b[0;34m.\u001b[0m\u001b[0mreindex\u001b[0m\u001b[0;34m(\u001b[0m\u001b[0;34m**\u001b[0m\u001b[0;34m{\u001b[0m\u001b[0maxis_name\u001b[0m\u001b[0;34m:\u001b[0m \u001b[0mnew_axis\u001b[0m\u001b[0;34m}\u001b[0m\u001b[0;34m)\u001b[0m\u001b[0;34m\u001b[0m\u001b[0m\n\u001b[1;32m   3145\u001b[0m \u001b[0;34m\u001b[0m\u001b[0m\n",
      "\u001b[0;32m/opt/conda/lib/python3.6/site-packages/pandas/core/indexes/base.py\u001b[0m in \u001b[0;36mdrop\u001b[0;34m(self, labels, errors)\u001b[0m\n\u001b[1;32m   4402\u001b[0m             \u001b[0;32mif\u001b[0m \u001b[0merrors\u001b[0m \u001b[0;34m!=\u001b[0m \u001b[0;34m'ignore'\u001b[0m\u001b[0;34m:\u001b[0m\u001b[0;34m\u001b[0m\u001b[0m\n\u001b[1;32m   4403\u001b[0m                 raise KeyError(\n\u001b[0;32m-> 4404\u001b[0;31m                     '{} not found in axis'.format(labels[mask]))\n\u001b[0m\u001b[1;32m   4405\u001b[0m             \u001b[0mindexer\u001b[0m \u001b[0;34m=\u001b[0m \u001b[0mindexer\u001b[0m\u001b[0;34m[\u001b[0m\u001b[0;34m~\u001b[0m\u001b[0mmask\u001b[0m\u001b[0;34m]\u001b[0m\u001b[0;34m\u001b[0m\u001b[0m\n\u001b[1;32m   4406\u001b[0m         \u001b[0;32mreturn\u001b[0m \u001b[0mself\u001b[0m\u001b[0;34m.\u001b[0m\u001b[0mdelete\u001b[0m\u001b[0;34m(\u001b[0m\u001b[0mindexer\u001b[0m\u001b[0;34m)\u001b[0m\u001b[0;34m\u001b[0m\u001b[0m\n",
      "\u001b[0;31mKeyError\u001b[0m: \"['LP_LEBENSPHASE_FEIN'] not found in axis\""
     ]
    }
   ],
   "source": [
    "# If there are other re-engineering tasks you need to perform, make sure you\n",
    "# take care of them here. (Dealing with missing data will come in step 2.1.)\n",
    "for feature in mixed_feat_info:\n",
    "    encoded_azdias.drop(feature, axis =1 , inplace = True )\n"
   ]
  },
  {
   "cell_type": "code",
   "execution_count": null,
   "metadata": {},
   "outputs": [],
   "source": [
    "# Do whatever you need to in order to ensure that the dataframe only contains\n",
    "# the columns that should be passed to the algorithm functions.\n",
    "\n",
    "encoded_azdias.tail()"
   ]
  },
  {
   "cell_type": "markdown",
   "metadata": {},
   "source": [
    "### Step 1.3: Create a Cleaning Function\n",
    "\n",
    "Even though you've finished cleaning up the general population demographics data, it's important to look ahead to the future and realize that you'll need to perform the same cleaning steps on the customer demographics data. In this substep, complete the function below to execute the main feature selection, encoding, and re-engineering steps you performed above. Then, when it comes to looking at the customer data in Step 3, you can just run this function on that DataFrame to get the trimmed dataset in a single step."
   ]
  },
  {
   "cell_type": "code",
   "execution_count": null,
   "metadata": {},
   "outputs": [],
   "source": [
    "def clean_data(df):\n",
    "    \"\"\"\n",
    "    Perform feature trimming, re-encoding, and engineering for demographics\n",
    "    data\n",
    "    \n",
    "    INPUT: Demographics DataFrame\n",
    "    \n",
    "    OUTPUT: Trimmed and cleaned demographics DataFrame\n",
    "    \"\"\"\n",
    "    # Load in the general demographics data.\n",
    "    azdias = pd.read_csv('Udacity_AZDIAS_Subset.csv', sep=';')\n",
    "\n",
    "    # Load in the feature summary file.\n",
    "    feat_info = pd.read_csv('AZDIAS_Feature_Summary.csv',  sep=';')\n",
    "    \n",
    "    \n",
    "    # Identify missing or unknown data values and convert them to NaNs.\n",
    "\n",
    "    # Identify missing or unknown data values and convert them to NaNs.\n",
    "    for column in range(feat_info.shape[1]):\n",
    "        missing_or_unknown = feat_info.iloc[column]['missing_or_unknown'].strip('[]').split(',')\n",
    "        missing_or_unknown = [value if value!='X' and value!='XX' and float(value)!='') else value for value in missing_or_unknown]\n",
    "        if missing_or_unknown != ['']:\n",
    "            azdias = azdias.replace({feat_info.iloc[column]['attribute']: missing_or_unknown}, np.nan)\n",
    "            \n",
    "    for column in azdias.columns:\n",
    "        azdias=azdias.replace({col:['XX','X']},np.nan)\n",
    "    missed = azdias.isnull().sum()\n",
    "    missed\n",
    "    #dropped whatis value more than  200 K, so we can count values more than 30 and values less than 30 \n",
    "    missed_less_200k = missed[missed <= 200000 ]\n",
    "    missed_more_200k  =  missed[missed >= 200000 ]\n",
    "    #print ('number of than 200k is {}'.format(missed_more_200K.shape[0]))\n",
    "    \n",
    "    #remove data with more than 200000 missing values \n",
    "    azdias.drop(missed_more_200k.index, axis=1, inplace=True)\n",
    "    # Put in code here to execute all main cleaning steps:\n",
    "    \n",
    "    # How much data is missing in each row of the dataset?\n",
    "    missed_1 = azdias.isnull().sum(axis =1)\n",
    "    \n",
    "    # Write code to divide the data into two subsets based on the number of missing\n",
    "    # values in each row.\n",
    "\n",
    "    missed_less_20 = azdias [missed_1 < 20 ]\n",
    "    missed_more_20  =  azdias [missed_1 >= 20 ]\n",
    "    print ('number of than 20 is {}'.format(missed_more_20.shape[0]))\n",
    "        \n",
    "        \n",
    "     #How many features are there of each data type?\n",
    "    feat_type =  feat_info.type.value_counts()\n",
    "    new_feat_info = feat_info[feat_info['type'] == 'categorical']\n",
    "    \n",
    "    categorical_attrib =  feat_info[feat_info['type'] == 'categorical']['attribute'].values\n",
    "    categorical_attrib  = [x for x in categorical_attrib  if x in missed_less_20.columns] \n",
    "    \n",
    "    # Assess categorical variables: which are binary, which are multi-level, and\n",
    "# which one needs to be re-encoded?\n",
    "    multi_feature=[]\n",
    "    single_feature = []\n",
    "    binary_feature =[]\n",
    "    for x in categorical_attrib :\n",
    "        if (len(missed_less_20[x].unique())>2):\n",
    "            multi_feature.append(x)\n",
    "        elif (len(missed_less_20[x].unique())==2):\n",
    "            binary_feature.append(x)\n",
    "    print ('mulit feature {}'.format(multi_feature))\n",
    "    \n",
    "    # Re-encode categorical variable(s) to be kept in the analysis.\n",
    "    encoded_azdias = missed_less_20.replace({'OST_WEST_KZ':{'W':0,'O':1}})\n",
    "    \n",
    "    #dropping mulitfeature \n",
    "    for feature in multi_feature:\n",
    "        encoded_azdias.drop(feature , axis=1 )\n",
    "    \n",
    "    mixed_feat_info = feat_info[feat_info['type'] == 'mixed']['attribute'].values\n",
    "    mixed_feat_info = [x for x in mixed_feat_info if x in missed_less_20.columns] \n",
    "    azdias[mixed_feat_info].nunique()\n",
    "    \n",
    "    \n",
    "    new_feat_info = feat_info[feat_info['type'] == 'mixed']\n",
    "    cdata_missing_below30 = pd.get_dummies(cdata_missing_below30, columns=multi_level)\n",
    "    # Investigate \"PRAEGENDE_JUGENDJAHRE\" and engineer two new variables.\n",
    "    encoded_azdias['DECADE'] = encoded_azdias['PRAEGENDE_JUGENDJAHRE']\n",
    "    encoded_azdias['MOVEMENT'] = encoded_azdias['PRAEGENDE_JUGENDJAHRE']\n",
    "    decade_dict = {1:1, 2:1, 3:2, 4:2, 5:3, 6:3, 7:3, 8:4, 9:4, 10:5, 11:5, 12:5, 13:5, 14:6, 15:6}\n",
    "    movement_dict = {1:1, 2:0, 3:1, 4:0, 5:1, 6:0, 7:0, 8:1, 9:0, 10:1, 11:0, 12:1, 13:0, 14:1, 15:0}\n",
    "    wealth_dict = {'11':1, '12':1, '13':1, '14':1, '15':1, '21':2, '22':2, '23':2, '24':2, '25':2, '31':3, '32':3, '33':3,\n",
    "               '34':3, '35':3, '41':4, '42':4, '43':4, '44':4, '45':4, '51':5, '52':5, '53':5, '54':5, '55':5}\n",
    "\n",
    "    life_stage_dict = {'11':1, '12':2, '13':3, '14':4, '15':5, '21':1, '22':2, '23':3, '24':4, '25':5, '31':1, '32':2, '33':3, '34':4, '35':5, '41':1, '42':2, '43':3,\n",
    "                   '44':4, '45':5, '51':1, '52':2, '53':3, '54':4, '55':5}\n",
    "    \n",
    "    \n",
    "    # Investigate \"CAMEO_INTL_2015\" and engineer two new variables.\n",
    "    encoded_azdias['WEALTH'] = encoded_azdias['CAMEO_INTL_2015'] \n",
    "    encoded_azdias['LIFE_STAGE'] = encoded_azdias['CAMEO_INTL_2015']\n",
    "    \n",
    "    encoded_azdias['WEALTH'].replace(wealth_dict, inplace=True) \n",
    "    encoded_azdias['LIFE_STAGE'].replace(life_stage_dict, inplace=True)\n",
    "\n",
    "    # convert missing value codes into NaNs, ...\n",
    "    \n",
    "    \n",
    "    # remove selected columns and rows, ...\n",
    "\n",
    "    \n",
    "    # select, re-encode, and engineer column values.\n",
    "\n",
    "    \n",
    "    # Return the cleaned dataframe.\n",
    "    return encoded_azdias"
   ]
  },
  {
   "cell_type": "markdown",
   "metadata": {},
   "source": [
    "## Step 2: Feature Transformation\n",
    "\n",
    "### Step 2.1: Apply Feature Scaling\n",
    "\n",
    "Before we apply dimensionality reduction techniques to the data, we need to perform feature scaling so that the principal component vectors are not influenced by the natural differences in scale for features. Starting from this part of the project, you'll want to keep an eye on the [API reference page for sklearn](http://scikit-learn.org/stable/modules/classes.html) to help you navigate to all of the classes and functions that you'll need. In this substep, you'll need to check the following:\n",
    "\n",
    "- sklearn requires that data not have missing values in order for its estimators to work properly. So, before applying the scaler to your data, make sure that you've cleaned the DataFrame of the remaining missing values. This can be as simple as just removing all data points with missing data, or applying an [Imputer](http://scikit-learn.org/stable/modules/generated/sklearn.preprocessing.Imputer.html) to replace all missing values. You might also try a more complicated procedure where you temporarily remove missing values in order to compute the scaling parameters before re-introducing those missing values and applying imputation. Think about how much missing data you have and what possible effects each approach might have on your analysis, and justify your decision in the discussion section below.\n",
    "- For the actual scaling function, a [StandardScaler](http://scikit-learn.org/stable/modules/generated/sklearn.preprocessing.StandardScaler.html) instance is suggested, scaling each feature to mean 0 and standard deviation 1.\n",
    "- For these classes, you can make use of the `.fit_transform()` method to both fit a procedure to the data as well as apply the transformation to the data at the same time. Don't forget to keep the fit sklearn objects handy, since you'll be applying them to the customer demographics data towards the end of the project."
   ]
  },
  {
   "cell_type": "code",
   "execution_count": 54,
   "metadata": {
    "scrolled": true
   },
   "outputs": [
    {
     "name": "stdout",
     "output_type": "stream",
     "text": [
      "number of than 20 is 94493\n",
      "mulit feature ['CJT_GESAMTTYP', 'FINANZTYP', 'GFK_URLAUBERTYP', 'LP_FAMILIE_FEIN', 'LP_FAMILIE_GROB', 'LP_STATUS_FEIN', 'LP_STATUS_GROB', 'NATIONALITAET_KZ', 'SHOPPER_TYP', 'TITEL_KZ', 'VERS_TYP', 'ZABEOTYP', 'GEBAEUDETYP', 'CAMEO_DEUG_2015', 'CAMEO_DEU_2015']\n"
     ]
    }
   ],
   "source": [
    "# If you've not yet cleaned the dataset of all NaN values, then investigate and\n",
    "# do that now.\n",
    "df = clean_data(azdias)"
   ]
  },
  {
   "cell_type": "code",
   "execution_count": 115,
   "metadata": {},
   "outputs": [
    {
     "name": "stdout",
     "output_type": "stream",
     "text": [
      "<class 'pandas.core.frame.DataFrame'>\n",
      "Int64Index: 695414 entries, 1 to 891220\n",
      "Data columns (total 87 columns):\n",
      "ALTERSKATEGORIE_GROB     695414 non-null float64\n",
      "ANREDE_KZ                695414 non-null int64\n",
      "CJT_GESAMTTYP            695414 non-null float64\n",
      "FINANZ_MINIMALIST        695414 non-null int64\n",
      "FINANZ_SPARER            695414 non-null int64\n",
      "FINANZ_VORSORGER         695414 non-null int64\n",
      "FINANZ_ANLEGER           695414 non-null int64\n",
      "FINANZ_UNAUFFAELLIGER    695414 non-null int64\n",
      "FINANZ_HAUSBAUER         695414 non-null int64\n",
      "FINANZTYP                695414 non-null int64\n",
      "GEBURTSJAHR              695414 non-null int64\n",
      "GFK_URLAUBERTYP          695414 non-null float64\n",
      "GREEN_AVANTGARDE         695414 non-null int64\n",
      "HEALTH_TYP               695414 non-null int64\n",
      "LP_LEBENSPHASE_FEIN      695414 non-null float64\n",
      "LP_LEBENSPHASE_GROB      695414 non-null float64\n",
      "LP_FAMILIE_FEIN          695414 non-null float64\n",
      "LP_FAMILIE_GROB          695414 non-null float64\n",
      "LP_STATUS_FEIN           695414 non-null float64\n",
      "LP_STATUS_GROB           695414 non-null float64\n",
      "NATIONALITAET_KZ         695414 non-null int64\n",
      "PRAEGENDE_JUGENDJAHRE    695414 non-null int64\n",
      "RETOURTYP_BK_S           695414 non-null float64\n",
      "SEMIO_SOZ                695414 non-null int64\n",
      "SEMIO_FAM                695414 non-null int64\n",
      "SEMIO_REL                695414 non-null int64\n",
      "SEMIO_MAT                695414 non-null int64\n",
      "SEMIO_VERT               695414 non-null int64\n",
      "SEMIO_LUST               695414 non-null int64\n",
      "SEMIO_ERL                695414 non-null int64\n",
      "SEMIO_KULT               695414 non-null int64\n",
      "SEMIO_RAT                695414 non-null int64\n",
      "SEMIO_KRIT               695414 non-null int64\n",
      "SEMIO_DOM                695414 non-null int64\n",
      "SEMIO_KAEM               695414 non-null int64\n",
      "SEMIO_PFLICHT            695414 non-null int64\n",
      "SEMIO_TRADV              695414 non-null int64\n",
      "SHOPPER_TYP              695414 non-null int64\n",
      "SOHO_KZ                  695414 non-null float64\n",
      "TITEL_KZ                 695414 non-null float64\n",
      "VERS_TYP                 695414 non-null int64\n",
      "ZABEOTYP                 695414 non-null int64\n",
      "ALTER_HH                 695414 non-null float64\n",
      "ANZ_PERSONEN             695414 non-null float64\n",
      "ANZ_TITEL                695414 non-null float64\n",
      "HH_EINKOMMEN_SCORE       695414 non-null float64\n",
      "W_KEIT_KIND_HH           695414 non-null float64\n",
      "WOHNDAUER_2008           695414 non-null float64\n",
      "ANZ_HAUSHALTE_AKTIV      695414 non-null float64\n",
      "ANZ_HH_TITEL             695414 non-null float64\n",
      "GEBAEUDETYP              695414 non-null float64\n",
      "KONSUMNAEHE              695414 non-null float64\n",
      "MIN_GEBAEUDEJAHR         695414 non-null float64\n",
      "OST_WEST_KZ              695414 non-null int64\n",
      "WOHNLAGE                 695414 non-null float64\n",
      "CAMEO_DEUG_2015          695414 non-null object\n",
      "CAMEO_DEU_2015           695414 non-null object\n",
      "CAMEO_INTL_2015          695414 non-null object\n",
      "KBA05_ANTG1              695414 non-null float64\n",
      "KBA05_ANTG2              695414 non-null float64\n",
      "KBA05_ANTG3              695414 non-null float64\n",
      "KBA05_ANTG4              695414 non-null float64\n",
      "KBA05_BAUMAX             695414 non-null float64\n",
      "KBA05_GBZ                695414 non-null float64\n",
      "BALLRAUM                 695414 non-null float64\n",
      "EWDICHTE                 695414 non-null float64\n",
      "INNENSTADT               695414 non-null float64\n",
      "GEBAEUDETYP_RASTER       695414 non-null float64\n",
      "KKK                      695414 non-null float64\n",
      "MOBI_REGIO               695414 non-null float64\n",
      "ONLINE_AFFINITAET        695414 non-null float64\n",
      "REGIOTYP                 695414 non-null float64\n",
      "KBA13_ANZAHL_PKW         695414 non-null float64\n",
      "PLZ8_ANTG1               695414 non-null float64\n",
      "PLZ8_ANTG2               695414 non-null float64\n",
      "PLZ8_ANTG3               695414 non-null float64\n",
      "PLZ8_ANTG4               695414 non-null float64\n",
      "PLZ8_BAUMAX              695414 non-null float64\n",
      "PLZ8_HHZ                 695414 non-null float64\n",
      "PLZ8_GBZ                 695414 non-null float64\n",
      "ARBEIT                   695414 non-null float64\n",
      "ORTSGR_KLS9              695414 non-null float64\n",
      "RELAT_AB                 695414 non-null float64\n",
      "DECADE                   695414 non-null int64\n",
      "MOVEMENT                 695414 non-null int64\n",
      "WEALTH                   695414 non-null object\n",
      "LIFE_STAGE               695414 non-null object\n",
      "dtypes: float64(49), int64(33), object(5)\n",
      "memory usage: 466.9+ MB\n"
     ]
    }
   ],
   "source": [
    "df_1.info()"
   ]
  },
  {
   "cell_type": "code",
   "execution_count": 80,
   "metadata": {},
   "outputs": [
    {
     "name": "stdout",
     "output_type": "stream",
     "text": [
      "<class 'pandas.core.frame.DataFrame'>\n",
      "Int64Index: 695414 entries, 1 to 891220\n",
      "Data columns (total 87 columns):\n",
      "ALTERSKATEGORIE_GROB     695414 non-null float64\n",
      "ANREDE_KZ                695414 non-null int64\n",
      "CJT_GESAMTTYP            695414 non-null float64\n",
      "FINANZ_MINIMALIST        695414 non-null int64\n",
      "FINANZ_SPARER            695414 non-null int64\n",
      "FINANZ_VORSORGER         695414 non-null int64\n",
      "FINANZ_ANLEGER           695414 non-null int64\n",
      "FINANZ_UNAUFFAELLIGER    695414 non-null int64\n",
      "FINANZ_HAUSBAUER         695414 non-null int64\n",
      "FINANZTYP                695414 non-null int64\n",
      "GEBURTSJAHR              695414 non-null int64\n",
      "GFK_URLAUBERTYP          695414 non-null float64\n",
      "GREEN_AVANTGARDE         695414 non-null int64\n",
      "HEALTH_TYP               695414 non-null int64\n",
      "LP_LEBENSPHASE_FEIN      695414 non-null float64\n",
      "LP_LEBENSPHASE_GROB      695414 non-null float64\n",
      "LP_FAMILIE_FEIN          695414 non-null float64\n",
      "LP_FAMILIE_GROB          695414 non-null float64\n",
      "LP_STATUS_FEIN           695414 non-null float64\n",
      "LP_STATUS_GROB           695414 non-null float64\n",
      "NATIONALITAET_KZ         695414 non-null int64\n",
      "PRAEGENDE_JUGENDJAHRE    695414 non-null int64\n",
      "RETOURTYP_BK_S           695414 non-null float64\n",
      "SEMIO_SOZ                695414 non-null int64\n",
      "SEMIO_FAM                695414 non-null int64\n",
      "SEMIO_REL                695414 non-null int64\n",
      "SEMIO_MAT                695414 non-null int64\n",
      "SEMIO_VERT               695414 non-null int64\n",
      "SEMIO_LUST               695414 non-null int64\n",
      "SEMIO_ERL                695414 non-null int64\n",
      "SEMIO_KULT               695414 non-null int64\n",
      "SEMIO_RAT                695414 non-null int64\n",
      "SEMIO_KRIT               695414 non-null int64\n",
      "SEMIO_DOM                695414 non-null int64\n",
      "SEMIO_KAEM               695414 non-null int64\n",
      "SEMIO_PFLICHT            695414 non-null int64\n",
      "SEMIO_TRADV              695414 non-null int64\n",
      "SHOPPER_TYP              695414 non-null int64\n",
      "SOHO_KZ                  695414 non-null float64\n",
      "TITEL_KZ                 695414 non-null float64\n",
      "VERS_TYP                 695414 non-null int64\n",
      "ZABEOTYP                 695414 non-null int64\n",
      "ALTER_HH                 695414 non-null float64\n",
      "ANZ_PERSONEN             695414 non-null float64\n",
      "ANZ_TITEL                695414 non-null float64\n",
      "HH_EINKOMMEN_SCORE       695414 non-null float64\n",
      "W_KEIT_KIND_HH           695414 non-null float64\n",
      "WOHNDAUER_2008           695414 non-null float64\n",
      "ANZ_HAUSHALTE_AKTIV      695414 non-null float64\n",
      "ANZ_HH_TITEL             695414 non-null float64\n",
      "GEBAEUDETYP              695414 non-null float64\n",
      "KONSUMNAEHE              695414 non-null float64\n",
      "MIN_GEBAEUDEJAHR         695414 non-null float64\n",
      "OST_WEST_KZ              695414 non-null int64\n",
      "WOHNLAGE                 695414 non-null float64\n",
      "CAMEO_DEUG_2015          695414 non-null object\n",
      "CAMEO_DEU_2015           695414 non-null object\n",
      "CAMEO_INTL_2015          695414 non-null object\n",
      "KBA05_ANTG1              695414 non-null float64\n",
      "KBA05_ANTG2              695414 non-null float64\n",
      "KBA05_ANTG3              695414 non-null float64\n",
      "KBA05_ANTG4              695414 non-null float64\n",
      "KBA05_BAUMAX             695414 non-null float64\n",
      "KBA05_GBZ                695414 non-null float64\n",
      "BALLRAUM                 695414 non-null float64\n",
      "EWDICHTE                 695414 non-null float64\n",
      "INNENSTADT               695414 non-null float64\n",
      "GEBAEUDETYP_RASTER       695414 non-null float64\n",
      "KKK                      695414 non-null float64\n",
      "MOBI_REGIO               695414 non-null float64\n",
      "ONLINE_AFFINITAET        695414 non-null float64\n",
      "REGIOTYP                 695414 non-null float64\n",
      "KBA13_ANZAHL_PKW         695414 non-null float64\n",
      "PLZ8_ANTG1               695414 non-null float64\n",
      "PLZ8_ANTG2               695414 non-null float64\n",
      "PLZ8_ANTG3               695414 non-null float64\n",
      "PLZ8_ANTG4               695414 non-null float64\n",
      "PLZ8_BAUMAX              695414 non-null float64\n",
      "PLZ8_HHZ                 695414 non-null float64\n",
      "PLZ8_GBZ                 695414 non-null float64\n",
      "ARBEIT                   695414 non-null float64\n",
      "ORTSGR_KLS9              695414 non-null float64\n",
      "RELAT_AB                 695414 non-null float64\n",
      "DECADE                   695414 non-null int64\n",
      "MOVEMENT                 695414 non-null int64\n",
      "WEALTH                   695414 non-null object\n",
      "LIFE_STAGE               695414 non-null object\n",
      "dtypes: float64(49), int64(33), object(5)\n",
      "memory usage: 466.9+ MB\n"
     ]
    }
   ],
   "source": [
    "df_1.info()"
   ]
  },
  {
   "cell_type": "markdown",
   "metadata": {},
   "source": [
    "#### check  precentage of null in every column "
   ]
  },
  {
   "cell_type": "code",
   "execution_count": 61,
   "metadata": {
    "scrolled": true
   },
   "outputs": [
    {
     "data": {
      "text/plain": [
       "KBA05_ANTG4              0.167488\n",
       "ANZ_HH_TITEL             0.118021\n",
       "KBA05_ANTG3              0.082045\n",
       "PLZ8_ANTG4               0.040661\n",
       "KBA05_ANTG2              0.040487\n",
       "KBA05_BAUMAX             0.036875\n",
       "KBA05_ANTG1              0.034290\n",
       "PLZ8_ANTG3               0.017819\n",
       "MOBI_REGIO               0.017290\n",
       "KBA05_GBZ                0.016222\n",
       "PLZ8_BAUMAX              0.014625\n",
       "KKK                      0.013404\n",
       "PLZ8_ANTG1               0.012616\n",
       "W_KEIT_KIND_HH           0.010814\n",
       "PLZ8_ANTG2               0.010146\n",
       "PLZ8_GBZ                 0.008408\n",
       "REGIOTYP                 0.008163\n",
       "PLZ8_HHZ                 0.007869\n",
       "LP_FAMILIE_GROB          0.002550\n",
       "LP_STATUS_GROB           0.002383\n",
       "ONLINE_AFFINITAET        0.002145\n",
       "RETOURTYP_BK_S           0.001702\n",
       "CJT_GESAMTTYP            0.001673\n",
       "RELAT_AB                 0.001665\n",
       "ARBEIT                   0.001615\n",
       "LP_FAMILIE_FEIN          0.001550\n",
       "ALTERSKATEGORIE_GROB     0.001261\n",
       "LP_LEBENSPHASE_GROB      0.001252\n",
       "LP_STATUS_FEIN           0.001224\n",
       "ORTSGR_KLS9              0.000967\n",
       "                           ...   \n",
       "PRAEGENDE_JUGENDJAHRE    0.000000\n",
       "HEALTH_TYP               0.000000\n",
       "HH_EINKOMMEN_SCORE       0.000000\n",
       "SEMIO_ERL                0.000000\n",
       "SEMIO_FAM                0.000000\n",
       "OST_WEST_KZ              0.000000\n",
       "SEMIO_KAEM               0.000000\n",
       "NATIONALITAET_KZ         0.000000\n",
       "MOVEMENT                 0.000000\n",
       "SEMIO_KRIT               0.000000\n",
       "MIN_GEBAEUDEJAHR         0.000000\n",
       "SEMIO_KULT               0.000000\n",
       "SEMIO_LUST               0.000000\n",
       "SEMIO_MAT                0.000000\n",
       "SEMIO_PFLICHT            0.000000\n",
       "SEMIO_RAT                0.000000\n",
       "SEMIO_REL                0.000000\n",
       "SEMIO_SOZ                0.000000\n",
       "SEMIO_TRADV              0.000000\n",
       "SEMIO_VERT               0.000000\n",
       "SHOPPER_TYP              0.000000\n",
       "SOHO_KZ                  0.000000\n",
       "TITEL_KZ                 0.000000\n",
       "SEMIO_DOM                0.000000\n",
       "ZABEOTYP                 0.000000\n",
       "CAMEO_DEUG_2015               NaN\n",
       "CAMEO_DEU_2015                NaN\n",
       "CAMEO_INTL_2015               NaN\n",
       "LIFE_STAGE                    NaN\n",
       "WEALTH                        NaN\n",
       "Length: 87, dtype: float64"
      ]
     },
     "execution_count": 61,
     "metadata": {},
     "output_type": "execute_result"
    }
   ],
   "source": [
    "(df.isnull().sum()/df.sum()).sort_values(ascending= False)"
   ]
  },
  {
   "cell_type": "code",
   "execution_count": 62,
   "metadata": {
    "scrolled": true
   },
   "outputs": [],
   "source": [
    "df_1= df.dropna()"
   ]
  },
  {
   "cell_type": "code",
   "execution_count": 63,
   "metadata": {},
   "outputs": [
    {
     "data": {
      "text/plain": [
       "0.12716259501360563"
      ]
     },
     "execution_count": 63,
     "metadata": {},
     "output_type": "execute_result"
    }
   ],
   "source": [
    "#the percentage of null rows  in data \n",
    "(df.shape[0] - df_1.shape[0])/df.shape[0]"
   ]
  },
  {
   "cell_type": "code",
   "execution_count": 66,
   "metadata": {},
   "outputs": [
    {
     "data": {
      "text/plain": [
       "dtype('O')"
      ]
     },
     "execution_count": 66,
     "metadata": {},
     "output_type": "execute_result"
    }
   ],
   "source": [
    "df['WEALTH'].dtype"
   ]
  },
  {
   "cell_type": "code",
   "execution_count": 112,
   "metadata": {
    "scrolled": true
   },
   "outputs": [
    {
     "data": {
      "text/plain": [
       "0"
      ]
     },
     "execution_count": 112,
     "metadata": {},
     "output_type": "execute_result"
    }
   ],
   "source": [
    "df_1.isnull().sum().sum()"
   ]
  },
  {
   "cell_type": "code",
   "execution_count": 124,
   "metadata": {},
   "outputs": [
    {
     "name": "stderr",
     "output_type": "stream",
     "text": [
      "/opt/conda/lib/python3.6/site-packages/ipykernel_launcher.py:1: FutureWarning: convert_objects is deprecated.  To re-infer data dtypes for object columns, use DataFrame.infer_objects()\n",
      "For all other conversions use the data-type specific converters pd.to_datetime, pd.to_timedelta and pd.to_numeric.\n",
      "  \"\"\"Entry point for launching an IPython kernel.\n"
     ]
    },
    {
     "name": "stdout",
     "output_type": "stream",
     "text": [
      "<class 'pandas.core.frame.DataFrame'>\n",
      "Int64Index: 695414 entries, 1 to 891220\n",
      "Data columns (total 87 columns):\n",
      "ALTERSKATEGORIE_GROB     695414 non-null float64\n",
      "ANREDE_KZ                695414 non-null int64\n",
      "CJT_GESAMTTYP            695414 non-null float64\n",
      "FINANZ_MINIMALIST        695414 non-null int64\n",
      "FINANZ_SPARER            695414 non-null int64\n",
      "FINANZ_VORSORGER         695414 non-null int64\n",
      "FINANZ_ANLEGER           695414 non-null int64\n",
      "FINANZ_UNAUFFAELLIGER    695414 non-null int64\n",
      "FINANZ_HAUSBAUER         695414 non-null int64\n",
      "FINANZTYP                695414 non-null int64\n",
      "GEBURTSJAHR              695414 non-null int64\n",
      "GFK_URLAUBERTYP          695414 non-null float64\n",
      "GREEN_AVANTGARDE         695414 non-null int64\n",
      "HEALTH_TYP               695414 non-null int64\n",
      "LP_LEBENSPHASE_FEIN      695414 non-null float64\n",
      "LP_LEBENSPHASE_GROB      695414 non-null float64\n",
      "LP_FAMILIE_FEIN          695414 non-null float64\n",
      "LP_FAMILIE_GROB          695414 non-null float64\n",
      "LP_STATUS_FEIN           695414 non-null float64\n",
      "LP_STATUS_GROB           695414 non-null float64\n",
      "NATIONALITAET_KZ         695414 non-null int64\n",
      "PRAEGENDE_JUGENDJAHRE    695414 non-null int64\n",
      "RETOURTYP_BK_S           695414 non-null float64\n",
      "SEMIO_SOZ                695414 non-null int64\n",
      "SEMIO_FAM                695414 non-null int64\n",
      "SEMIO_REL                695414 non-null int64\n",
      "SEMIO_MAT                695414 non-null int64\n",
      "SEMIO_VERT               695414 non-null int64\n",
      "SEMIO_LUST               695414 non-null int64\n",
      "SEMIO_ERL                695414 non-null int64\n",
      "SEMIO_KULT               695414 non-null int64\n",
      "SEMIO_RAT                695414 non-null int64\n",
      "SEMIO_KRIT               695414 non-null int64\n",
      "SEMIO_DOM                695414 non-null int64\n",
      "SEMIO_KAEM               695414 non-null int64\n",
      "SEMIO_PFLICHT            695414 non-null int64\n",
      "SEMIO_TRADV              695414 non-null int64\n",
      "SHOPPER_TYP              695414 non-null int64\n",
      "SOHO_KZ                  695414 non-null float64\n",
      "TITEL_KZ                 695414 non-null float64\n",
      "VERS_TYP                 695414 non-null int64\n",
      "ZABEOTYP                 695414 non-null int64\n",
      "ALTER_HH                 695414 non-null float64\n",
      "ANZ_PERSONEN             695414 non-null float64\n",
      "ANZ_TITEL                695414 non-null float64\n",
      "HH_EINKOMMEN_SCORE       695414 non-null float64\n",
      "W_KEIT_KIND_HH           695414 non-null float64\n",
      "WOHNDAUER_2008           695414 non-null float64\n",
      "ANZ_HAUSHALTE_AKTIV      695414 non-null float64\n",
      "ANZ_HH_TITEL             695414 non-null float64\n",
      "GEBAEUDETYP              695414 non-null float64\n",
      "KONSUMNAEHE              695414 non-null float64\n",
      "MIN_GEBAEUDEJAHR         695414 non-null float64\n",
      "OST_WEST_KZ              695414 non-null int64\n",
      "WOHNLAGE                 695414 non-null float64\n",
      "CAMEO_DEUG_2015          695169 non-null float64\n",
      "CAMEO_DEU_2015           618568 non-null object\n",
      "CAMEO_INTL_2015          695169 non-null float64\n",
      "KBA05_ANTG1              695414 non-null float64\n",
      "KBA05_ANTG2              695414 non-null float64\n",
      "KBA05_ANTG3              695414 non-null float64\n",
      "KBA05_ANTG4              695414 non-null float64\n",
      "KBA05_BAUMAX             695414 non-null float64\n",
      "KBA05_GBZ                695414 non-null float64\n",
      "BALLRAUM                 695414 non-null float64\n",
      "EWDICHTE                 695414 non-null float64\n",
      "INNENSTADT               695414 non-null float64\n",
      "GEBAEUDETYP_RASTER       695414 non-null float64\n",
      "KKK                      695414 non-null float64\n",
      "MOBI_REGIO               695414 non-null float64\n",
      "ONLINE_AFFINITAET        695414 non-null float64\n",
      "REGIOTYP                 695414 non-null float64\n",
      "KBA13_ANZAHL_PKW         695414 non-null float64\n",
      "PLZ8_ANTG1               695414 non-null float64\n",
      "PLZ8_ANTG2               695414 non-null float64\n",
      "PLZ8_ANTG3               695414 non-null float64\n",
      "PLZ8_ANTG4               695414 non-null float64\n",
      "PLZ8_BAUMAX              695414 non-null float64\n",
      "PLZ8_HHZ                 695414 non-null float64\n",
      "PLZ8_GBZ                 695414 non-null float64\n",
      "ARBEIT                   695414 non-null float64\n",
      "ORTSGR_KLS9              695414 non-null float64\n",
      "RELAT_AB                 695414 non-null float64\n",
      "DECADE                   695414 non-null int64\n",
      "MOVEMENT                 695414 non-null int64\n",
      "WEALTH                   695169 non-null float64\n",
      "LIFE_STAGE               695169 non-null float64\n",
      "dtypes: float64(53), int64(33), object(1)\n",
      "memory usage: 466.9+ MB\n"
     ]
    }
   ],
   "source": [
    "df_1.convert_objects(convert_numeric=True).info()"
   ]
  },
  {
   "cell_type": "code",
   "execution_count": 120,
   "metadata": {},
   "outputs": [
    {
     "name": "stderr",
     "output_type": "stream",
     "text": [
      "/opt/conda/lib/python3.6/site-packages/pandas/core/frame.py:3798: SettingWithCopyWarning: \n",
      "A value is trying to be set on a copy of a slice from a DataFrame\n",
      "\n",
      "See the caveats in the documentation: http://pandas.pydata.org/pandas-docs/stable/indexing.html#indexing-view-versus-copy\n",
      "  method=method)\n"
     ]
    }
   ],
   "source": []
  },
  {
   "cell_type": "code",
   "execution_count": 125,
   "metadata": {
    "scrolled": true
   },
   "outputs": [
    {
     "ename": "ValueError",
     "evalue": "could not convert string to float: '5A'",
     "output_type": "error",
     "traceback": [
      "\u001b[0;31m---------------------------------------------------------------------------\u001b[0m",
      "\u001b[0;31mValueError\u001b[0m                                Traceback (most recent call last)",
      "\u001b[0;32m<ipython-input-125-d816c58cdcbd>\u001b[0m in \u001b[0;36m<module>\u001b[0;34m()\u001b[0m\n\u001b[1;32m      1\u001b[0m \u001b[0;31m# Imput of missed data\u001b[0m\u001b[0;34m\u001b[0m\u001b[0;34m\u001b[0m\u001b[0m\n\u001b[1;32m      2\u001b[0m \u001b[0mfill_missing\u001b[0m \u001b[0;34m=\u001b[0m \u001b[0mImputer\u001b[0m\u001b[0;34m(\u001b[0m\u001b[0mstrategy\u001b[0m\u001b[0;34m=\u001b[0m\u001b[0;34m'mean'\u001b[0m\u001b[0;34m)\u001b[0m\u001b[0;34m\u001b[0m\u001b[0m\n\u001b[0;32m----> 3\u001b[0;31m \u001b[0mdf_imputed\u001b[0m  \u001b[0;34m=\u001b[0m \u001b[0mpd\u001b[0m\u001b[0;34m.\u001b[0m\u001b[0mDataFrame\u001b[0m\u001b[0;34m(\u001b[0m\u001b[0mfill_missing\u001b[0m \u001b[0;34m.\u001b[0m\u001b[0mfit_transform\u001b[0m\u001b[0;34m(\u001b[0m\u001b[0mdf_1\u001b[0m\u001b[0;34m)\u001b[0m\u001b[0;34m)\u001b[0m\u001b[0;34m\u001b[0m\u001b[0m\n\u001b[0m",
      "\u001b[0;32m/opt/conda/lib/python3.6/site-packages/sklearn/base.py\u001b[0m in \u001b[0;36mfit_transform\u001b[0;34m(self, X, y, **fit_params)\u001b[0m\n\u001b[1;32m    515\u001b[0m         \u001b[0;32mif\u001b[0m \u001b[0my\u001b[0m \u001b[0;32mis\u001b[0m \u001b[0;32mNone\u001b[0m\u001b[0;34m:\u001b[0m\u001b[0;34m\u001b[0m\u001b[0m\n\u001b[1;32m    516\u001b[0m             \u001b[0;31m# fit method of arity 1 (unsupervised transformation)\u001b[0m\u001b[0;34m\u001b[0m\u001b[0;34m\u001b[0m\u001b[0m\n\u001b[0;32m--> 517\u001b[0;31m             \u001b[0;32mreturn\u001b[0m \u001b[0mself\u001b[0m\u001b[0;34m.\u001b[0m\u001b[0mfit\u001b[0m\u001b[0;34m(\u001b[0m\u001b[0mX\u001b[0m\u001b[0;34m,\u001b[0m \u001b[0;34m**\u001b[0m\u001b[0mfit_params\u001b[0m\u001b[0;34m)\u001b[0m\u001b[0;34m.\u001b[0m\u001b[0mtransform\u001b[0m\u001b[0;34m(\u001b[0m\u001b[0mX\u001b[0m\u001b[0;34m)\u001b[0m\u001b[0;34m\u001b[0m\u001b[0m\n\u001b[0m\u001b[1;32m    518\u001b[0m         \u001b[0;32melse\u001b[0m\u001b[0;34m:\u001b[0m\u001b[0;34m\u001b[0m\u001b[0m\n\u001b[1;32m    519\u001b[0m             \u001b[0;31m# fit method of arity 2 (supervised transformation)\u001b[0m\u001b[0;34m\u001b[0m\u001b[0;34m\u001b[0m\u001b[0m\n",
      "\u001b[0;32m/opt/conda/lib/python3.6/site-packages/sklearn/preprocessing/imputation.py\u001b[0m in \u001b[0;36mfit\u001b[0;34m(self, X, y)\u001b[0m\n\u001b[1;32m    153\u001b[0m         \u001b[0;32mif\u001b[0m \u001b[0mself\u001b[0m\u001b[0;34m.\u001b[0m\u001b[0maxis\u001b[0m \u001b[0;34m==\u001b[0m \u001b[0;36m0\u001b[0m\u001b[0;34m:\u001b[0m\u001b[0;34m\u001b[0m\u001b[0m\n\u001b[1;32m    154\u001b[0m             X = check_array(X, accept_sparse='csc', dtype=np.float64,\n\u001b[0;32m--> 155\u001b[0;31m                             force_all_finite=False)\n\u001b[0m\u001b[1;32m    156\u001b[0m \u001b[0;34m\u001b[0m\u001b[0m\n\u001b[1;32m    157\u001b[0m             \u001b[0;32mif\u001b[0m \u001b[0msparse\u001b[0m\u001b[0;34m.\u001b[0m\u001b[0missparse\u001b[0m\u001b[0;34m(\u001b[0m\u001b[0mX\u001b[0m\u001b[0;34m)\u001b[0m\u001b[0;34m:\u001b[0m\u001b[0;34m\u001b[0m\u001b[0m\n",
      "\u001b[0;32m/opt/conda/lib/python3.6/site-packages/sklearn/utils/validation.py\u001b[0m in \u001b[0;36mcheck_array\u001b[0;34m(array, accept_sparse, dtype, order, copy, force_all_finite, ensure_2d, allow_nd, ensure_min_samples, ensure_min_features, warn_on_dtype, estimator)\u001b[0m\n\u001b[1;32m    431\u001b[0m                                       force_all_finite)\n\u001b[1;32m    432\u001b[0m     \u001b[0;32melse\u001b[0m\u001b[0;34m:\u001b[0m\u001b[0;34m\u001b[0m\u001b[0m\n\u001b[0;32m--> 433\u001b[0;31m         \u001b[0marray\u001b[0m \u001b[0;34m=\u001b[0m \u001b[0mnp\u001b[0m\u001b[0;34m.\u001b[0m\u001b[0marray\u001b[0m\u001b[0;34m(\u001b[0m\u001b[0marray\u001b[0m\u001b[0;34m,\u001b[0m \u001b[0mdtype\u001b[0m\u001b[0;34m=\u001b[0m\u001b[0mdtype\u001b[0m\u001b[0;34m,\u001b[0m \u001b[0morder\u001b[0m\u001b[0;34m=\u001b[0m\u001b[0morder\u001b[0m\u001b[0;34m,\u001b[0m \u001b[0mcopy\u001b[0m\u001b[0;34m=\u001b[0m\u001b[0mcopy\u001b[0m\u001b[0;34m)\u001b[0m\u001b[0;34m\u001b[0m\u001b[0m\n\u001b[0m\u001b[1;32m    434\u001b[0m \u001b[0;34m\u001b[0m\u001b[0m\n\u001b[1;32m    435\u001b[0m         \u001b[0;32mif\u001b[0m \u001b[0mensure_2d\u001b[0m\u001b[0;34m:\u001b[0m\u001b[0;34m\u001b[0m\u001b[0m\n",
      "\u001b[0;31mValueError\u001b[0m: could not convert string to float: '5A'"
     ]
    }
   ],
   "source": [
    "# Imput of missed data \n",
    "fill_missing = Imputer(strategy='mean')\n",
    "df_imputed  = pd.DataFrame(fill_missing .fit_transform(df_1))"
   ]
  },
  {
   "cell_type": "code",
   "execution_count": null,
   "metadata": {},
   "outputs": [],
   "source": []
  },
  {
   "cell_type": "code",
   "execution_count": null,
   "metadata": {},
   "outputs": [],
   "source": [
    "# Apply feature scaling to the general population demographics data.\n",
    "scaler = StandardScaler()\n",
    "scaler.fit(df)\n"
   ]
  },
  {
   "cell_type": "markdown",
   "metadata": {},
   "source": [
    "### Discussion 2.1: Apply Feature Scaling\n",
    "\n",
    "(Double-click this cell and replace this text with your own text, reporting your decisions regarding feature scaling.)"
   ]
  },
  {
   "cell_type": "markdown",
   "metadata": {},
   "source": [
    "### Step 2.2: Perform Dimensionality Reduction\n",
    "\n",
    "On your scaled data, you are now ready to apply dimensionality reduction techniques.\n",
    "\n",
    "- Use sklearn's [PCA](http://scikit-learn.org/stable/modules/generated/sklearn.decomposition.PCA.html) class to apply principal component analysis on the data, thus finding the vectors of maximal variance in the data. To start, you should not set any parameters (so all components are computed) or set a number of components that is at least half the number of features (so there's enough features to see the general trend in variability).\n",
    "- Check out the ratio of variance explained by each principal component as well as the cumulative variance explained. Try plotting the cumulative or sequential values using matplotlib's [`plot()`](https://matplotlib.org/api/_as_gen/matplotlib.pyplot.plot.html) function. Based on what you find, select a value for the number of transformed features you'll retain for the clustering part of the project.\n",
    "- Once you've made a choice for the number of components to keep, make sure you re-fit a PCA instance to perform the decided-on transformation."
   ]
  },
  {
   "cell_type": "code",
   "execution_count": null,
   "metadata": {},
   "outputs": [],
   "source": [
    "# Apply PCA to the data.\n",
    "\n"
   ]
  },
  {
   "cell_type": "code",
   "execution_count": null,
   "metadata": {},
   "outputs": [],
   "source": [
    "# Investigate the variance accounted for by each principal component.\n",
    "\n"
   ]
  },
  {
   "cell_type": "code",
   "execution_count": null,
   "metadata": {},
   "outputs": [],
   "source": [
    "# Re-apply PCA to the data while selecting for number of components to retain.\n",
    "\n"
   ]
  },
  {
   "cell_type": "markdown",
   "metadata": {},
   "source": [
    "### Discussion 2.2: Perform Dimensionality Reduction\n",
    "\n",
    "(Double-click this cell and replace this text with your own text, reporting your findings and decisions regarding dimensionality reduction. How many principal components / transformed features are you retaining for the next step of the analysis?)"
   ]
  },
  {
   "cell_type": "markdown",
   "metadata": {},
   "source": [
    "### Step 2.3: Interpret Principal Components\n",
    "\n",
    "Now that we have our transformed principal components, it's a nice idea to check out the weight of each variable on the first few components to see if they can be interpreted in some fashion.\n",
    "\n",
    "As a reminder, each principal component is a unit vector that points in the direction of highest variance (after accounting for the variance captured by earlier principal components). The further a weight is from zero, the more the principal component is in the direction of the corresponding feature. If two features have large weights of the same sign (both positive or both negative), then increases in one tend expect to be associated with increases in the other. To contrast, features with different signs can be expected to show a negative correlation: increases in one variable should result in a decrease in the other.\n",
    "\n",
    "- To investigate the features, you should map each weight to their corresponding feature name, then sort the features according to weight. The most interesting features for each principal component, then, will be those at the beginning and end of the sorted list. Use the data dictionary document to help you understand these most prominent features, their relationships, and what a positive or negative value on the principal component might indicate.\n",
    "- You should investigate and interpret feature associations from the first three principal components in this substep. To help facilitate this, you should write a function that you can call at any time to print the sorted list of feature weights, for the *i*-th principal component. This might come in handy in the next step of the project, when you interpret the tendencies of the discovered clusters."
   ]
  },
  {
   "cell_type": "code",
   "execution_count": null,
   "metadata": {},
   "outputs": [],
   "source": [
    "# Map weights for the first principal component to corresponding feature names\n",
    "# and then print the linked values, sorted by weight.\n",
    "# HINT: Try defining a function here or in a new cell that you can reuse in the\n",
    "# other cells.\n",
    "\n"
   ]
  },
  {
   "cell_type": "code",
   "execution_count": null,
   "metadata": {},
   "outputs": [],
   "source": [
    "# Map weights for the second principal component to corresponding feature names\n",
    "# and then print the linked values, sorted by weight.\n",
    "\n"
   ]
  },
  {
   "cell_type": "code",
   "execution_count": null,
   "metadata": {},
   "outputs": [],
   "source": [
    "# Map weights for the third principal component to corresponding feature names\n",
    "# and then print the linked values, sorted by weight.\n",
    "\n"
   ]
  },
  {
   "cell_type": "markdown",
   "metadata": {},
   "source": [
    "### Discussion 2.3: Interpret Principal Components\n",
    "\n",
    "(Double-click this cell and replace this text with your own text, reporting your observations from detailed investigation of the first few principal components generated. Can we interpret positive and negative values from them in a meaningful way?)"
   ]
  },
  {
   "cell_type": "markdown",
   "metadata": {},
   "source": [
    "## Step 3: Clustering\n",
    "\n",
    "### Step 3.1: Apply Clustering to General Population\n",
    "\n",
    "You've assessed and cleaned the demographics data, then scaled and transformed them. Now, it's time to see how the data clusters in the principal components space. In this substep, you will apply k-means clustering to the dataset and use the average within-cluster distances from each point to their assigned cluster's centroid to decide on a number of clusters to keep.\n",
    "\n",
    "- Use sklearn's [KMeans](http://scikit-learn.org/stable/modules/generated/sklearn.cluster.KMeans.html#sklearn.cluster.KMeans) class to perform k-means clustering on the PCA-transformed data.\n",
    "- Then, compute the average difference from each point to its assigned cluster's center. **Hint**: The KMeans object's `.score()` method might be useful here, but note that in sklearn, scores tend to be defined so that larger is better. Try applying it to a small, toy dataset, or use an internet search to help your understanding.\n",
    "- Perform the above two steps for a number of different cluster counts. You can then see how the average distance decreases with an increasing number of clusters. However, each additional cluster provides a smaller net benefit. Use this fact to select a final number of clusters in which to group the data. **Warning**: because of the large size of the dataset, it can take a long time for the algorithm to resolve. The more clusters to fit, the longer the algorithm will take. You should test for cluster counts through at least 10 clusters to get the full picture, but you shouldn't need to test for a number of clusters above about 30.\n",
    "- Once you've selected a final number of clusters to use, re-fit a KMeans instance to perform the clustering operation. Make sure that you also obtain the cluster assignments for the general demographics data, since you'll be using them in the final Step 3.3."
   ]
  },
  {
   "cell_type": "code",
   "execution_count": null,
   "metadata": {},
   "outputs": [],
   "source": [
    "# Over a number of different cluster counts...\n",
    "\n",
    "\n",
    "    # run k-means clustering on the data and...\n",
    "    \n",
    "    \n",
    "    # compute the average within-cluster distances.\n",
    "    \n",
    "    "
   ]
  },
  {
   "cell_type": "code",
   "execution_count": null,
   "metadata": {},
   "outputs": [],
   "source": [
    "# Investigate the change in within-cluster distance across number of clusters.\n",
    "# HINT: Use matplotlib's plot function to visualize this relationship.\n",
    "\n"
   ]
  },
  {
   "cell_type": "code",
   "execution_count": null,
   "metadata": {},
   "outputs": [],
   "source": [
    "# Re-fit the k-means model with the selected number of clusters and obtain\n",
    "# cluster predictions for the general population demographics data.\n",
    "\n"
   ]
  },
  {
   "cell_type": "markdown",
   "metadata": {},
   "source": [
    "### Discussion 3.1: Apply Clustering to General Population\n",
    "\n",
    "(Double-click this cell and replace this text with your own text, reporting your findings and decisions regarding clustering. Into how many clusters have you decided to segment the population?)"
   ]
  },
  {
   "cell_type": "markdown",
   "metadata": {},
   "source": [
    "### Step 3.2: Apply All Steps to the Customer Data\n",
    "\n",
    "Now that you have clusters and cluster centers for the general population, it's time to see how the customer data maps on to those clusters. Take care to not confuse this for re-fitting all of the models to the customer data. Instead, you're going to use the fits from the general population to clean, transform, and cluster the customer data. In the last step of the project, you will interpret how the general population fits apply to the customer data.\n",
    "\n",
    "- Don't forget when loading in the customers data, that it is semicolon (`;`) delimited.\n",
    "- Apply the same feature wrangling, selection, and engineering steps to the customer demographics using the `clean_data()` function you created earlier. (You can assume that the customer demographics data has similar meaning behind missing data patterns as the general demographics data.)\n",
    "- Use the sklearn objects from the general demographics data, and apply their transformations to the customers data. That is, you should not be using a `.fit()` or `.fit_transform()` method to re-fit the old objects, nor should you be creating new sklearn objects! Carry the data through the feature scaling, PCA, and clustering steps, obtaining cluster assignments for all of the data in the customer demographics data."
   ]
  },
  {
   "cell_type": "code",
   "execution_count": null,
   "metadata": {},
   "outputs": [],
   "source": [
    "# Load in the customer demographics data.\n",
    "customers = "
   ]
  },
  {
   "cell_type": "code",
   "execution_count": null,
   "metadata": {},
   "outputs": [],
   "source": [
    "# Apply preprocessing, feature transformation, and clustering from the general\n",
    "# demographics onto the customer data, obtaining cluster predictions for the\n",
    "# customer demographics data.\n",
    "\n"
   ]
  },
  {
   "cell_type": "markdown",
   "metadata": {},
   "source": [
    "### Step 3.3: Compare Customer Data to Demographics Data\n",
    "\n",
    "At this point, you have clustered data based on demographics of the general population of Germany, and seen how the customer data for a mail-order sales company maps onto those demographic clusters. In this final substep, you will compare the two cluster distributions to see where the strongest customer base for the company is.\n",
    "\n",
    "Consider the proportion of persons in each cluster for the general population, and the proportions for the customers. If we think the company's customer base to be universal, then the cluster assignment proportions should be fairly similar between the two. If there are only particular segments of the population that are interested in the company's products, then we should see a mismatch from one to the other. If there is a higher proportion of persons in a cluster for the customer data compared to the general population (e.g. 5% of persons are assigned to a cluster for the general population, but 15% of the customer data is closest to that cluster's centroid) then that suggests the people in that cluster to be a target audience for the company. On the other hand, the proportion of the data in a cluster being larger in the general population than the customer data (e.g. only 2% of customers closest to a population centroid that captures 6% of the data) suggests that group of persons to be outside of the target demographics.\n",
    "\n",
    "Take a look at the following points in this step:\n",
    "\n",
    "- Compute the proportion of data points in each cluster for the general population and the customer data. Visualizations will be useful here: both for the individual dataset proportions, but also to visualize the ratios in cluster representation between groups. Seaborn's [`countplot()`](https://seaborn.pydata.org/generated/seaborn.countplot.html) or [`barplot()`](https://seaborn.pydata.org/generated/seaborn.barplot.html) function could be handy.\n",
    "  - Recall the analysis you performed in step 1.1.3 of the project, where you separated out certain data points from the dataset if they had more than a specified threshold of missing values. If you found that this group was qualitatively different from the main bulk of the data, you should treat this as an additional data cluster in this analysis. Make sure that you account for the number of data points in this subset, for both the general population and customer datasets, when making your computations!\n",
    "- Which cluster or clusters are overrepresented in the customer dataset compared to the general population? Select at least one such cluster and infer what kind of people might be represented by that cluster. Use the principal component interpretations from step 2.3 or look at additional components to help you make this inference. Alternatively, you can use the `.inverse_transform()` method of the PCA and StandardScaler objects to transform centroids back to the original data space and interpret the retrieved values directly.\n",
    "- Perform a similar investigation for the underrepresented clusters. Which cluster or clusters are underrepresented in the customer dataset compared to the general population, and what kinds of people are typified by these clusters?"
   ]
  },
  {
   "cell_type": "code",
   "execution_count": null,
   "metadata": {},
   "outputs": [],
   "source": [
    "# Compare the proportion of data in each cluster for the customer data to the\n",
    "# proportion of data in each cluster for the general population.\n",
    "\n"
   ]
  },
  {
   "cell_type": "code",
   "execution_count": null,
   "metadata": {},
   "outputs": [],
   "source": [
    "# What kinds of people are part of a cluster that is overrepresented in the\n",
    "# customer data compared to the general population?\n",
    "\n"
   ]
  },
  {
   "cell_type": "code",
   "execution_count": null,
   "metadata": {},
   "outputs": [],
   "source": [
    "# What kinds of people are part of a cluster that is underrepresented in the\n",
    "# customer data compared to the general population?\n",
    "\n"
   ]
  },
  {
   "cell_type": "markdown",
   "metadata": {},
   "source": [
    "### Discussion 3.3: Compare Customer Data to Demographics Data\n",
    "\n",
    "(Double-click this cell and replace this text with your own text, reporting findings and conclusions from the clustering analysis. Can we describe segments of the population that are relatively popular with the mail-order company, or relatively unpopular with the company?)"
   ]
  },
  {
   "cell_type": "markdown",
   "metadata": {},
   "source": [
    "> Congratulations on making it this far in the project! Before you finish, make sure to check through the entire notebook from top to bottom to make sure that your analysis follows a logical flow and all of your findings are documented in **Discussion** cells. Once you've checked over all of your work, you should export the notebook as an HTML document to submit for evaluation. You can do this from the menu, navigating to **File -> Download as -> HTML (.html)**. You will submit both that document and this notebook for your project submission."
   ]
  },
  {
   "cell_type": "code",
   "execution_count": null,
   "metadata": {},
   "outputs": [],
   "source": []
  }
 ],
 "metadata": {
  "kernelspec": {
   "display_name": "Python 3",
   "language": "python",
   "name": "python3"
  }
 },
 "nbformat": 4,
 "nbformat_minor": 2
}
